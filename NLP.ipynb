{
  "nbformat": 4,
  "nbformat_minor": 0,
  "metadata": {
    "colab": {
      "name": "NLP.ipynb",
      "provenance": [],
      "collapsed_sections": []
    },
    "kernelspec": {
      "name": "python3",
      "display_name": "Python 3"
    },
    "language_info": {
      "name": "python"
    }
  },
  "cells": [
    {
      "cell_type": "code",
      "metadata": {
        "id": "IQuJvBDCcguk",
        "outputId": "5bfe9d65-6a20-4e50-8390-4c0c9e807f5c",
        "colab": {
          "base_uri": "https://localhost:8080/"
        }
      },
      "source": [
        "import json\n",
        "import os\n",
        "!git clone https://github.com/IndioP/Projeto_NLP"
      ],
      "execution_count": 1,
      "outputs": [
        {
          "output_type": "stream",
          "name": "stdout",
          "text": [
            "Cloning into 'Projeto_NLP'...\n",
            "remote: Enumerating objects: 202, done.\u001b[K\n",
            "remote: Counting objects: 100% (202/202), done.\u001b[K\n",
            "remote: Compressing objects: 100% (27/27), done.\u001b[K\n",
            "remote: Total 202 (delta 184), reused 182 (delta 173), pack-reused 0\u001b[K\n",
            "Receiving objects: 100% (202/202), 27.09 MiB | 17.94 MiB/s, done.\n",
            "Resolving deltas: 100% (184/184), done.\n",
            "Checking out files: 100% (183/183), done.\n"
          ]
        }
      ]
    },
    {
      "cell_type": "code",
      "metadata": {
        "id": "o6OjTMKuh2U_"
      },
      "source": [
        "data = list()\n",
        "services_names = set()\n",
        "for path_train in ['Projeto_NLP/files/train/','Projeto_NLP/files/test/','Projeto_NLP/files/dev/']:\n",
        "  for file_name in os.listdir(path_train):\n",
        "    with open(path_train+file_name, 'r') as f:\n",
        "      data2 = json.load(f)\n",
        "      for item in data2:\n",
        "        for service in item['services']:\n",
        "          services_names.add(service)\n",
        "        \n",
        "    \n",
        "      data += data2\n"
      ],
      "execution_count": 2,
      "outputs": []
    },
    {
      "cell_type": "code",
      "metadata": {
        "colab": {
          "base_uri": "https://localhost:8080/"
        },
        "id": "NvUPILJYjjdu",
        "outputId": "16ae9c66-5976-423e-ff29-69903178b7f9"
      },
      "source": [
        "#dando uma checada nos serviços do dataset\n",
        "services_names"
      ],
      "execution_count": 3,
      "outputs": [
        {
          "output_type": "execute_result",
          "data": {
            "text/plain": [
              "{'Alarm_1',\n",
              " 'Banks_1',\n",
              " 'Banks_2',\n",
              " 'Buses_1',\n",
              " 'Buses_2',\n",
              " 'Buses_3',\n",
              " 'Calendar_1',\n",
              " 'Events_1',\n",
              " 'Events_2',\n",
              " 'Events_3',\n",
              " 'Flights_1',\n",
              " 'Flights_2',\n",
              " 'Flights_3',\n",
              " 'Flights_4',\n",
              " 'Homes_1',\n",
              " 'Homes_2',\n",
              " 'Hotels_1',\n",
              " 'Hotels_2',\n",
              " 'Hotels_3',\n",
              " 'Hotels_4',\n",
              " 'Media_1',\n",
              " 'Media_2',\n",
              " 'Media_3',\n",
              " 'Messaging_1',\n",
              " 'Movies_1',\n",
              " 'Movies_2',\n",
              " 'Movies_3',\n",
              " 'Music_1',\n",
              " 'Music_2',\n",
              " 'Music_3',\n",
              " 'Payment_1',\n",
              " 'RentalCars_1',\n",
              " 'RentalCars_2',\n",
              " 'RentalCars_3',\n",
              " 'Restaurants_1',\n",
              " 'Restaurants_2',\n",
              " 'RideSharing_1',\n",
              " 'RideSharing_2',\n",
              " 'Services_1',\n",
              " 'Services_2',\n",
              " 'Services_3',\n",
              " 'Services_4',\n",
              " 'Trains_1',\n",
              " 'Travel_1',\n",
              " 'Weather_1'}"
            ]
          },
          "metadata": {},
          "execution_count": 3
        }
      ]
    },
    {
      "cell_type": "code",
      "metadata": {
        "colab": {
          "base_uri": "https://localhost:8080/"
        },
        "id": "WDiFFcnQ4-hW",
        "outputId": "959d986e-e48b-48b6-88ec-2b78d3ea192a"
      },
      "source": [
        "print(len(data))"
      ],
      "execution_count": 4,
      "outputs": [
        {
          "output_type": "stream",
          "name": "stdout",
          "text": [
            "22825\n"
          ]
        }
      ]
    },
    {
      "cell_type": "code",
      "metadata": {
        "id": "2s7-a4W03MBs"
      },
      "source": [
        "data = [item for item in data if ('Restaurants_1' in item['services'] or 'Restaurants_2' in item['services'])]"
      ],
      "execution_count": 5,
      "outputs": []
    },
    {
      "cell_type": "code",
      "metadata": {
        "colab": {
          "base_uri": "https://localhost:8080/"
        },
        "id": "LI6wo1uL43H5",
        "outputId": "c9f0ee48-516a-432e-c2b7-981179dc7d2d"
      },
      "source": [
        "print(len(data))"
      ],
      "execution_count": 6,
      "outputs": [
        {
          "output_type": "stream",
          "name": "stdout",
          "text": [
            "3218\n"
          ]
        }
      ]
    },
    {
      "cell_type": "code",
      "metadata": {
        "colab": {
          "base_uri": "https://localhost:8080/"
        },
        "id": "uIGdk5z05Dny",
        "outputId": "208ed2b7-2b39-4256-abf0-4069b4932e81"
      },
      "source": [
        "print(data[0])"
      ],
      "execution_count": 7,
      "outputs": [
        {
          "output_type": "stream",
          "name": "stdout",
          "text": [
            "{'dialogue_id': '60_00099', 'services': ['Events_1', 'Restaurants_1'], 'turns': [{'frames': [{'actions': [{'act': 'INFORM_INTENT', 'canonical_values': ['BuyEventTickets'], 'slot': 'intent', 'values': ['BuyEventTickets']}], 'service': 'Events_1', 'slots': [], 'state': {'active_intent': 'BuyEventTickets', 'requested_slots': [], 'slot_values': {}}}], 'speaker': 'USER', 'utterance': 'I am looking for tickets to an event.'}, {'frames': [{'actions': [{'act': 'REQUEST', 'canonical_values': [], 'slot': 'event_name', 'values': []}], 'service': 'Events_1', 'slots': []}], 'speaker': 'SYSTEM', 'utterance': 'Do you have a specific event in mind?'}, {'frames': [{'actions': [{'act': 'INFORM', 'canonical_values': ['Phutureprimitive'], 'slot': 'event_name', 'values': ['Phutureprimitive']}, {'act': 'INFORM', 'canonical_values': ['3'], 'slot': 'number_of_seats', 'values': ['3']}], 'service': 'Events_1', 'slots': [{'exclusive_end': 46, 'slot': 'event_name', 'start': 30}], 'state': {'active_intent': 'BuyEventTickets', 'requested_slots': [], 'slot_values': {'event_name': ['Phutureprimitive'], 'number_of_seats': ['3']}}}], 'speaker': 'USER', 'utterance': 'Yes, I want three tickets for Phutureprimitive.'}, {'frames': [{'actions': [{'act': 'REQUEST', 'canonical_values': [], 'slot': 'city_of_event', 'values': []}, {'act': 'REQUEST', 'canonical_values': [], 'slot': 'date', 'values': []}], 'service': 'Events_1', 'slots': []}], 'speaker': 'SYSTEM', 'utterance': 'What city are you looking in? Do you have a specific date?'}, {'frames': [{'actions': [{'act': 'INFORM', 'canonical_values': ['Berkeley'], 'slot': 'city_of_event', 'values': ['Berkeley']}, {'act': 'INFORM', 'canonical_values': ['2019-03-09'], 'slot': 'date', 'values': ['9th of this month']}], 'service': 'Events_1', 'slots': [{'exclusive_end': 30, 'slot': 'city_of_event', 'start': 22}, {'exclusive_end': 67, 'slot': 'date', 'start': 50}], 'state': {'active_intent': 'BuyEventTickets', 'requested_slots': [], 'slot_values': {'city_of_event': ['Berkeley'], 'date': ['9th of this month'], 'event_name': ['Phutureprimitive'], 'number_of_seats': ['3']}}}], 'speaker': 'USER', 'utterance': 'They are playing near Berkeley. I think it is the 9th of this month.'}, {'frames': [{'actions': [{'act': 'CONFIRM', 'canonical_values': ['Phutureprimitive'], 'slot': 'event_name', 'values': ['Phutureprimitive']}, {'act': 'CONFIRM', 'canonical_values': ['3'], 'slot': 'number_of_seats', 'values': ['3']}, {'act': 'CONFIRM', 'canonical_values': ['2019-03-09'], 'slot': 'date', 'values': ['March 9th']}, {'act': 'CONFIRM', 'canonical_values': ['Berkeley'], 'slot': 'city_of_event', 'values': ['Berkeley']}], 'service': 'Events_1', 'slots': [{'exclusive_end': 75, 'slot': 'event_name', 'start': 59}, {'exclusive_end': 101, 'slot': 'date', 'start': 92}, {'exclusive_end': 88, 'slot': 'city_of_event', 'start': 80}]}], 'speaker': 'SYSTEM', 'utterance': 'Please confirm your request. You are getting 3 tickets for Phutureprimitive, in Berkeley on March 9th.'}, {'frames': [{'actions': [{'act': 'REQUEST', 'canonical_values': [], 'slot': 'time', 'values': []}, {'act': 'REQUEST', 'canonical_values': [], 'slot': 'event_location', 'values': []}, {'act': 'AFFIRM', 'canonical_values': [], 'slot': '', 'values': []}], 'service': 'Events_1', 'slots': [], 'state': {'active_intent': 'BuyEventTickets', 'requested_slots': ['event_location', 'time'], 'slot_values': {'city_of_event': ['Berkeley'], 'date': ['9th of this month', 'March 9th'], 'event_name': ['Phutureprimitive'], 'number_of_seats': ['3']}}}], 'speaker': 'USER', 'utterance': \"Yes, that's correct. Where is that event happening? What time does it start?\"}, {'frames': [{'actions': [{'act': 'INFORM', 'canonical_values': ['Cornerstone Craft Beer & Live Music'], 'slot': 'event_location', 'values': ['Cornerstone Craft Beer & Live Music']}, {'act': 'INFORM', 'canonical_values': ['18:30'], 'slot': 'time', 'values': ['6:30 pm']}, {'act': 'NOTIFY_SUCCESS', 'canonical_values': [], 'slot': '', 'values': []}], 'service': 'Events_1', 'service_call': {'method': 'BuyEventTickets', 'parameters': {'city_of_event': 'Berkeley', 'date': '2019-03-09', 'event_name': 'Phutureprimitive', 'number_of_seats': '3'}}, 'service_results': [{'address_of_location': '2367 Shattuck Avenue', 'city_of_event': 'Berkeley', 'date': '2019-03-09', 'event_location': 'Cornerstone Craft Beer & Live Music', 'event_name': 'Phutureprimitive', 'number_of_seats': '3', 'time': '18:30'}], 'slots': [{'exclusive_end': 113, 'slot': 'event_location', 'start': 78}, {'exclusive_end': 74, 'slot': 'time', 'start': 67}]}], 'speaker': 'SYSTEM', 'utterance': 'Your reservation is confirmed. That event is scheduled to start at 6:30 pm at Cornerstone Craft Beer & Live Music.'}, {'frames': [{'actions': [{'act': 'INFORM', 'canonical_values': ['Japanese'], 'slot': 'cuisine', 'values': ['Izakaya']}, {'act': 'INFORM_INTENT', 'canonical_values': ['FindRestaurants'], 'slot': 'intent', 'values': ['FindRestaurants']}], 'service': 'Restaurants_1', 'slots': [{'exclusive_end': 61, 'slot': 'cuisine', 'start': 54}], 'state': {'active_intent': 'FindRestaurants', 'requested_slots': [], 'slot_values': {'city': ['Berkeley'], 'cuisine': ['Izakaya']}}}], 'speaker': 'USER', 'utterance': 'Good. I also need to find a restaurant. Are there any Izakaya places near there?'}, {'frames': [{'actions': [{'act': 'OFFER', 'canonical_values': ['Iyasare'], 'slot': 'restaurant_name', 'values': ['Iyasare']}, {'act': 'OFFER', 'canonical_values': ['Berkeley'], 'slot': 'city', 'values': ['Berkeley']}, {'act': 'INFORM_COUNT', 'canonical_values': ['4'], 'slot': 'count', 'values': ['4']}], 'service': 'Restaurants_1', 'service_call': {'method': 'FindRestaurants', 'parameters': {'city': 'Berkeley', 'cuisine': 'Japanese'}}, 'service_results': [{'city': 'Berkeley', 'cuisine': 'Japanese', 'has_live_music': 'False', 'phone_number': '510-845-8100', 'price_range': 'expensive', 'restaurant_name': 'Iyasare', 'serves_alcohol': 'True', 'street_address': '1830 Fourth Street'}, {'city': 'Berkeley', 'cuisine': 'Japanese', 'has_live_music': 'False', 'phone_number': '510-848-5260', 'price_range': 'moderate', 'restaurant_name': 'Joshu-ya Brasserie', 'serves_alcohol': 'True', 'street_address': '2441 Dwight Way'}, {'city': 'Berkeley', 'cuisine': 'Japanese', 'has_live_music': 'False', 'phone_number': '510-540-5000', 'price_range': 'moderate', 'restaurant_name': 'Kamado Sushi', 'serves_alcohol': 'False', 'street_address': '1400 Shattuck Avenue'}, {'city': 'Berkeley', 'cuisine': 'Japanese', 'has_live_music': 'False', 'phone_number': '510-524-1286', 'price_range': 'inexpensive', 'restaurant_name': 'Miyuki Japanese Restaurant', 'serves_alcohol': 'True', 'street_address': '1695 Solano Avenue'}], 'slots': [{'exclusive_end': 59, 'slot': 'restaurant_name', 'start': 52}, {'exclusive_end': 90, 'slot': 'city', 'start': 82}]}], 'speaker': 'SYSTEM', 'utterance': \"I have 4 restaurants for you to consider. How about Iyasare? That's a nice one in Berkeley.\"}, {'frames': [{'actions': [{'act': 'REQUEST', 'canonical_values': ['expensive'], 'slot': 'price_range', 'values': ['expensive']}, {'act': 'REQUEST', 'canonical_values': [], 'slot': 'street_address', 'values': []}], 'service': 'Restaurants_1', 'slots': [], 'state': {'active_intent': 'FindRestaurants', 'requested_slots': ['price_range', 'street_address'], 'slot_values': {'city': ['Berkeley'], 'cuisine': ['Izakaya']}}}], 'speaker': 'USER', 'utterance': \"Is the price range above average? What's the address?\"}, {'frames': [{'actions': [{'act': 'INFORM', 'canonical_values': ['expensive'], 'slot': 'price_range', 'values': ['expensive']}, {'act': 'INFORM', 'canonical_values': ['1830 Fourth Street'], 'slot': 'street_address', 'values': ['1830 Fourth Street']}], 'service': 'Restaurants_1', 'slots': [{'exclusive_end': 69, 'slot': 'street_address', 'start': 51}]}], 'speaker': 'SYSTEM', 'utterance': \"Their price range is expensive. They're located at 1830 Fourth Street.\"}, {'frames': [{'actions': [{'act': 'SELECT', 'canonical_values': [], 'slot': '', 'values': []}], 'service': 'Restaurants_1', 'slots': [], 'state': {'active_intent': 'FindRestaurants', 'requested_slots': [], 'slot_values': {'city': ['Berkeley'], 'cuisine': ['Izakaya'], 'restaurant_name': ['Iyasare']}}}], 'speaker': 'USER', 'utterance': 'Yes, that sounds good.'}, {'frames': [{'actions': [{'act': 'OFFER_INTENT', 'canonical_values': ['ReserveRestaurant'], 'slot': 'intent', 'values': ['ReserveRestaurant']}], 'service': 'Restaurants_1', 'slots': []}], 'speaker': 'SYSTEM', 'utterance': 'Would you like to reserve now?'}, {'frames': [{'actions': [{'act': 'NEGATE_INTENT', 'canonical_values': [], 'slot': '', 'values': []}], 'service': 'Restaurants_1', 'slots': [], 'state': {'active_intent': 'NONE', 'requested_slots': [], 'slot_values': {'city': ['Berkeley'], 'cuisine': ['Izakaya'], 'restaurant_name': ['Iyasare']}}}], 'speaker': 'USER', 'utterance': 'No, not now. Thanks.'}, {'frames': [{'actions': [{'act': 'REQ_MORE', 'canonical_values': [], 'slot': '', 'values': []}], 'service': 'Restaurants_1', 'slots': []}], 'speaker': 'SYSTEM', 'utterance': 'Is there anything else that you need today?'}, {'frames': [{'actions': [{'act': 'NEGATE', 'canonical_values': [], 'slot': '', 'values': []}, {'act': 'THANK_YOU', 'canonical_values': [], 'slot': '', 'values': []}], 'service': 'Restaurants_1', 'slots': [], 'state': {'active_intent': 'NONE', 'requested_slots': [], 'slot_values': {'city': ['Berkeley'], 'cuisine': ['Izakaya'], 'restaurant_name': ['Iyasare']}}}], 'speaker': 'USER', 'utterance': \"No, that's all.\"}, {'frames': [{'actions': [{'act': 'GOODBYE', 'canonical_values': [], 'slot': '', 'values': []}], 'service': 'Restaurants_1', 'slots': []}], 'speaker': 'SYSTEM', 'utterance': 'Have a great day.'}]}\n"
          ]
        }
      ]
    },
    {
      "cell_type": "code",
      "metadata": {
        "colab": {
          "base_uri": "https://localhost:8080/"
        },
        "id": "F21AR5w15erl",
        "outputId": "a18b77dc-c6d9-4bc1-a117-f2c90f0bc163"
      },
      "source": [
        "print(json.dumps(data[0], indent=4, sort_keys=True))"
      ],
      "execution_count": 8,
      "outputs": [
        {
          "output_type": "stream",
          "name": "stdout",
          "text": [
            "{\n",
            "    \"dialogue_id\": \"60_00099\",\n",
            "    \"services\": [\n",
            "        \"Events_1\",\n",
            "        \"Restaurants_1\"\n",
            "    ],\n",
            "    \"turns\": [\n",
            "        {\n",
            "            \"frames\": [\n",
            "                {\n",
            "                    \"actions\": [\n",
            "                        {\n",
            "                            \"act\": \"INFORM_INTENT\",\n",
            "                            \"canonical_values\": [\n",
            "                                \"BuyEventTickets\"\n",
            "                            ],\n",
            "                            \"slot\": \"intent\",\n",
            "                            \"values\": [\n",
            "                                \"BuyEventTickets\"\n",
            "                            ]\n",
            "                        }\n",
            "                    ],\n",
            "                    \"service\": \"Events_1\",\n",
            "                    \"slots\": [],\n",
            "                    \"state\": {\n",
            "                        \"active_intent\": \"BuyEventTickets\",\n",
            "                        \"requested_slots\": [],\n",
            "                        \"slot_values\": {}\n",
            "                    }\n",
            "                }\n",
            "            ],\n",
            "            \"speaker\": \"USER\",\n",
            "            \"utterance\": \"I am looking for tickets to an event.\"\n",
            "        },\n",
            "        {\n",
            "            \"frames\": [\n",
            "                {\n",
            "                    \"actions\": [\n",
            "                        {\n",
            "                            \"act\": \"REQUEST\",\n",
            "                            \"canonical_values\": [],\n",
            "                            \"slot\": \"event_name\",\n",
            "                            \"values\": []\n",
            "                        }\n",
            "                    ],\n",
            "                    \"service\": \"Events_1\",\n",
            "                    \"slots\": []\n",
            "                }\n",
            "            ],\n",
            "            \"speaker\": \"SYSTEM\",\n",
            "            \"utterance\": \"Do you have a specific event in mind?\"\n",
            "        },\n",
            "        {\n",
            "            \"frames\": [\n",
            "                {\n",
            "                    \"actions\": [\n",
            "                        {\n",
            "                            \"act\": \"INFORM\",\n",
            "                            \"canonical_values\": [\n",
            "                                \"Phutureprimitive\"\n",
            "                            ],\n",
            "                            \"slot\": \"event_name\",\n",
            "                            \"values\": [\n",
            "                                \"Phutureprimitive\"\n",
            "                            ]\n",
            "                        },\n",
            "                        {\n",
            "                            \"act\": \"INFORM\",\n",
            "                            \"canonical_values\": [\n",
            "                                \"3\"\n",
            "                            ],\n",
            "                            \"slot\": \"number_of_seats\",\n",
            "                            \"values\": [\n",
            "                                \"3\"\n",
            "                            ]\n",
            "                        }\n",
            "                    ],\n",
            "                    \"service\": \"Events_1\",\n",
            "                    \"slots\": [\n",
            "                        {\n",
            "                            \"exclusive_end\": 46,\n",
            "                            \"slot\": \"event_name\",\n",
            "                            \"start\": 30\n",
            "                        }\n",
            "                    ],\n",
            "                    \"state\": {\n",
            "                        \"active_intent\": \"BuyEventTickets\",\n",
            "                        \"requested_slots\": [],\n",
            "                        \"slot_values\": {\n",
            "                            \"event_name\": [\n",
            "                                \"Phutureprimitive\"\n",
            "                            ],\n",
            "                            \"number_of_seats\": [\n",
            "                                \"3\"\n",
            "                            ]\n",
            "                        }\n",
            "                    }\n",
            "                }\n",
            "            ],\n",
            "            \"speaker\": \"USER\",\n",
            "            \"utterance\": \"Yes, I want three tickets for Phutureprimitive.\"\n",
            "        },\n",
            "        {\n",
            "            \"frames\": [\n",
            "                {\n",
            "                    \"actions\": [\n",
            "                        {\n",
            "                            \"act\": \"REQUEST\",\n",
            "                            \"canonical_values\": [],\n",
            "                            \"slot\": \"city_of_event\",\n",
            "                            \"values\": []\n",
            "                        },\n",
            "                        {\n",
            "                            \"act\": \"REQUEST\",\n",
            "                            \"canonical_values\": [],\n",
            "                            \"slot\": \"date\",\n",
            "                            \"values\": []\n",
            "                        }\n",
            "                    ],\n",
            "                    \"service\": \"Events_1\",\n",
            "                    \"slots\": []\n",
            "                }\n",
            "            ],\n",
            "            \"speaker\": \"SYSTEM\",\n",
            "            \"utterance\": \"What city are you looking in? Do you have a specific date?\"\n",
            "        },\n",
            "        {\n",
            "            \"frames\": [\n",
            "                {\n",
            "                    \"actions\": [\n",
            "                        {\n",
            "                            \"act\": \"INFORM\",\n",
            "                            \"canonical_values\": [\n",
            "                                \"Berkeley\"\n",
            "                            ],\n",
            "                            \"slot\": \"city_of_event\",\n",
            "                            \"values\": [\n",
            "                                \"Berkeley\"\n",
            "                            ]\n",
            "                        },\n",
            "                        {\n",
            "                            \"act\": \"INFORM\",\n",
            "                            \"canonical_values\": [\n",
            "                                \"2019-03-09\"\n",
            "                            ],\n",
            "                            \"slot\": \"date\",\n",
            "                            \"values\": [\n",
            "                                \"9th of this month\"\n",
            "                            ]\n",
            "                        }\n",
            "                    ],\n",
            "                    \"service\": \"Events_1\",\n",
            "                    \"slots\": [\n",
            "                        {\n",
            "                            \"exclusive_end\": 30,\n",
            "                            \"slot\": \"city_of_event\",\n",
            "                            \"start\": 22\n",
            "                        },\n",
            "                        {\n",
            "                            \"exclusive_end\": 67,\n",
            "                            \"slot\": \"date\",\n",
            "                            \"start\": 50\n",
            "                        }\n",
            "                    ],\n",
            "                    \"state\": {\n",
            "                        \"active_intent\": \"BuyEventTickets\",\n",
            "                        \"requested_slots\": [],\n",
            "                        \"slot_values\": {\n",
            "                            \"city_of_event\": [\n",
            "                                \"Berkeley\"\n",
            "                            ],\n",
            "                            \"date\": [\n",
            "                                \"9th of this month\"\n",
            "                            ],\n",
            "                            \"event_name\": [\n",
            "                                \"Phutureprimitive\"\n",
            "                            ],\n",
            "                            \"number_of_seats\": [\n",
            "                                \"3\"\n",
            "                            ]\n",
            "                        }\n",
            "                    }\n",
            "                }\n",
            "            ],\n",
            "            \"speaker\": \"USER\",\n",
            "            \"utterance\": \"They are playing near Berkeley. I think it is the 9th of this month.\"\n",
            "        },\n",
            "        {\n",
            "            \"frames\": [\n",
            "                {\n",
            "                    \"actions\": [\n",
            "                        {\n",
            "                            \"act\": \"CONFIRM\",\n",
            "                            \"canonical_values\": [\n",
            "                                \"Phutureprimitive\"\n",
            "                            ],\n",
            "                            \"slot\": \"event_name\",\n",
            "                            \"values\": [\n",
            "                                \"Phutureprimitive\"\n",
            "                            ]\n",
            "                        },\n",
            "                        {\n",
            "                            \"act\": \"CONFIRM\",\n",
            "                            \"canonical_values\": [\n",
            "                                \"3\"\n",
            "                            ],\n",
            "                            \"slot\": \"number_of_seats\",\n",
            "                            \"values\": [\n",
            "                                \"3\"\n",
            "                            ]\n",
            "                        },\n",
            "                        {\n",
            "                            \"act\": \"CONFIRM\",\n",
            "                            \"canonical_values\": [\n",
            "                                \"2019-03-09\"\n",
            "                            ],\n",
            "                            \"slot\": \"date\",\n",
            "                            \"values\": [\n",
            "                                \"March 9th\"\n",
            "                            ]\n",
            "                        },\n",
            "                        {\n",
            "                            \"act\": \"CONFIRM\",\n",
            "                            \"canonical_values\": [\n",
            "                                \"Berkeley\"\n",
            "                            ],\n",
            "                            \"slot\": \"city_of_event\",\n",
            "                            \"values\": [\n",
            "                                \"Berkeley\"\n",
            "                            ]\n",
            "                        }\n",
            "                    ],\n",
            "                    \"service\": \"Events_1\",\n",
            "                    \"slots\": [\n",
            "                        {\n",
            "                            \"exclusive_end\": 75,\n",
            "                            \"slot\": \"event_name\",\n",
            "                            \"start\": 59\n",
            "                        },\n",
            "                        {\n",
            "                            \"exclusive_end\": 101,\n",
            "                            \"slot\": \"date\",\n",
            "                            \"start\": 92\n",
            "                        },\n",
            "                        {\n",
            "                            \"exclusive_end\": 88,\n",
            "                            \"slot\": \"city_of_event\",\n",
            "                            \"start\": 80\n",
            "                        }\n",
            "                    ]\n",
            "                }\n",
            "            ],\n",
            "            \"speaker\": \"SYSTEM\",\n",
            "            \"utterance\": \"Please confirm your request. You are getting 3 tickets for Phutureprimitive, in Berkeley on March 9th.\"\n",
            "        },\n",
            "        {\n",
            "            \"frames\": [\n",
            "                {\n",
            "                    \"actions\": [\n",
            "                        {\n",
            "                            \"act\": \"REQUEST\",\n",
            "                            \"canonical_values\": [],\n",
            "                            \"slot\": \"time\",\n",
            "                            \"values\": []\n",
            "                        },\n",
            "                        {\n",
            "                            \"act\": \"REQUEST\",\n",
            "                            \"canonical_values\": [],\n",
            "                            \"slot\": \"event_location\",\n",
            "                            \"values\": []\n",
            "                        },\n",
            "                        {\n",
            "                            \"act\": \"AFFIRM\",\n",
            "                            \"canonical_values\": [],\n",
            "                            \"slot\": \"\",\n",
            "                            \"values\": []\n",
            "                        }\n",
            "                    ],\n",
            "                    \"service\": \"Events_1\",\n",
            "                    \"slots\": [],\n",
            "                    \"state\": {\n",
            "                        \"active_intent\": \"BuyEventTickets\",\n",
            "                        \"requested_slots\": [\n",
            "                            \"event_location\",\n",
            "                            \"time\"\n",
            "                        ],\n",
            "                        \"slot_values\": {\n",
            "                            \"city_of_event\": [\n",
            "                                \"Berkeley\"\n",
            "                            ],\n",
            "                            \"date\": [\n",
            "                                \"9th of this month\",\n",
            "                                \"March 9th\"\n",
            "                            ],\n",
            "                            \"event_name\": [\n",
            "                                \"Phutureprimitive\"\n",
            "                            ],\n",
            "                            \"number_of_seats\": [\n",
            "                                \"3\"\n",
            "                            ]\n",
            "                        }\n",
            "                    }\n",
            "                }\n",
            "            ],\n",
            "            \"speaker\": \"USER\",\n",
            "            \"utterance\": \"Yes, that's correct. Where is that event happening? What time does it start?\"\n",
            "        },\n",
            "        {\n",
            "            \"frames\": [\n",
            "                {\n",
            "                    \"actions\": [\n",
            "                        {\n",
            "                            \"act\": \"INFORM\",\n",
            "                            \"canonical_values\": [\n",
            "                                \"Cornerstone Craft Beer & Live Music\"\n",
            "                            ],\n",
            "                            \"slot\": \"event_location\",\n",
            "                            \"values\": [\n",
            "                                \"Cornerstone Craft Beer & Live Music\"\n",
            "                            ]\n",
            "                        },\n",
            "                        {\n",
            "                            \"act\": \"INFORM\",\n",
            "                            \"canonical_values\": [\n",
            "                                \"18:30\"\n",
            "                            ],\n",
            "                            \"slot\": \"time\",\n",
            "                            \"values\": [\n",
            "                                \"6:30 pm\"\n",
            "                            ]\n",
            "                        },\n",
            "                        {\n",
            "                            \"act\": \"NOTIFY_SUCCESS\",\n",
            "                            \"canonical_values\": [],\n",
            "                            \"slot\": \"\",\n",
            "                            \"values\": []\n",
            "                        }\n",
            "                    ],\n",
            "                    \"service\": \"Events_1\",\n",
            "                    \"service_call\": {\n",
            "                        \"method\": \"BuyEventTickets\",\n",
            "                        \"parameters\": {\n",
            "                            \"city_of_event\": \"Berkeley\",\n",
            "                            \"date\": \"2019-03-09\",\n",
            "                            \"event_name\": \"Phutureprimitive\",\n",
            "                            \"number_of_seats\": \"3\"\n",
            "                        }\n",
            "                    },\n",
            "                    \"service_results\": [\n",
            "                        {\n",
            "                            \"address_of_location\": \"2367 Shattuck Avenue\",\n",
            "                            \"city_of_event\": \"Berkeley\",\n",
            "                            \"date\": \"2019-03-09\",\n",
            "                            \"event_location\": \"Cornerstone Craft Beer & Live Music\",\n",
            "                            \"event_name\": \"Phutureprimitive\",\n",
            "                            \"number_of_seats\": \"3\",\n",
            "                            \"time\": \"18:30\"\n",
            "                        }\n",
            "                    ],\n",
            "                    \"slots\": [\n",
            "                        {\n",
            "                            \"exclusive_end\": 113,\n",
            "                            \"slot\": \"event_location\",\n",
            "                            \"start\": 78\n",
            "                        },\n",
            "                        {\n",
            "                            \"exclusive_end\": 74,\n",
            "                            \"slot\": \"time\",\n",
            "                            \"start\": 67\n",
            "                        }\n",
            "                    ]\n",
            "                }\n",
            "            ],\n",
            "            \"speaker\": \"SYSTEM\",\n",
            "            \"utterance\": \"Your reservation is confirmed. That event is scheduled to start at 6:30 pm at Cornerstone Craft Beer & Live Music.\"\n",
            "        },\n",
            "        {\n",
            "            \"frames\": [\n",
            "                {\n",
            "                    \"actions\": [\n",
            "                        {\n",
            "                            \"act\": \"INFORM\",\n",
            "                            \"canonical_values\": [\n",
            "                                \"Japanese\"\n",
            "                            ],\n",
            "                            \"slot\": \"cuisine\",\n",
            "                            \"values\": [\n",
            "                                \"Izakaya\"\n",
            "                            ]\n",
            "                        },\n",
            "                        {\n",
            "                            \"act\": \"INFORM_INTENT\",\n",
            "                            \"canonical_values\": [\n",
            "                                \"FindRestaurants\"\n",
            "                            ],\n",
            "                            \"slot\": \"intent\",\n",
            "                            \"values\": [\n",
            "                                \"FindRestaurants\"\n",
            "                            ]\n",
            "                        }\n",
            "                    ],\n",
            "                    \"service\": \"Restaurants_1\",\n",
            "                    \"slots\": [\n",
            "                        {\n",
            "                            \"exclusive_end\": 61,\n",
            "                            \"slot\": \"cuisine\",\n",
            "                            \"start\": 54\n",
            "                        }\n",
            "                    ],\n",
            "                    \"state\": {\n",
            "                        \"active_intent\": \"FindRestaurants\",\n",
            "                        \"requested_slots\": [],\n",
            "                        \"slot_values\": {\n",
            "                            \"city\": [\n",
            "                                \"Berkeley\"\n",
            "                            ],\n",
            "                            \"cuisine\": [\n",
            "                                \"Izakaya\"\n",
            "                            ]\n",
            "                        }\n",
            "                    }\n",
            "                }\n",
            "            ],\n",
            "            \"speaker\": \"USER\",\n",
            "            \"utterance\": \"Good. I also need to find a restaurant. Are there any Izakaya places near there?\"\n",
            "        },\n",
            "        {\n",
            "            \"frames\": [\n",
            "                {\n",
            "                    \"actions\": [\n",
            "                        {\n",
            "                            \"act\": \"OFFER\",\n",
            "                            \"canonical_values\": [\n",
            "                                \"Iyasare\"\n",
            "                            ],\n",
            "                            \"slot\": \"restaurant_name\",\n",
            "                            \"values\": [\n",
            "                                \"Iyasare\"\n",
            "                            ]\n",
            "                        },\n",
            "                        {\n",
            "                            \"act\": \"OFFER\",\n",
            "                            \"canonical_values\": [\n",
            "                                \"Berkeley\"\n",
            "                            ],\n",
            "                            \"slot\": \"city\",\n",
            "                            \"values\": [\n",
            "                                \"Berkeley\"\n",
            "                            ]\n",
            "                        },\n",
            "                        {\n",
            "                            \"act\": \"INFORM_COUNT\",\n",
            "                            \"canonical_values\": [\n",
            "                                \"4\"\n",
            "                            ],\n",
            "                            \"slot\": \"count\",\n",
            "                            \"values\": [\n",
            "                                \"4\"\n",
            "                            ]\n",
            "                        }\n",
            "                    ],\n",
            "                    \"service\": \"Restaurants_1\",\n",
            "                    \"service_call\": {\n",
            "                        \"method\": \"FindRestaurants\",\n",
            "                        \"parameters\": {\n",
            "                            \"city\": \"Berkeley\",\n",
            "                            \"cuisine\": \"Japanese\"\n",
            "                        }\n",
            "                    },\n",
            "                    \"service_results\": [\n",
            "                        {\n",
            "                            \"city\": \"Berkeley\",\n",
            "                            \"cuisine\": \"Japanese\",\n",
            "                            \"has_live_music\": \"False\",\n",
            "                            \"phone_number\": \"510-845-8100\",\n",
            "                            \"price_range\": \"expensive\",\n",
            "                            \"restaurant_name\": \"Iyasare\",\n",
            "                            \"serves_alcohol\": \"True\",\n",
            "                            \"street_address\": \"1830 Fourth Street\"\n",
            "                        },\n",
            "                        {\n",
            "                            \"city\": \"Berkeley\",\n",
            "                            \"cuisine\": \"Japanese\",\n",
            "                            \"has_live_music\": \"False\",\n",
            "                            \"phone_number\": \"510-848-5260\",\n",
            "                            \"price_range\": \"moderate\",\n",
            "                            \"restaurant_name\": \"Joshu-ya Brasserie\",\n",
            "                            \"serves_alcohol\": \"True\",\n",
            "                            \"street_address\": \"2441 Dwight Way\"\n",
            "                        },\n",
            "                        {\n",
            "                            \"city\": \"Berkeley\",\n",
            "                            \"cuisine\": \"Japanese\",\n",
            "                            \"has_live_music\": \"False\",\n",
            "                            \"phone_number\": \"510-540-5000\",\n",
            "                            \"price_range\": \"moderate\",\n",
            "                            \"restaurant_name\": \"Kamado Sushi\",\n",
            "                            \"serves_alcohol\": \"False\",\n",
            "                            \"street_address\": \"1400 Shattuck Avenue\"\n",
            "                        },\n",
            "                        {\n",
            "                            \"city\": \"Berkeley\",\n",
            "                            \"cuisine\": \"Japanese\",\n",
            "                            \"has_live_music\": \"False\",\n",
            "                            \"phone_number\": \"510-524-1286\",\n",
            "                            \"price_range\": \"inexpensive\",\n",
            "                            \"restaurant_name\": \"Miyuki Japanese Restaurant\",\n",
            "                            \"serves_alcohol\": \"True\",\n",
            "                            \"street_address\": \"1695 Solano Avenue\"\n",
            "                        }\n",
            "                    ],\n",
            "                    \"slots\": [\n",
            "                        {\n",
            "                            \"exclusive_end\": 59,\n",
            "                            \"slot\": \"restaurant_name\",\n",
            "                            \"start\": 52\n",
            "                        },\n",
            "                        {\n",
            "                            \"exclusive_end\": 90,\n",
            "                            \"slot\": \"city\",\n",
            "                            \"start\": 82\n",
            "                        }\n",
            "                    ]\n",
            "                }\n",
            "            ],\n",
            "            \"speaker\": \"SYSTEM\",\n",
            "            \"utterance\": \"I have 4 restaurants for you to consider. How about Iyasare? That's a nice one in Berkeley.\"\n",
            "        },\n",
            "        {\n",
            "            \"frames\": [\n",
            "                {\n",
            "                    \"actions\": [\n",
            "                        {\n",
            "                            \"act\": \"REQUEST\",\n",
            "                            \"canonical_values\": [\n",
            "                                \"expensive\"\n",
            "                            ],\n",
            "                            \"slot\": \"price_range\",\n",
            "                            \"values\": [\n",
            "                                \"expensive\"\n",
            "                            ]\n",
            "                        },\n",
            "                        {\n",
            "                            \"act\": \"REQUEST\",\n",
            "                            \"canonical_values\": [],\n",
            "                            \"slot\": \"street_address\",\n",
            "                            \"values\": []\n",
            "                        }\n",
            "                    ],\n",
            "                    \"service\": \"Restaurants_1\",\n",
            "                    \"slots\": [],\n",
            "                    \"state\": {\n",
            "                        \"active_intent\": \"FindRestaurants\",\n",
            "                        \"requested_slots\": [\n",
            "                            \"price_range\",\n",
            "                            \"street_address\"\n",
            "                        ],\n",
            "                        \"slot_values\": {\n",
            "                            \"city\": [\n",
            "                                \"Berkeley\"\n",
            "                            ],\n",
            "                            \"cuisine\": [\n",
            "                                \"Izakaya\"\n",
            "                            ]\n",
            "                        }\n",
            "                    }\n",
            "                }\n",
            "            ],\n",
            "            \"speaker\": \"USER\",\n",
            "            \"utterance\": \"Is the price range above average? What's the address?\"\n",
            "        },\n",
            "        {\n",
            "            \"frames\": [\n",
            "                {\n",
            "                    \"actions\": [\n",
            "                        {\n",
            "                            \"act\": \"INFORM\",\n",
            "                            \"canonical_values\": [\n",
            "                                \"expensive\"\n",
            "                            ],\n",
            "                            \"slot\": \"price_range\",\n",
            "                            \"values\": [\n",
            "                                \"expensive\"\n",
            "                            ]\n",
            "                        },\n",
            "                        {\n",
            "                            \"act\": \"INFORM\",\n",
            "                            \"canonical_values\": [\n",
            "                                \"1830 Fourth Street\"\n",
            "                            ],\n",
            "                            \"slot\": \"street_address\",\n",
            "                            \"values\": [\n",
            "                                \"1830 Fourth Street\"\n",
            "                            ]\n",
            "                        }\n",
            "                    ],\n",
            "                    \"service\": \"Restaurants_1\",\n",
            "                    \"slots\": [\n",
            "                        {\n",
            "                            \"exclusive_end\": 69,\n",
            "                            \"slot\": \"street_address\",\n",
            "                            \"start\": 51\n",
            "                        }\n",
            "                    ]\n",
            "                }\n",
            "            ],\n",
            "            \"speaker\": \"SYSTEM\",\n",
            "            \"utterance\": \"Their price range is expensive. They're located at 1830 Fourth Street.\"\n",
            "        },\n",
            "        {\n",
            "            \"frames\": [\n",
            "                {\n",
            "                    \"actions\": [\n",
            "                        {\n",
            "                            \"act\": \"SELECT\",\n",
            "                            \"canonical_values\": [],\n",
            "                            \"slot\": \"\",\n",
            "                            \"values\": []\n",
            "                        }\n",
            "                    ],\n",
            "                    \"service\": \"Restaurants_1\",\n",
            "                    \"slots\": [],\n",
            "                    \"state\": {\n",
            "                        \"active_intent\": \"FindRestaurants\",\n",
            "                        \"requested_slots\": [],\n",
            "                        \"slot_values\": {\n",
            "                            \"city\": [\n",
            "                                \"Berkeley\"\n",
            "                            ],\n",
            "                            \"cuisine\": [\n",
            "                                \"Izakaya\"\n",
            "                            ],\n",
            "                            \"restaurant_name\": [\n",
            "                                \"Iyasare\"\n",
            "                            ]\n",
            "                        }\n",
            "                    }\n",
            "                }\n",
            "            ],\n",
            "            \"speaker\": \"USER\",\n",
            "            \"utterance\": \"Yes, that sounds good.\"\n",
            "        },\n",
            "        {\n",
            "            \"frames\": [\n",
            "                {\n",
            "                    \"actions\": [\n",
            "                        {\n",
            "                            \"act\": \"OFFER_INTENT\",\n",
            "                            \"canonical_values\": [\n",
            "                                \"ReserveRestaurant\"\n",
            "                            ],\n",
            "                            \"slot\": \"intent\",\n",
            "                            \"values\": [\n",
            "                                \"ReserveRestaurant\"\n",
            "                            ]\n",
            "                        }\n",
            "                    ],\n",
            "                    \"service\": \"Restaurants_1\",\n",
            "                    \"slots\": []\n",
            "                }\n",
            "            ],\n",
            "            \"speaker\": \"SYSTEM\",\n",
            "            \"utterance\": \"Would you like to reserve now?\"\n",
            "        },\n",
            "        {\n",
            "            \"frames\": [\n",
            "                {\n",
            "                    \"actions\": [\n",
            "                        {\n",
            "                            \"act\": \"NEGATE_INTENT\",\n",
            "                            \"canonical_values\": [],\n",
            "                            \"slot\": \"\",\n",
            "                            \"values\": []\n",
            "                        }\n",
            "                    ],\n",
            "                    \"service\": \"Restaurants_1\",\n",
            "                    \"slots\": [],\n",
            "                    \"state\": {\n",
            "                        \"active_intent\": \"NONE\",\n",
            "                        \"requested_slots\": [],\n",
            "                        \"slot_values\": {\n",
            "                            \"city\": [\n",
            "                                \"Berkeley\"\n",
            "                            ],\n",
            "                            \"cuisine\": [\n",
            "                                \"Izakaya\"\n",
            "                            ],\n",
            "                            \"restaurant_name\": [\n",
            "                                \"Iyasare\"\n",
            "                            ]\n",
            "                        }\n",
            "                    }\n",
            "                }\n",
            "            ],\n",
            "            \"speaker\": \"USER\",\n",
            "            \"utterance\": \"No, not now. Thanks.\"\n",
            "        },\n",
            "        {\n",
            "            \"frames\": [\n",
            "                {\n",
            "                    \"actions\": [\n",
            "                        {\n",
            "                            \"act\": \"REQ_MORE\",\n",
            "                            \"canonical_values\": [],\n",
            "                            \"slot\": \"\",\n",
            "                            \"values\": []\n",
            "                        }\n",
            "                    ],\n",
            "                    \"service\": \"Restaurants_1\",\n",
            "                    \"slots\": []\n",
            "                }\n",
            "            ],\n",
            "            \"speaker\": \"SYSTEM\",\n",
            "            \"utterance\": \"Is there anything else that you need today?\"\n",
            "        },\n",
            "        {\n",
            "            \"frames\": [\n",
            "                {\n",
            "                    \"actions\": [\n",
            "                        {\n",
            "                            \"act\": \"NEGATE\",\n",
            "                            \"canonical_values\": [],\n",
            "                            \"slot\": \"\",\n",
            "                            \"values\": []\n",
            "                        },\n",
            "                        {\n",
            "                            \"act\": \"THANK_YOU\",\n",
            "                            \"canonical_values\": [],\n",
            "                            \"slot\": \"\",\n",
            "                            \"values\": []\n",
            "                        }\n",
            "                    ],\n",
            "                    \"service\": \"Restaurants_1\",\n",
            "                    \"slots\": [],\n",
            "                    \"state\": {\n",
            "                        \"active_intent\": \"NONE\",\n",
            "                        \"requested_slots\": [],\n",
            "                        \"slot_values\": {\n",
            "                            \"city\": [\n",
            "                                \"Berkeley\"\n",
            "                            ],\n",
            "                            \"cuisine\": [\n",
            "                                \"Izakaya\"\n",
            "                            ],\n",
            "                            \"restaurant_name\": [\n",
            "                                \"Iyasare\"\n",
            "                            ]\n",
            "                        }\n",
            "                    }\n",
            "                }\n",
            "            ],\n",
            "            \"speaker\": \"USER\",\n",
            "            \"utterance\": \"No, that's all.\"\n",
            "        },\n",
            "        {\n",
            "            \"frames\": [\n",
            "                {\n",
            "                    \"actions\": [\n",
            "                        {\n",
            "                            \"act\": \"GOODBYE\",\n",
            "                            \"canonical_values\": [],\n",
            "                            \"slot\": \"\",\n",
            "                            \"values\": []\n",
            "                        }\n",
            "                    ],\n",
            "                    \"service\": \"Restaurants_1\",\n",
            "                    \"slots\": []\n",
            "                }\n",
            "            ],\n",
            "            \"speaker\": \"SYSTEM\",\n",
            "            \"utterance\": \"Have a great day.\"\n",
            "        }\n",
            "    ]\n",
            "}\n"
          ]
        }
      ]
    },
    {
      "cell_type": "code",
      "metadata": {
        "colab": {
          "base_uri": "https://localhost:8080/"
        },
        "id": "mNLqpU1x5y08",
        "outputId": "50fb3af0-163f-4f07-98e6-bcad0702e9c2"
      },
      "source": [
        "print(json.dumps(data[0]['turns'][0], indent=4, sort_keys=True))"
      ],
      "execution_count": 9,
      "outputs": [
        {
          "output_type": "stream",
          "name": "stdout",
          "text": [
            "{\n",
            "    \"frames\": [\n",
            "        {\n",
            "            \"actions\": [\n",
            "                {\n",
            "                    \"act\": \"INFORM_INTENT\",\n",
            "                    \"canonical_values\": [\n",
            "                        \"BuyEventTickets\"\n",
            "                    ],\n",
            "                    \"slot\": \"intent\",\n",
            "                    \"values\": [\n",
            "                        \"BuyEventTickets\"\n",
            "                    ]\n",
            "                }\n",
            "            ],\n",
            "            \"service\": \"Events_1\",\n",
            "            \"slots\": [],\n",
            "            \"state\": {\n",
            "                \"active_intent\": \"BuyEventTickets\",\n",
            "                \"requested_slots\": [],\n",
            "                \"slot_values\": {}\n",
            "            }\n",
            "        }\n",
            "    ],\n",
            "    \"speaker\": \"USER\",\n",
            "    \"utterance\": \"I am looking for tickets to an event.\"\n",
            "}\n"
          ]
        }
      ]
    },
    {
      "cell_type": "markdown",
      "metadata": {
        "id": "j8nJLh1sj3WJ"
      },
      "source": [
        "Separando um dataframe somente com os somentarios do usuarios para usarmos no na classificação de intenção"
      ]
    },
    {
      "cell_type": "code",
      "metadata": {
        "id": "mT2I1g3W7d2p"
      },
      "source": [
        "data3 = list()\n",
        "for item in data:\n",
        "  for turn in item['turns']:\n",
        "    if(turn['speaker'] == 'USER'):\n",
        "      #has_restaurant_frame = False\n",
        "      #for frame in turn['frames']:\n",
        "      #  if(frame['service'] == 'Restaurants_1' or frame['service'] == 'Restaurants_2'):\n",
        "      #    has_restaurant_frame = True\n",
        "      #if(has_restaurant_frame):\n",
        "      data3.append(turn)\n",
        "data = data3"
      ],
      "execution_count": 10,
      "outputs": []
    },
    {
      "cell_type": "code",
      "metadata": {
        "colab": {
          "base_uri": "https://localhost:8080/"
        },
        "id": "LrXEOcLh-n0N",
        "outputId": "7cedd13b-3583-40d6-f1ec-aa100dba8f05"
      },
      "source": [
        "print(len(data))"
      ],
      "execution_count": 11,
      "outputs": [
        {
          "output_type": "stream",
          "name": "stdout",
          "text": [
            "38465\n"
          ]
        }
      ]
    },
    {
      "cell_type": "code",
      "metadata": {
        "colab": {
          "base_uri": "https://localhost:8080/"
        },
        "id": "0OSZbovS-r7S",
        "outputId": "43a6325c-7479-4de4-b8d6-bc5d1aec7605"
      },
      "source": [
        "print(json.dumps(data[0], indent=4, sort_keys=True))"
      ],
      "execution_count": 12,
      "outputs": [
        {
          "output_type": "stream",
          "name": "stdout",
          "text": [
            "{\n",
            "    \"frames\": [\n",
            "        {\n",
            "            \"actions\": [\n",
            "                {\n",
            "                    \"act\": \"INFORM_INTENT\",\n",
            "                    \"canonical_values\": [\n",
            "                        \"BuyEventTickets\"\n",
            "                    ],\n",
            "                    \"slot\": \"intent\",\n",
            "                    \"values\": [\n",
            "                        \"BuyEventTickets\"\n",
            "                    ]\n",
            "                }\n",
            "            ],\n",
            "            \"service\": \"Events_1\",\n",
            "            \"slots\": [],\n",
            "            \"state\": {\n",
            "                \"active_intent\": \"BuyEventTickets\",\n",
            "                \"requested_slots\": [],\n",
            "                \"slot_values\": {}\n",
            "            }\n",
            "        }\n",
            "    ],\n",
            "    \"speaker\": \"USER\",\n",
            "    \"utterance\": \"I am looking for tickets to an event.\"\n",
            "}\n"
          ]
        }
      ]
    },
    {
      "cell_type": "code",
      "metadata": {
        "colab": {
          "base_uri": "https://localhost:8080/"
        },
        "id": "j7doiF8c-uGt",
        "outputId": "d3947a91-7bd6-4a42-dc91-9758a1bb50a0"
      },
      "source": [
        "print(json.dumps(data[1], indent=4, sort_keys=True))"
      ],
      "execution_count": 13,
      "outputs": [
        {
          "output_type": "stream",
          "name": "stdout",
          "text": [
            "{\n",
            "    \"frames\": [\n",
            "        {\n",
            "            \"actions\": [\n",
            "                {\n",
            "                    \"act\": \"INFORM\",\n",
            "                    \"canonical_values\": [\n",
            "                        \"Phutureprimitive\"\n",
            "                    ],\n",
            "                    \"slot\": \"event_name\",\n",
            "                    \"values\": [\n",
            "                        \"Phutureprimitive\"\n",
            "                    ]\n",
            "                },\n",
            "                {\n",
            "                    \"act\": \"INFORM\",\n",
            "                    \"canonical_values\": [\n",
            "                        \"3\"\n",
            "                    ],\n",
            "                    \"slot\": \"number_of_seats\",\n",
            "                    \"values\": [\n",
            "                        \"3\"\n",
            "                    ]\n",
            "                }\n",
            "            ],\n",
            "            \"service\": \"Events_1\",\n",
            "            \"slots\": [\n",
            "                {\n",
            "                    \"exclusive_end\": 46,\n",
            "                    \"slot\": \"event_name\",\n",
            "                    \"start\": 30\n",
            "                }\n",
            "            ],\n",
            "            \"state\": {\n",
            "                \"active_intent\": \"BuyEventTickets\",\n",
            "                \"requested_slots\": [],\n",
            "                \"slot_values\": {\n",
            "                    \"event_name\": [\n",
            "                        \"Phutureprimitive\"\n",
            "                    ],\n",
            "                    \"number_of_seats\": [\n",
            "                        \"3\"\n",
            "                    ]\n",
            "                }\n",
            "            }\n",
            "        }\n",
            "    ],\n",
            "    \"speaker\": \"USER\",\n",
            "    \"utterance\": \"Yes, I want three tickets for Phutureprimitive.\"\n",
            "}\n"
          ]
        }
      ]
    },
    {
      "cell_type": "markdown",
      "metadata": {
        "id": "8EKn5YYRl21f"
      },
      "source": [
        "Separando somente as informações que são relacionadas ao dominio ao qual iremos trabalhar, que é o de RESTAURANTES"
      ]
    },
    {
      "cell_type": "code",
      "metadata": {
        "id": "Vj7GncD5ZgL6"
      },
      "source": [
        "data3 = list()\n",
        "for item in data:\n",
        "  frame_has_restaurants = False\n",
        "  for frame in item['frames']:\n",
        "    if(frame['service'] == 'Restaurants_1' or frame['service'] == 'Restaurants_2'):\n",
        "      frame_has_restaurants = True\n",
        "  if frame_has_restaurants:\n",
        "    data3.append(item)\n",
        "data = data3"
      ],
      "execution_count": 14,
      "outputs": []
    },
    {
      "cell_type": "code",
      "metadata": {
        "id": "rpnrtsdrnV7O",
        "colab": {
          "base_uri": "https://localhost:8080/"
        },
        "outputId": "da897ab3-bca6-4a92-9b65-5d70b712afe8"
      },
      "source": [
        "data[5]"
      ],
      "execution_count": 15,
      "outputs": [
        {
          "output_type": "execute_result",
          "data": {
            "text/plain": [
              "{'frames': [{'actions': [{'act': 'INFORM',\n",
              "     'canonical_values': ['moderate'],\n",
              "     'slot': 'price_range',\n",
              "     'values': ['moderate']},\n",
              "    {'act': 'INFORM',\n",
              "     'canonical_values': ['Mexican'],\n",
              "     'slot': 'cuisine',\n",
              "     'values': ['Tacos']},\n",
              "    {'act': 'INFORM_INTENT',\n",
              "     'canonical_values': ['FindRestaurants'],\n",
              "     'slot': 'intent',\n",
              "     'values': ['FindRestaurants']}],\n",
              "   'service': 'Restaurants_1',\n",
              "   'slots': [{'exclusive_end': 68, 'slot': 'cuisine', 'start': 63}],\n",
              "   'state': {'active_intent': 'FindRestaurants',\n",
              "    'requested_slots': [],\n",
              "    'slot_values': {'city': ['Oakland'],\n",
              "     'cuisine': ['Tacos'],\n",
              "     'price_range': ['moderate']}}}],\n",
              " 'speaker': 'USER',\n",
              " 'utterance': 'Yes, I also want to find an afforadable restaurant that offers Tacos.'}"
            ]
          },
          "metadata": {},
          "execution_count": 15
        }
      ]
    },
    {
      "cell_type": "code",
      "metadata": {
        "id": "fV2vz8kE-7qH"
      },
      "source": [
        "for item in data:\n",
        "  item['frames'] = [frame for frame in item['frames'] if (frame['service'] == 'Restaurants_1' or frame['service'] == 'Restaurants_2')]"
      ],
      "execution_count": 16,
      "outputs": []
    },
    {
      "cell_type": "code",
      "metadata": {
        "id": "dw3o_RVxrzZ7",
        "colab": {
          "base_uri": "https://localhost:8080/"
        },
        "outputId": "19f40f59-19fa-4db4-a5f1-0b0289e9ca40"
      },
      "source": [
        "print(json.dumps(item, indent=4, sort_keys=True))"
      ],
      "execution_count": 17,
      "outputs": [
        {
          "output_type": "stream",
          "name": "stdout",
          "text": [
            "{\n",
            "    \"frames\": [\n",
            "        {\n",
            "            \"actions\": [\n",
            "                {\n",
            "                    \"act\": \"THANK_YOU\",\n",
            "                    \"canonical_values\": [],\n",
            "                    \"slot\": \"\",\n",
            "                    \"values\": []\n",
            "                },\n",
            "                {\n",
            "                    \"act\": \"GOODBYE\",\n",
            "                    \"canonical_values\": [],\n",
            "                    \"slot\": \"\",\n",
            "                    \"values\": []\n",
            "                }\n",
            "            ],\n",
            "            \"service\": \"Restaurants_2\",\n",
            "            \"slots\": [],\n",
            "            \"state\": {\n",
            "                \"active_intent\": \"ReserveRestaurant\",\n",
            "                \"requested_slots\": [],\n",
            "                \"slot_values\": {\n",
            "                    \"category\": [\n",
            "                        \"Oriental\"\n",
            "                    ],\n",
            "                    \"date\": [\n",
            "                        \"3rd of March\",\n",
            "                        \"day after tomorrow\"\n",
            "                    ],\n",
            "                    \"location\": [\n",
            "                        \"Orinda\"\n",
            "                    ],\n",
            "                    \"number_of_seats\": [\n",
            "                        \"2\"\n",
            "                    ],\n",
            "                    \"restaurant_name\": [\n",
            "                        \"Siam Orchid\"\n",
            "                    ],\n",
            "                    \"time\": [\n",
            "                        \"6:45 pm\",\n",
            "                        \"evening 6:45\"\n",
            "                    ]\n",
            "                }\n",
            "            }\n",
            "        }\n",
            "    ],\n",
            "    \"speaker\": \"USER\",\n",
            "    \"utterance\": \"Thank you, that is all I need for now.\"\n",
            "}\n"
          ]
        }
      ]
    },
    {
      "cell_type": "code",
      "metadata": {
        "colab": {
          "base_uri": "https://localhost:8080/"
        },
        "id": "aMW0UlAxFJFU",
        "outputId": "3520c840-eac8-4bcf-d5a3-27ae03693dcf"
      },
      "source": [
        "print(json.dumps(data[0], indent=4, sort_keys=True))"
      ],
      "execution_count": 18,
      "outputs": [
        {
          "output_type": "stream",
          "name": "stdout",
          "text": [
            "{\n",
            "    \"frames\": [\n",
            "        {\n",
            "            \"actions\": [\n",
            "                {\n",
            "                    \"act\": \"INFORM\",\n",
            "                    \"canonical_values\": [\n",
            "                        \"Japanese\"\n",
            "                    ],\n",
            "                    \"slot\": \"cuisine\",\n",
            "                    \"values\": [\n",
            "                        \"Izakaya\"\n",
            "                    ]\n",
            "                },\n",
            "                {\n",
            "                    \"act\": \"INFORM_INTENT\",\n",
            "                    \"canonical_values\": [\n",
            "                        \"FindRestaurants\"\n",
            "                    ],\n",
            "                    \"slot\": \"intent\",\n",
            "                    \"values\": [\n",
            "                        \"FindRestaurants\"\n",
            "                    ]\n",
            "                }\n",
            "            ],\n",
            "            \"service\": \"Restaurants_1\",\n",
            "            \"slots\": [\n",
            "                {\n",
            "                    \"exclusive_end\": 61,\n",
            "                    \"slot\": \"cuisine\",\n",
            "                    \"start\": 54\n",
            "                }\n",
            "            ],\n",
            "            \"state\": {\n",
            "                \"active_intent\": \"FindRestaurants\",\n",
            "                \"requested_slots\": [],\n",
            "                \"slot_values\": {\n",
            "                    \"city\": [\n",
            "                        \"Berkeley\"\n",
            "                    ],\n",
            "                    \"cuisine\": [\n",
            "                        \"Izakaya\"\n",
            "                    ]\n",
            "                }\n",
            "            }\n",
            "        }\n",
            "    ],\n",
            "    \"speaker\": \"USER\",\n",
            "    \"utterance\": \"Good. I also need to find a restaurant. Are there any Izakaya places near there?\"\n",
            "}\n"
          ]
        }
      ]
    },
    {
      "cell_type": "markdown",
      "metadata": {
        "id": "-cfU7elJufyh"
      },
      "source": [
        "Identificando os ACTIONS que estão no dataset"
      ]
    },
    {
      "cell_type": "code",
      "metadata": {
        "id": "ZuATieGlSD6p"
      },
      "source": [
        "for item in data:\n",
        "  #item[\"intent\"] = item['frames'][0]['state']['active_intent']\n",
        "  #item.pop('speaker', None)\n",
        "  #item.pop('frames', None)\n",
        "  item[\"intent\"] = []\n",
        "  for intent in item['frames'][0]['actions']:\n",
        "    item[\"intent\"] += [intent['act']]"
      ],
      "execution_count": 19,
      "outputs": []
    },
    {
      "cell_type": "code",
      "metadata": {
        "id": "37WmFFGAeZNN"
      },
      "source": [
        "for item in data:\n",
        "  intents = list()\n",
        "  for intent in item['intent']:\n",
        "    if (intent == 'INFORM_INTENT'):\n",
        "      intent = item['frames'][0]['state']['active_intent']\n",
        "    intents.append(intent)\n",
        "    \n",
        "  item['intent'] = intents\n",
        "  #print(item['intent'])"
      ],
      "execution_count": 20,
      "outputs": []
    },
    {
      "cell_type": "code",
      "metadata": {
        "id": "OUGqRvXWgNpJ"
      },
      "source": [
        "for item in data:\n",
        "  item.pop('speaker', None)\n",
        "  item.pop('frames', None)"
      ],
      "execution_count": 21,
      "outputs": []
    },
    {
      "cell_type": "code",
      "metadata": {
        "colab": {
          "base_uri": "https://localhost:8080/"
        },
        "id": "jmQ3M2MvfxLm",
        "outputId": "9f84701f-cefb-41c6-df6d-8ffc0b81c7f5"
      },
      "source": [
        "data[0]"
      ],
      "execution_count": 22,
      "outputs": [
        {
          "output_type": "execute_result",
          "data": {
            "text/plain": [
              "{'intent': ['INFORM', 'FindRestaurants'],\n",
              " 'utterance': 'Good. I also need to find a restaurant. Are there any Izakaya places near there?'}"
            ]
          },
          "metadata": {},
          "execution_count": 22
        }
      ]
    },
    {
      "cell_type": "code",
      "metadata": {
        "id": "_NX2-_-NONGE",
        "colab": {
          "base_uri": "https://localhost:8080/"
        },
        "outputId": "96fa9836-a48e-4d71-af46-66f1a4f59993"
      },
      "source": [
        "intents = set()\n",
        "for item in data:\n",
        "  for intent in item['intent']:\n",
        "    intents.add(intent)\n",
        "print(intents)\n",
        "num_classes = len(intents)\n",
        "print(len(intents))"
      ],
      "execution_count": 23,
      "outputs": [
        {
          "output_type": "stream",
          "name": "stdout",
          "text": [
            "{'REQUEST', 'AFFIRM', 'NEGATE', 'GOODBYE', 'SELECT', 'THANK_YOU', 'REQUEST_ALTS', 'ReserveRestaurant', 'FindRestaurants', 'AFFIRM_INTENT', 'NEGATE_INTENT', 'INFORM'}\n",
            "12\n"
          ]
        }
      ]
    },
    {
      "cell_type": "code",
      "metadata": {
        "id": "5zPpN9gQHM5A"
      },
      "source": [
        "import pandas as pd\n",
        "utterances = [item['utterance'] for item in data]\n",
        "df = pd.DataFrame({\"utterance\":utterances})"
      ],
      "execution_count": 24,
      "outputs": []
    },
    {
      "cell_type": "code",
      "metadata": {
        "id": "Gnrcd4k3Z0lu",
        "colab": {
          "base_uri": "https://localhost:8080/",
          "height": 414
        },
        "outputId": "5ed62855-9b27-4d20-f644-ed0fa5f5a489"
      },
      "source": [
        "df"
      ],
      "execution_count": 25,
      "outputs": [
        {
          "output_type": "execute_result",
          "data": {
            "text/html": [
              "<div>\n",
              "<style scoped>\n",
              "    .dataframe tbody tr th:only-of-type {\n",
              "        vertical-align: middle;\n",
              "    }\n",
              "\n",
              "    .dataframe tbody tr th {\n",
              "        vertical-align: top;\n",
              "    }\n",
              "\n",
              "    .dataframe thead th {\n",
              "        text-align: right;\n",
              "    }\n",
              "</style>\n",
              "<table border=\"1\" class=\"dataframe\">\n",
              "  <thead>\n",
              "    <tr style=\"text-align: right;\">\n",
              "      <th></th>\n",
              "      <th>utterance</th>\n",
              "    </tr>\n",
              "  </thead>\n",
              "  <tbody>\n",
              "    <tr>\n",
              "      <th>0</th>\n",
              "      <td>Good. I also need to find a restaurant. Are th...</td>\n",
              "    </tr>\n",
              "    <tr>\n",
              "      <th>1</th>\n",
              "      <td>Is the price range above average? What's the a...</td>\n",
              "    </tr>\n",
              "    <tr>\n",
              "      <th>2</th>\n",
              "      <td>Yes, that sounds good.</td>\n",
              "    </tr>\n",
              "    <tr>\n",
              "      <th>3</th>\n",
              "      <td>No, not now. Thanks.</td>\n",
              "    </tr>\n",
              "    <tr>\n",
              "      <th>4</th>\n",
              "      <td>No, that's all.</td>\n",
              "    </tr>\n",
              "    <tr>\n",
              "      <th>...</th>\n",
              "      <td>...</td>\n",
              "    </tr>\n",
              "    <tr>\n",
              "      <th>23419</th>\n",
              "      <td>Ok, that will be good.</td>\n",
              "    </tr>\n",
              "    <tr>\n",
              "      <th>23420</th>\n",
              "      <td>Yes, I would like to reserve a table for the 3...</td>\n",
              "    </tr>\n",
              "    <tr>\n",
              "      <th>23421</th>\n",
              "      <td>Yes, please make it for in the evening 6:45.</td>\n",
              "    </tr>\n",
              "    <tr>\n",
              "      <th>23422</th>\n",
              "      <td>Yes, perfect, can you give me their user rating?</td>\n",
              "    </tr>\n",
              "    <tr>\n",
              "      <th>23423</th>\n",
              "      <td>Thank you, that is all I need for now.</td>\n",
              "    </tr>\n",
              "  </tbody>\n",
              "</table>\n",
              "<p>23424 rows × 1 columns</p>\n",
              "</div>"
            ],
            "text/plain": [
              "                                               utterance\n",
              "0      Good. I also need to find a restaurant. Are th...\n",
              "1      Is the price range above average? What's the a...\n",
              "2                                 Yes, that sounds good.\n",
              "3                                   No, not now. Thanks.\n",
              "4                                        No, that's all.\n",
              "...                                                  ...\n",
              "23419                             Ok, that will be good.\n",
              "23420  Yes, I would like to reserve a table for the 3...\n",
              "23421       Yes, please make it for in the evening 6:45.\n",
              "23422   Yes, perfect, can you give me their user rating?\n",
              "23423             Thank you, that is all I need for now.\n",
              "\n",
              "[23424 rows x 1 columns]"
            ]
          },
          "metadata": {},
          "execution_count": 25
        }
      ]
    },
    {
      "cell_type": "code",
      "metadata": {
        "colab": {
          "base_uri": "https://localhost:8080/"
        },
        "id": "kVq8ptIpW8ga",
        "outputId": "12293f53-7f88-4473-a558-b7170b5f5d75"
      },
      "source": [
        "intents"
      ],
      "execution_count": 26,
      "outputs": [
        {
          "output_type": "execute_result",
          "data": {
            "text/plain": [
              "{'AFFIRM',\n",
              " 'AFFIRM_INTENT',\n",
              " 'FindRestaurants',\n",
              " 'GOODBYE',\n",
              " 'INFORM',\n",
              " 'NEGATE',\n",
              " 'NEGATE_INTENT',\n",
              " 'REQUEST',\n",
              " 'REQUEST_ALTS',\n",
              " 'ReserveRestaurant',\n",
              " 'SELECT',\n",
              " 'THANK_YOU'}"
            ]
          },
          "metadata": {},
          "execution_count": 26
        }
      ]
    },
    {
      "cell_type": "code",
      "metadata": {
        "colab": {
          "base_uri": "https://localhost:8080/",
          "height": 435
        },
        "id": "wNex881LITab",
        "outputId": "658669ce-e495-4cc5-947d-2b14f9e21461"
      },
      "source": [
        "for intent in intents:\n",
        "  df[intent] = 0\n",
        "  df['Others'] = 0\n",
        "df.head()"
      ],
      "execution_count": 27,
      "outputs": [
        {
          "output_type": "execute_result",
          "data": {
            "text/html": [
              "<div>\n",
              "<style scoped>\n",
              "    .dataframe tbody tr th:only-of-type {\n",
              "        vertical-align: middle;\n",
              "    }\n",
              "\n",
              "    .dataframe tbody tr th {\n",
              "        vertical-align: top;\n",
              "    }\n",
              "\n",
              "    .dataframe thead th {\n",
              "        text-align: right;\n",
              "    }\n",
              "</style>\n",
              "<table border=\"1\" class=\"dataframe\">\n",
              "  <thead>\n",
              "    <tr style=\"text-align: right;\">\n",
              "      <th></th>\n",
              "      <th>utterance</th>\n",
              "      <th>REQUEST</th>\n",
              "      <th>Others</th>\n",
              "      <th>AFFIRM</th>\n",
              "      <th>NEGATE</th>\n",
              "      <th>GOODBYE</th>\n",
              "      <th>SELECT</th>\n",
              "      <th>THANK_YOU</th>\n",
              "      <th>REQUEST_ALTS</th>\n",
              "      <th>ReserveRestaurant</th>\n",
              "      <th>FindRestaurants</th>\n",
              "      <th>AFFIRM_INTENT</th>\n",
              "      <th>NEGATE_INTENT</th>\n",
              "      <th>INFORM</th>\n",
              "    </tr>\n",
              "  </thead>\n",
              "  <tbody>\n",
              "    <tr>\n",
              "      <th>0</th>\n",
              "      <td>Good. I also need to find a restaurant. Are th...</td>\n",
              "      <td>0</td>\n",
              "      <td>0</td>\n",
              "      <td>0</td>\n",
              "      <td>0</td>\n",
              "      <td>0</td>\n",
              "      <td>0</td>\n",
              "      <td>0</td>\n",
              "      <td>0</td>\n",
              "      <td>0</td>\n",
              "      <td>0</td>\n",
              "      <td>0</td>\n",
              "      <td>0</td>\n",
              "      <td>0</td>\n",
              "    </tr>\n",
              "    <tr>\n",
              "      <th>1</th>\n",
              "      <td>Is the price range above average? What's the a...</td>\n",
              "      <td>0</td>\n",
              "      <td>0</td>\n",
              "      <td>0</td>\n",
              "      <td>0</td>\n",
              "      <td>0</td>\n",
              "      <td>0</td>\n",
              "      <td>0</td>\n",
              "      <td>0</td>\n",
              "      <td>0</td>\n",
              "      <td>0</td>\n",
              "      <td>0</td>\n",
              "      <td>0</td>\n",
              "      <td>0</td>\n",
              "    </tr>\n",
              "    <tr>\n",
              "      <th>2</th>\n",
              "      <td>Yes, that sounds good.</td>\n",
              "      <td>0</td>\n",
              "      <td>0</td>\n",
              "      <td>0</td>\n",
              "      <td>0</td>\n",
              "      <td>0</td>\n",
              "      <td>0</td>\n",
              "      <td>0</td>\n",
              "      <td>0</td>\n",
              "      <td>0</td>\n",
              "      <td>0</td>\n",
              "      <td>0</td>\n",
              "      <td>0</td>\n",
              "      <td>0</td>\n",
              "    </tr>\n",
              "    <tr>\n",
              "      <th>3</th>\n",
              "      <td>No, not now. Thanks.</td>\n",
              "      <td>0</td>\n",
              "      <td>0</td>\n",
              "      <td>0</td>\n",
              "      <td>0</td>\n",
              "      <td>0</td>\n",
              "      <td>0</td>\n",
              "      <td>0</td>\n",
              "      <td>0</td>\n",
              "      <td>0</td>\n",
              "      <td>0</td>\n",
              "      <td>0</td>\n",
              "      <td>0</td>\n",
              "      <td>0</td>\n",
              "    </tr>\n",
              "    <tr>\n",
              "      <th>4</th>\n",
              "      <td>No, that's all.</td>\n",
              "      <td>0</td>\n",
              "      <td>0</td>\n",
              "      <td>0</td>\n",
              "      <td>0</td>\n",
              "      <td>0</td>\n",
              "      <td>0</td>\n",
              "      <td>0</td>\n",
              "      <td>0</td>\n",
              "      <td>0</td>\n",
              "      <td>0</td>\n",
              "      <td>0</td>\n",
              "      <td>0</td>\n",
              "      <td>0</td>\n",
              "    </tr>\n",
              "  </tbody>\n",
              "</table>\n",
              "</div>"
            ],
            "text/plain": [
              "                                           utterance  ...  INFORM\n",
              "0  Good. I also need to find a restaurant. Are th...  ...       0\n",
              "1  Is the price range above average? What's the a...  ...       0\n",
              "2                             Yes, that sounds good.  ...       0\n",
              "3                               No, not now. Thanks.  ...       0\n",
              "4                                    No, that's all.  ...       0\n",
              "\n",
              "[5 rows x 14 columns]"
            ]
          },
          "metadata": {},
          "execution_count": 27
        }
      ]
    },
    {
      "cell_type": "code",
      "metadata": {
        "id": "z0MZQ6hiqOFs"
      },
      "source": [
        "for i in range(len(data)):\n",
        "  for intent in data[i]['intent']:\n",
        "\n",
        "    if 'FindRestaurants' in data[i]['intent']:\n",
        "      df.loc[i, 'FindRestaurants'] = 1\n",
        "    elif 'ReserveRestaurant' in data[i]['intent']:\n",
        "      df.loc[i, 'ReserveRestaurant'] = 1\n",
        "    else:\n",
        "      df.loc[i, 'Others'] = 1"
      ],
      "execution_count": 28,
      "outputs": []
    },
    {
      "cell_type": "code",
      "metadata": {
        "colab": {
          "base_uri": "https://localhost:8080/",
          "height": 505
        },
        "id": "fJSh5hICKh_e",
        "outputId": "2b55a157-11f0-44a5-88cd-513e4530b4c0"
      },
      "source": [
        "df[df['ReserveRestaurant'] == 1].head()"
      ],
      "execution_count": 29,
      "outputs": [
        {
          "output_type": "execute_result",
          "data": {
            "text/html": [
              "<div>\n",
              "<style scoped>\n",
              "    .dataframe tbody tr th:only-of-type {\n",
              "        vertical-align: middle;\n",
              "    }\n",
              "\n",
              "    .dataframe tbody tr th {\n",
              "        vertical-align: top;\n",
              "    }\n",
              "\n",
              "    .dataframe thead th {\n",
              "        text-align: right;\n",
              "    }\n",
              "</style>\n",
              "<table border=\"1\" class=\"dataframe\">\n",
              "  <thead>\n",
              "    <tr style=\"text-align: right;\">\n",
              "      <th></th>\n",
              "      <th>utterance</th>\n",
              "      <th>REQUEST</th>\n",
              "      <th>Others</th>\n",
              "      <th>AFFIRM</th>\n",
              "      <th>NEGATE</th>\n",
              "      <th>GOODBYE</th>\n",
              "      <th>SELECT</th>\n",
              "      <th>THANK_YOU</th>\n",
              "      <th>REQUEST_ALTS</th>\n",
              "      <th>ReserveRestaurant</th>\n",
              "      <th>FindRestaurants</th>\n",
              "      <th>AFFIRM_INTENT</th>\n",
              "      <th>NEGATE_INTENT</th>\n",
              "      <th>INFORM</th>\n",
              "    </tr>\n",
              "  </thead>\n",
              "  <tbody>\n",
              "    <tr>\n",
              "      <th>729</th>\n",
              "      <td>I need a restaurant reservation.</td>\n",
              "      <td>0</td>\n",
              "      <td>0</td>\n",
              "      <td>0</td>\n",
              "      <td>0</td>\n",
              "      <td>0</td>\n",
              "      <td>0</td>\n",
              "      <td>0</td>\n",
              "      <td>0</td>\n",
              "      <td>1</td>\n",
              "      <td>0</td>\n",
              "      <td>0</td>\n",
              "      <td>0</td>\n",
              "      <td>0</td>\n",
              "    </tr>\n",
              "    <tr>\n",
              "      <th>735</th>\n",
              "      <td>On March 2nd we are going to celebrate my wedd...</td>\n",
              "      <td>0</td>\n",
              "      <td>0</td>\n",
              "      <td>0</td>\n",
              "      <td>0</td>\n",
              "      <td>0</td>\n",
              "      <td>0</td>\n",
              "      <td>0</td>\n",
              "      <td>0</td>\n",
              "      <td>1</td>\n",
              "      <td>0</td>\n",
              "      <td>0</td>\n",
              "      <td>0</td>\n",
              "      <td>0</td>\n",
              "    </tr>\n",
              "    <tr>\n",
              "      <th>741</th>\n",
              "      <td>id like to make a reservation for friday next ...</td>\n",
              "      <td>0</td>\n",
              "      <td>0</td>\n",
              "      <td>0</td>\n",
              "      <td>0</td>\n",
              "      <td>0</td>\n",
              "      <td>0</td>\n",
              "      <td>0</td>\n",
              "      <td>0</td>\n",
              "      <td>1</td>\n",
              "      <td>0</td>\n",
              "      <td>0</td>\n",
              "      <td>0</td>\n",
              "      <td>0</td>\n",
              "    </tr>\n",
              "    <tr>\n",
              "      <th>746</th>\n",
              "      <td>I would like to make a reservation at the rest...</td>\n",
              "      <td>0</td>\n",
              "      <td>0</td>\n",
              "      <td>0</td>\n",
              "      <td>0</td>\n",
              "      <td>0</td>\n",
              "      <td>0</td>\n",
              "      <td>0</td>\n",
              "      <td>0</td>\n",
              "      <td>1</td>\n",
              "      <td>0</td>\n",
              "      <td>0</td>\n",
              "      <td>0</td>\n",
              "      <td>0</td>\n",
              "    </tr>\n",
              "    <tr>\n",
              "      <th>753</th>\n",
              "      <td>I want to make a reservation at a restaurant.</td>\n",
              "      <td>0</td>\n",
              "      <td>0</td>\n",
              "      <td>0</td>\n",
              "      <td>0</td>\n",
              "      <td>0</td>\n",
              "      <td>0</td>\n",
              "      <td>0</td>\n",
              "      <td>0</td>\n",
              "      <td>1</td>\n",
              "      <td>0</td>\n",
              "      <td>0</td>\n",
              "      <td>0</td>\n",
              "      <td>0</td>\n",
              "    </tr>\n",
              "  </tbody>\n",
              "</table>\n",
              "</div>"
            ],
            "text/plain": [
              "                                             utterance  ...  INFORM\n",
              "729                   I need a restaurant reservation.  ...       0\n",
              "735  On March 2nd we are going to celebrate my wedd...  ...       0\n",
              "741  id like to make a reservation for friday next ...  ...       0\n",
              "746  I would like to make a reservation at the rest...  ...       0\n",
              "753      I want to make a reservation at a restaurant.  ...       0\n",
              "\n",
              "[5 rows x 14 columns]"
            ]
          },
          "metadata": {},
          "execution_count": 29
        }
      ]
    },
    {
      "cell_type": "code",
      "metadata": {
        "id": "BLBPKHHzx23G",
        "colab": {
          "base_uri": "https://localhost:8080/",
          "height": 725
        },
        "outputId": "944acc9a-70b5-4a8b-cb2d-3e81ebccb2dc"
      },
      "source": [
        "df[df['Others'] != 0].head(10)"
      ],
      "execution_count": 30,
      "outputs": [
        {
          "output_type": "execute_result",
          "data": {
            "text/html": [
              "<div>\n",
              "<style scoped>\n",
              "    .dataframe tbody tr th:only-of-type {\n",
              "        vertical-align: middle;\n",
              "    }\n",
              "\n",
              "    .dataframe tbody tr th {\n",
              "        vertical-align: top;\n",
              "    }\n",
              "\n",
              "    .dataframe thead th {\n",
              "        text-align: right;\n",
              "    }\n",
              "</style>\n",
              "<table border=\"1\" class=\"dataframe\">\n",
              "  <thead>\n",
              "    <tr style=\"text-align: right;\">\n",
              "      <th></th>\n",
              "      <th>utterance</th>\n",
              "      <th>REQUEST</th>\n",
              "      <th>Others</th>\n",
              "      <th>AFFIRM</th>\n",
              "      <th>NEGATE</th>\n",
              "      <th>GOODBYE</th>\n",
              "      <th>SELECT</th>\n",
              "      <th>THANK_YOU</th>\n",
              "      <th>REQUEST_ALTS</th>\n",
              "      <th>ReserveRestaurant</th>\n",
              "      <th>FindRestaurants</th>\n",
              "      <th>AFFIRM_INTENT</th>\n",
              "      <th>NEGATE_INTENT</th>\n",
              "      <th>INFORM</th>\n",
              "    </tr>\n",
              "  </thead>\n",
              "  <tbody>\n",
              "    <tr>\n",
              "      <th>1</th>\n",
              "      <td>Is the price range above average? What's the a...</td>\n",
              "      <td>0</td>\n",
              "      <td>1</td>\n",
              "      <td>0</td>\n",
              "      <td>0</td>\n",
              "      <td>0</td>\n",
              "      <td>0</td>\n",
              "      <td>0</td>\n",
              "      <td>0</td>\n",
              "      <td>0</td>\n",
              "      <td>0</td>\n",
              "      <td>0</td>\n",
              "      <td>0</td>\n",
              "      <td>0</td>\n",
              "    </tr>\n",
              "    <tr>\n",
              "      <th>2</th>\n",
              "      <td>Yes, that sounds good.</td>\n",
              "      <td>0</td>\n",
              "      <td>1</td>\n",
              "      <td>0</td>\n",
              "      <td>0</td>\n",
              "      <td>0</td>\n",
              "      <td>0</td>\n",
              "      <td>0</td>\n",
              "      <td>0</td>\n",
              "      <td>0</td>\n",
              "      <td>0</td>\n",
              "      <td>0</td>\n",
              "      <td>0</td>\n",
              "      <td>0</td>\n",
              "    </tr>\n",
              "    <tr>\n",
              "      <th>3</th>\n",
              "      <td>No, not now. Thanks.</td>\n",
              "      <td>0</td>\n",
              "      <td>1</td>\n",
              "      <td>0</td>\n",
              "      <td>0</td>\n",
              "      <td>0</td>\n",
              "      <td>0</td>\n",
              "      <td>0</td>\n",
              "      <td>0</td>\n",
              "      <td>0</td>\n",
              "      <td>0</td>\n",
              "      <td>0</td>\n",
              "      <td>0</td>\n",
              "      <td>0</td>\n",
              "    </tr>\n",
              "    <tr>\n",
              "      <th>4</th>\n",
              "      <td>No, that's all.</td>\n",
              "      <td>0</td>\n",
              "      <td>1</td>\n",
              "      <td>0</td>\n",
              "      <td>0</td>\n",
              "      <td>0</td>\n",
              "      <td>0</td>\n",
              "      <td>0</td>\n",
              "      <td>0</td>\n",
              "      <td>0</td>\n",
              "      <td>0</td>\n",
              "      <td>0</td>\n",
              "      <td>0</td>\n",
              "      <td>0</td>\n",
              "    </tr>\n",
              "    <tr>\n",
              "      <th>6</th>\n",
              "      <td>is alcohol served there?</td>\n",
              "      <td>0</td>\n",
              "      <td>1</td>\n",
              "      <td>0</td>\n",
              "      <td>0</td>\n",
              "      <td>0</td>\n",
              "      <td>0</td>\n",
              "      <td>0</td>\n",
              "      <td>0</td>\n",
              "      <td>0</td>\n",
              "      <td>0</td>\n",
              "      <td>0</td>\n",
              "      <td>0</td>\n",
              "      <td>0</td>\n",
              "    </tr>\n",
              "    <tr>\n",
              "      <th>7</th>\n",
              "      <td>Can you suggest me someplace else?</td>\n",
              "      <td>0</td>\n",
              "      <td>1</td>\n",
              "      <td>0</td>\n",
              "      <td>0</td>\n",
              "      <td>0</td>\n",
              "      <td>0</td>\n",
              "      <td>0</td>\n",
              "      <td>0</td>\n",
              "      <td>0</td>\n",
              "      <td>0</td>\n",
              "      <td>0</td>\n",
              "      <td>0</td>\n",
              "      <td>0</td>\n",
              "    </tr>\n",
              "    <tr>\n",
              "      <th>8</th>\n",
              "      <td>Yes, that works. That would be all</td>\n",
              "      <td>0</td>\n",
              "      <td>1</td>\n",
              "      <td>0</td>\n",
              "      <td>0</td>\n",
              "      <td>0</td>\n",
              "      <td>0</td>\n",
              "      <td>0</td>\n",
              "      <td>0</td>\n",
              "      <td>0</td>\n",
              "      <td>0</td>\n",
              "      <td>0</td>\n",
              "      <td>0</td>\n",
              "      <td>0</td>\n",
              "    </tr>\n",
              "    <tr>\n",
              "      <th>10</th>\n",
              "      <td>Let's do Sicilian.</td>\n",
              "      <td>0</td>\n",
              "      <td>1</td>\n",
              "      <td>0</td>\n",
              "      <td>0</td>\n",
              "      <td>0</td>\n",
              "      <td>0</td>\n",
              "      <td>0</td>\n",
              "      <td>0</td>\n",
              "      <td>0</td>\n",
              "      <td>0</td>\n",
              "      <td>0</td>\n",
              "      <td>0</td>\n",
              "      <td>0</td>\n",
              "    </tr>\n",
              "    <tr>\n",
              "      <th>11</th>\n",
              "      <td>That works for me.</td>\n",
              "      <td>0</td>\n",
              "      <td>1</td>\n",
              "      <td>0</td>\n",
              "      <td>0</td>\n",
              "      <td>0</td>\n",
              "      <td>0</td>\n",
              "      <td>0</td>\n",
              "      <td>0</td>\n",
              "      <td>0</td>\n",
              "      <td>0</td>\n",
              "      <td>0</td>\n",
              "      <td>0</td>\n",
              "      <td>0</td>\n",
              "    </tr>\n",
              "    <tr>\n",
              "      <th>12</th>\n",
              "      <td>Not yet, that's it for now.</td>\n",
              "      <td>0</td>\n",
              "      <td>1</td>\n",
              "      <td>0</td>\n",
              "      <td>0</td>\n",
              "      <td>0</td>\n",
              "      <td>0</td>\n",
              "      <td>0</td>\n",
              "      <td>0</td>\n",
              "      <td>0</td>\n",
              "      <td>0</td>\n",
              "      <td>0</td>\n",
              "      <td>0</td>\n",
              "      <td>0</td>\n",
              "    </tr>\n",
              "  </tbody>\n",
              "</table>\n",
              "</div>"
            ],
            "text/plain": [
              "                                            utterance  ...  INFORM\n",
              "1   Is the price range above average? What's the a...  ...       0\n",
              "2                              Yes, that sounds good.  ...       0\n",
              "3                                No, not now. Thanks.  ...       0\n",
              "4                                     No, that's all.  ...       0\n",
              "6                            is alcohol served there?  ...       0\n",
              "7                  Can you suggest me someplace else?  ...       0\n",
              "8                  Yes, that works. That would be all  ...       0\n",
              "10                                 Let's do Sicilian.  ...       0\n",
              "11                                 That works for me.  ...       0\n",
              "12                        Not yet, that's it for now.  ...       0\n",
              "\n",
              "[10 rows x 14 columns]"
            ]
          },
          "metadata": {},
          "execution_count": 30
        }
      ]
    },
    {
      "cell_type": "code",
      "metadata": {
        "id": "1ZR3321Mytb4"
      },
      "source": [
        "df = df[['utterance','FindRestaurants','ReserveRestaurant','Others']]"
      ],
      "execution_count": 31,
      "outputs": []
    },
    {
      "cell_type": "code",
      "metadata": {
        "id": "RXEVehNBy_Mu",
        "colab": {
          "base_uri": "https://localhost:8080/",
          "height": 202
        },
        "outputId": "8807e59b-98c2-405b-e469-bcc455a5e051"
      },
      "source": [
        "df.head(5)"
      ],
      "execution_count": 32,
      "outputs": [
        {
          "output_type": "execute_result",
          "data": {
            "text/html": [
              "<div>\n",
              "<style scoped>\n",
              "    .dataframe tbody tr th:only-of-type {\n",
              "        vertical-align: middle;\n",
              "    }\n",
              "\n",
              "    .dataframe tbody tr th {\n",
              "        vertical-align: top;\n",
              "    }\n",
              "\n",
              "    .dataframe thead th {\n",
              "        text-align: right;\n",
              "    }\n",
              "</style>\n",
              "<table border=\"1\" class=\"dataframe\">\n",
              "  <thead>\n",
              "    <tr style=\"text-align: right;\">\n",
              "      <th></th>\n",
              "      <th>utterance</th>\n",
              "      <th>FindRestaurants</th>\n",
              "      <th>ReserveRestaurant</th>\n",
              "      <th>Others</th>\n",
              "    </tr>\n",
              "  </thead>\n",
              "  <tbody>\n",
              "    <tr>\n",
              "      <th>0</th>\n",
              "      <td>Good. I also need to find a restaurant. Are th...</td>\n",
              "      <td>1</td>\n",
              "      <td>0</td>\n",
              "      <td>0</td>\n",
              "    </tr>\n",
              "    <tr>\n",
              "      <th>1</th>\n",
              "      <td>Is the price range above average? What's the a...</td>\n",
              "      <td>0</td>\n",
              "      <td>0</td>\n",
              "      <td>1</td>\n",
              "    </tr>\n",
              "    <tr>\n",
              "      <th>2</th>\n",
              "      <td>Yes, that sounds good.</td>\n",
              "      <td>0</td>\n",
              "      <td>0</td>\n",
              "      <td>1</td>\n",
              "    </tr>\n",
              "    <tr>\n",
              "      <th>3</th>\n",
              "      <td>No, not now. Thanks.</td>\n",
              "      <td>0</td>\n",
              "      <td>0</td>\n",
              "      <td>1</td>\n",
              "    </tr>\n",
              "    <tr>\n",
              "      <th>4</th>\n",
              "      <td>No, that's all.</td>\n",
              "      <td>0</td>\n",
              "      <td>0</td>\n",
              "      <td>1</td>\n",
              "    </tr>\n",
              "  </tbody>\n",
              "</table>\n",
              "</div>"
            ],
            "text/plain": [
              "                                           utterance  ...  Others\n",
              "0  Good. I also need to find a restaurant. Are th...  ...       0\n",
              "1  Is the price range above average? What's the a...  ...       1\n",
              "2                             Yes, that sounds good.  ...       1\n",
              "3                               No, not now. Thanks.  ...       1\n",
              "4                                    No, that's all.  ...       1\n",
              "\n",
              "[5 rows x 4 columns]"
            ]
          },
          "metadata": {},
          "execution_count": 32
        }
      ]
    },
    {
      "cell_type": "code",
      "metadata": {
        "id": "SkpJItHohFWp",
        "colab": {
          "base_uri": "https://localhost:8080/"
        },
        "outputId": "1813a3c8-6839-4e26-f1cd-067bba28019e"
      },
      "source": [
        "df.count()"
      ],
      "execution_count": 33,
      "outputs": [
        {
          "output_type": "execute_result",
          "data": {
            "text/plain": [
              "utterance            23424\n",
              "FindRestaurants      23424\n",
              "ReserveRestaurant    23424\n",
              "Others               23424\n",
              "dtype: int64"
            ]
          },
          "metadata": {},
          "execution_count": 33
        }
      ]
    },
    {
      "cell_type": "code",
      "metadata": {
        "id": "vtUvWN07gM2b",
        "colab": {
          "base_uri": "https://localhost:8080/"
        },
        "outputId": "a27ce812-bc03-4089-9a64-ff50fd1ae13c"
      },
      "source": [
        "df.sum()"
      ],
      "execution_count": 34,
      "outputs": [
        {
          "output_type": "execute_result",
          "data": {
            "text/plain": [
              "utterance            Good. I also need to find a restaurant. Are th...\n",
              "FindRestaurants                                                   2717\n",
              "ReserveRestaurant                                                 2090\n",
              "Others                                                           18617\n",
              "dtype: object"
            ]
          },
          "metadata": {},
          "execution_count": 34
        }
      ]
    },
    {
      "cell_type": "markdown",
      "metadata": {
        "id": "GqcWT9IJhp47"
      },
      "source": [
        "Como o dataset está bem desbalanceado, precisamos fazer um reajuste nele para podermos equilibrar as coisas"
      ]
    },
    {
      "cell_type": "code",
      "metadata": {
        "id": "Xp8wTtf5jKPl",
        "colab": {
          "base_uri": "https://localhost:8080/",
          "height": 202
        },
        "outputId": "fa68e0ab-afb8-4f50-970a-990a4d5de7e7"
      },
      "source": [
        "df.head(5)"
      ],
      "execution_count": 35,
      "outputs": [
        {
          "output_type": "execute_result",
          "data": {
            "text/html": [
              "<div>\n",
              "<style scoped>\n",
              "    .dataframe tbody tr th:only-of-type {\n",
              "        vertical-align: middle;\n",
              "    }\n",
              "\n",
              "    .dataframe tbody tr th {\n",
              "        vertical-align: top;\n",
              "    }\n",
              "\n",
              "    .dataframe thead th {\n",
              "        text-align: right;\n",
              "    }\n",
              "</style>\n",
              "<table border=\"1\" class=\"dataframe\">\n",
              "  <thead>\n",
              "    <tr style=\"text-align: right;\">\n",
              "      <th></th>\n",
              "      <th>utterance</th>\n",
              "      <th>FindRestaurants</th>\n",
              "      <th>ReserveRestaurant</th>\n",
              "      <th>Others</th>\n",
              "    </tr>\n",
              "  </thead>\n",
              "  <tbody>\n",
              "    <tr>\n",
              "      <th>0</th>\n",
              "      <td>Good. I also need to find a restaurant. Are th...</td>\n",
              "      <td>1</td>\n",
              "      <td>0</td>\n",
              "      <td>0</td>\n",
              "    </tr>\n",
              "    <tr>\n",
              "      <th>1</th>\n",
              "      <td>Is the price range above average? What's the a...</td>\n",
              "      <td>0</td>\n",
              "      <td>0</td>\n",
              "      <td>1</td>\n",
              "    </tr>\n",
              "    <tr>\n",
              "      <th>2</th>\n",
              "      <td>Yes, that sounds good.</td>\n",
              "      <td>0</td>\n",
              "      <td>0</td>\n",
              "      <td>1</td>\n",
              "    </tr>\n",
              "    <tr>\n",
              "      <th>3</th>\n",
              "      <td>No, not now. Thanks.</td>\n",
              "      <td>0</td>\n",
              "      <td>0</td>\n",
              "      <td>1</td>\n",
              "    </tr>\n",
              "    <tr>\n",
              "      <th>4</th>\n",
              "      <td>No, that's all.</td>\n",
              "      <td>0</td>\n",
              "      <td>0</td>\n",
              "      <td>1</td>\n",
              "    </tr>\n",
              "  </tbody>\n",
              "</table>\n",
              "</div>"
            ],
            "text/plain": [
              "                                           utterance  ...  Others\n",
              "0  Good. I also need to find a restaurant. Are th...  ...       0\n",
              "1  Is the price range above average? What's the a...  ...       1\n",
              "2                             Yes, that sounds good.  ...       1\n",
              "3                               No, not now. Thanks.  ...       1\n",
              "4                                    No, that's all.  ...       1\n",
              "\n",
              "[5 rows x 4 columns]"
            ]
          },
          "metadata": {},
          "execution_count": 35
        }
      ]
    },
    {
      "cell_type": "code",
      "metadata": {
        "id": "RRXGRhuIr7fz",
        "outputId": "ef26aeec-458a-4715-fc20-1a7b7a9a9932",
        "colab": {
          "base_uri": "https://localhost:8080/"
        }
      },
      "source": [
        "others = df[df['Others'] == 1]\n",
        "not_others = df[df['Others'] == 0]\n",
        "others = others.sample(frac = 1)\n",
        "others.sum()\n"
      ],
      "execution_count": 45,
      "outputs": [
        {
          "output_type": "execute_result",
          "data": {
            "text/plain": [
              "utterance            Yes, that would be great.I need the reservatio...\n",
              "FindRestaurants                                                      0\n",
              "ReserveRestaurant                                                    0\n",
              "Others                                                           18617\n",
              "dtype: object"
            ]
          },
          "metadata": {},
          "execution_count": 45
        }
      ]
    },
    {
      "cell_type": "code",
      "metadata": {
        "id": "aL4HxKmgaF4A",
        "outputId": "74dc5cb9-a732-483c-b6bb-871e23636986",
        "colab": {
          "base_uri": "https://localhost:8080/"
        }
      },
      "source": [
        "others = others.iloc[:2500,:]\n",
        "others.sum()"
      ],
      "execution_count": 46,
      "outputs": [
        {
          "output_type": "execute_result",
          "data": {
            "text/plain": [
              "utterance            Yes, that would be great.I need the reservatio...\n",
              "FindRestaurants                                                      0\n",
              "ReserveRestaurant                                                    0\n",
              "Others                                                            2500\n",
              "dtype: object"
            ]
          },
          "metadata": {},
          "execution_count": 46
        }
      ]
    },
    {
      "cell_type": "code",
      "metadata": {
        "id": "99HnE0h5jKS5",
        "outputId": "faeeb512-98b7-4d83-d44d-55153e2087ea",
        "colab": {
          "base_uri": "https://localhost:8080/"
        }
      },
      "source": [
        "not_others.sum()"
      ],
      "execution_count": 43,
      "outputs": [
        {
          "output_type": "execute_result",
          "data": {
            "text/plain": [
              "utterance            Good. I also need to find a restaurant. Are th...\n",
              "FindRestaurants                                                   2717\n",
              "ReserveRestaurant                                                 2090\n",
              "Others                                                               0\n",
              "dtype: object"
            ]
          },
          "metadata": {},
          "execution_count": 43
        }
      ]
    },
    {
      "cell_type": "code",
      "metadata": {
        "id": "4ZvYVFh8ahG5"
      },
      "source": [
        "df = others.append(not_others)\n",
        "df.sum()\n",
        "df = df.sample(frac = 1)\n"
      ],
      "execution_count": 54,
      "outputs": []
    },
    {
      "cell_type": "markdown",
      "metadata": {
        "id": "AuC2TeDEhO1Z"
      },
      "source": [
        "#iniciando a classificação"
      ]
    },
    {
      "cell_type": "code",
      "metadata": {
        "id": "nka6hlquT4a0"
      },
      "source": [
        "import matplotlib.pyplot as plt\n",
        "import re\n",
        "import shutil\n",
        "import string\n",
        "import tensorflow as tf\n",
        "\n",
        "from tensorflow.keras import layers\n",
        "from tensorflow.keras.layers import Dense, Embedding, LSTM, SpatialDropout1D\n",
        "from tensorflow.keras import losses\n",
        "from tensorflow.keras import preprocessing"
      ],
      "execution_count": 55,
      "outputs": []
    },
    {
      "cell_type": "code",
      "metadata": {
        "id": "aS_ZzOGyh3qy"
      },
      "source": [
        "def custom_standardization(input_data):\n",
        "  lowercase = tf.strings.lower(input_data)\n",
        "  stripped_html = tf.strings.regex_replace(lowercase, '<br />', ' ')\n",
        "  return tf.strings.regex_replace(stripped_html,\n",
        "                                  '[%s]' % re.escape(string.punctuation),\n",
        "                                  '')"
      ],
      "execution_count": 56,
      "outputs": []
    },
    {
      "cell_type": "code",
      "metadata": {
        "id": "CQi7S8hJh5vn"
      },
      "source": [
        "max_features = 10000\n",
        "sequence_length = 250\n",
        "\n",
        "vectorize_layer = layers.TextVectorization(\n",
        "    standardize=custom_standardization,\n",
        "    max_tokens=max_features,\n",
        "    output_mode='int',\n",
        "    output_sequence_length=sequence_length)"
      ],
      "execution_count": 57,
      "outputs": []
    },
    {
      "cell_type": "code",
      "metadata": {
        "id": "YNHJKXJ3shcg"
      },
      "source": [
        "dd = df.to_dict(orient=\"list\")"
      ],
      "execution_count": 58,
      "outputs": []
    },
    {
      "cell_type": "code",
      "metadata": {
        "id": "2KcE-KwWs3k3",
        "colab": {
          "base_uri": "https://localhost:8080/",
          "height": 414
        },
        "outputId": "e115a4c2-60d2-4629-9d40-42f18af1bf70"
      },
      "source": [
        "df"
      ],
      "execution_count": 59,
      "outputs": [
        {
          "output_type": "execute_result",
          "data": {
            "text/html": [
              "<div>\n",
              "<style scoped>\n",
              "    .dataframe tbody tr th:only-of-type {\n",
              "        vertical-align: middle;\n",
              "    }\n",
              "\n",
              "    .dataframe tbody tr th {\n",
              "        vertical-align: top;\n",
              "    }\n",
              "\n",
              "    .dataframe thead th {\n",
              "        text-align: right;\n",
              "    }\n",
              "</style>\n",
              "<table border=\"1\" class=\"dataframe\">\n",
              "  <thead>\n",
              "    <tr style=\"text-align: right;\">\n",
              "      <th></th>\n",
              "      <th>utterance</th>\n",
              "      <th>FindRestaurants</th>\n",
              "      <th>ReserveRestaurant</th>\n",
              "      <th>Others</th>\n",
              "    </tr>\n",
              "  </thead>\n",
              "  <tbody>\n",
              "    <tr>\n",
              "      <th>21477</th>\n",
              "      <td>Where can I dine with a vegetarian choices on ...</td>\n",
              "      <td>1</td>\n",
              "      <td>0</td>\n",
              "      <td>0</td>\n",
              "    </tr>\n",
              "    <tr>\n",
              "      <th>22296</th>\n",
              "      <td>thanks a lot</td>\n",
              "      <td>0</td>\n",
              "      <td>0</td>\n",
              "      <td>1</td>\n",
              "    </tr>\n",
              "    <tr>\n",
              "      <th>1256</th>\n",
              "      <td>I want a reservation for a restaurant.</td>\n",
              "      <td>0</td>\n",
              "      <td>1</td>\n",
              "      <td>0</td>\n",
              "    </tr>\n",
              "    <tr>\n",
              "      <th>12728</th>\n",
              "      <td>I am meeting friends and would like to find a ...</td>\n",
              "      <td>1</td>\n",
              "      <td>0</td>\n",
              "      <td>0</td>\n",
              "    </tr>\n",
              "    <tr>\n",
              "      <th>17275</th>\n",
              "      <td>I'd like to find a restaurant there too please.</td>\n",
              "      <td>1</td>\n",
              "      <td>0</td>\n",
              "      <td>0</td>\n",
              "    </tr>\n",
              "    <tr>\n",
              "      <th>...</th>\n",
              "      <td>...</td>\n",
              "      <td>...</td>\n",
              "      <td>...</td>\n",
              "      <td>...</td>\n",
              "    </tr>\n",
              "    <tr>\n",
              "      <th>16208</th>\n",
              "      <td>Yes, also do they have live music?</td>\n",
              "      <td>0</td>\n",
              "      <td>0</td>\n",
              "      <td>1</td>\n",
              "    </tr>\n",
              "    <tr>\n",
              "      <th>5854</th>\n",
              "      <td>I would like to eat somewhere</td>\n",
              "      <td>1</td>\n",
              "      <td>0</td>\n",
              "      <td>0</td>\n",
              "    </tr>\n",
              "    <tr>\n",
              "      <th>22180</th>\n",
              "      <td>ok perfect</td>\n",
              "      <td>0</td>\n",
              "      <td>0</td>\n",
              "      <td>1</td>\n",
              "    </tr>\n",
              "    <tr>\n",
              "      <th>14530</th>\n",
              "      <td>Oh yeah, I've heard good things about Red Joan...</td>\n",
              "      <td>1</td>\n",
              "      <td>0</td>\n",
              "      <td>0</td>\n",
              "    </tr>\n",
              "    <tr>\n",
              "      <th>13762</th>\n",
              "      <td>How about in the evening 7:45?</td>\n",
              "      <td>0</td>\n",
              "      <td>0</td>\n",
              "      <td>1</td>\n",
              "    </tr>\n",
              "  </tbody>\n",
              "</table>\n",
              "<p>7307 rows × 4 columns</p>\n",
              "</div>"
            ],
            "text/plain": [
              "                                               utterance  ...  Others\n",
              "21477  Where can I dine with a vegetarian choices on ...  ...       0\n",
              "22296                                       thanks a lot  ...       1\n",
              "1256              I want a reservation for a restaurant.  ...       0\n",
              "12728  I am meeting friends and would like to find a ...  ...       0\n",
              "17275    I'd like to find a restaurant there too please.  ...       0\n",
              "...                                                  ...  ...     ...\n",
              "16208                 Yes, also do they have live music?  ...       1\n",
              "5854                       I would like to eat somewhere  ...       0\n",
              "22180                                         ok perfect  ...       1\n",
              "14530  Oh yeah, I've heard good things about Red Joan...  ...       0\n",
              "13762                     How about in the evening 7:45?  ...       1\n",
              "\n",
              "[7307 rows x 4 columns]"
            ]
          },
          "metadata": {},
          "execution_count": 59
        }
      ]
    },
    {
      "cell_type": "markdown",
      "metadata": {
        "id": "XSwM_5V8vktI"
      },
      "source": [
        "Teste de vetorização de um texto"
      ]
    },
    {
      "cell_type": "code",
      "metadata": {
        "id": "UAltsKTHh70A"
      },
      "source": [
        "train_text = [x['utterance'] for x in data]\n",
        "train_labels = [y['intent'] for y in data]\n",
        "vectorize_layer.adapt(train_text)"
      ],
      "execution_count": 60,
      "outputs": []
    },
    {
      "cell_type": "code",
      "metadata": {
        "id": "EuSbsV-higRL"
      },
      "source": [
        "def vectorize_text(text):\n",
        "  #text = tf.expand_dims(text, -1)\n",
        "  return vectorize_layer(text)"
      ],
      "execution_count": 61,
      "outputs": []
    },
    {
      "cell_type": "code",
      "metadata": {
        "colab": {
          "base_uri": "https://localhost:8080/"
        },
        "id": "NoLhFeUhjDLK",
        "outputId": "d49193e2-2869-4ef4-fd13-3d813595d941"
      },
      "source": [
        "first_review = train_text[0]\n",
        "first_label = train_labels[0]\n",
        "print(\"Review\", first_review)\n",
        "#print(\"Label\", raw_train_ds.class_names[first_label])\n",
        "print(\"Label\", first_label)\n",
        "print(\"Vectorized review\", vectorize_text(first_review))"
      ],
      "execution_count": 62,
      "outputs": [
        {
          "output_type": "stream",
          "name": "stdout",
          "text": [
            "Review Good. I also need to find a restaurant. Are there any Izakaya places near there?\n",
            "Label ['INFORM', 'FindRestaurants']\n",
            "Vectorized review tf.Tensor(\n",
            "[ 31   3  52  42   5  17   2  12  66  16  78 295 200 207  16   0   0   0\n",
            "   0   0   0   0   0   0   0   0   0   0   0   0   0   0   0   0   0   0\n",
            "   0   0   0   0   0   0   0   0   0   0   0   0   0   0   0   0   0   0\n",
            "   0   0   0   0   0   0   0   0   0   0   0   0   0   0   0   0   0   0\n",
            "   0   0   0   0   0   0   0   0   0   0   0   0   0   0   0   0   0   0\n",
            "   0   0   0   0   0   0   0   0   0   0   0   0   0   0   0   0   0   0\n",
            "   0   0   0   0   0   0   0   0   0   0   0   0   0   0   0   0   0   0\n",
            "   0   0   0   0   0   0   0   0   0   0   0   0   0   0   0   0   0   0\n",
            "   0   0   0   0   0   0   0   0   0   0   0   0   0   0   0   0   0   0\n",
            "   0   0   0   0   0   0   0   0   0   0   0   0   0   0   0   0   0   0\n",
            "   0   0   0   0   0   0   0   0   0   0   0   0   0   0   0   0   0   0\n",
            "   0   0   0   0   0   0   0   0   0   0   0   0   0   0   0   0   0   0\n",
            "   0   0   0   0   0   0   0   0   0   0   0   0   0   0   0   0   0   0\n",
            "   0   0   0   0   0   0   0   0   0   0   0   0   0   0   0   0], shape=(250,), dtype=int64)\n"
          ]
        }
      ]
    },
    {
      "cell_type": "code",
      "metadata": {
        "colab": {
          "base_uri": "https://localhost:8080/"
        },
        "id": "IpjXCzlHjzkP",
        "outputId": "fe809ffc-a393-4cd5-c845-26618730aa9a"
      },
      "source": [
        "print('Vocabulary size: {}'.format(len(vectorize_layer.get_vocabulary())))"
      ],
      "execution_count": 63,
      "outputs": [
        {
          "output_type": "stream",
          "name": "stdout",
          "text": [
            "Vocabulary size: 3054\n"
          ]
        }
      ]
    },
    {
      "cell_type": "markdown",
      "metadata": {
        "id": "je6im5PwY4Ch"
      },
      "source": [
        "Criando a REDE"
      ]
    },
    {
      "cell_type": "code",
      "metadata": {
        "colab": {
          "base_uri": "https://localhost:8080/"
        },
        "id": "0QvMV6CTktLz",
        "outputId": "d065c56d-05cb-42e8-b497-4c4e28aeef95"
      },
      "source": [
        "embedding_dim = 16\n",
        "\n",
        "model = tf.keras.Sequential([\n",
        "  layers.Embedding(max_features + 1, embedding_dim),\n",
        "  layers.Dropout(0.2),\n",
        "  layers.GlobalAveragePooling1D(),\n",
        "  layers.Dropout(0.2),\n",
        "  #layers.SpatialDropout1D(0.2),\n",
        "  #layers.LSTM(200, dropout=0.2, recurrent_dropout=0.2),\n",
        "  layers.Dense(50),\n",
        "  layers.Dense(3, activation='softmax')])\n",
        "\n",
        "model.summary()"
      ],
      "execution_count": 85,
      "outputs": [
        {
          "output_type": "stream",
          "name": "stdout",
          "text": [
            "Model: \"sequential_4\"\n",
            "_________________________________________________________________\n",
            "Layer (type)                 Output Shape              Param #   \n",
            "=================================================================\n",
            "embedding_4 (Embedding)      (None, None, 16)          160016    \n",
            "_________________________________________________________________\n",
            "dropout_6 (Dropout)          (None, None, 16)          0         \n",
            "_________________________________________________________________\n",
            "global_average_pooling1d_3 ( (None, 16)                0         \n",
            "_________________________________________________________________\n",
            "dropout_7 (Dropout)          (None, 16)                0         \n",
            "_________________________________________________________________\n",
            "dense_5 (Dense)              (None, 50)                850       \n",
            "_________________________________________________________________\n",
            "dense_6 (Dense)              (None, 3)                 153       \n",
            "=================================================================\n",
            "Total params: 161,019\n",
            "Trainable params: 161,019\n",
            "Non-trainable params: 0\n",
            "_________________________________________________________________\n"
          ]
        }
      ]
    },
    {
      "cell_type": "code",
      "metadata": {
        "id": "SanvGcIaFsG_"
      },
      "source": [
        "model.compile(loss='categorical_crossentropy',\n",
        "              optimizer='adam',\n",
        "              metrics=['accuracy'])"
      ],
      "execution_count": 86,
      "outputs": []
    },
    {
      "cell_type": "code",
      "metadata": {
        "id": "t8HtDmfSPcmc"
      },
      "source": [
        "train_text = df['utterance'].tolist()\n",
        "X_train = tf.convert_to_tensor([vectorize_text(utterance) for utterance in train_text])"
      ],
      "execution_count": 70,
      "outputs": []
    },
    {
      "cell_type": "code",
      "metadata": {
        "colab": {
          "base_uri": "https://localhost:8080/"
        },
        "id": "hT6eUzvmV7tw",
        "outputId": "239e4614-682c-493a-8dca-d9b4932084b1"
      },
      "source": [
        "X_train"
      ],
      "execution_count": 71,
      "outputs": [
        {
          "output_type": "execute_result",
          "data": {
            "text/plain": [
              "<tf.Tensor: shape=(7307, 250), dtype=int64, numpy=\n",
              "array([[113,  15,   3, ...,   0,   0,   0],\n",
              "       [ 18,   2,  90, ...,   0,   0,   0],\n",
              "       [  3,  23,   2, ...,   0,   0,   0],\n",
              "       ...,\n",
              "       [114,  60,   0, ...,   0,   0,   0],\n",
              "       [325, 112, 345, ...,   0,   0,   0],\n",
              "       [ 99, 117,  11, ...,   0,   0,   0]])>"
            ]
          },
          "metadata": {},
          "execution_count": 71
        }
      ]
    },
    {
      "cell_type": "code",
      "metadata": {
        "colab": {
          "base_uri": "https://localhost:8080/"
        },
        "id": "D8HTueCfRzbN",
        "outputId": "3dfa674b-6a4d-486e-e85e-ae1983751e7a"
      },
      "source": [
        "Y_train = df.loc[:, df.columns != 'utterance']\n",
        "Y_train = tf.convert_to_tensor(Y_train)\n",
        "Y_train"
      ],
      "execution_count": 72,
      "outputs": [
        {
          "output_type": "execute_result",
          "data": {
            "text/plain": [
              "<tf.Tensor: shape=(7307, 3), dtype=int64, numpy=\n",
              "array([[1, 0, 0],\n",
              "       [0, 0, 1],\n",
              "       [0, 1, 0],\n",
              "       ...,\n",
              "       [0, 0, 1],\n",
              "       [1, 0, 0],\n",
              "       [0, 0, 1]])>"
            ]
          },
          "metadata": {},
          "execution_count": 72
        }
      ]
    },
    {
      "cell_type": "code",
      "metadata": {
        "colab": {
          "base_uri": "https://localhost:8080/"
        },
        "id": "TnWdmfPqOnjN",
        "outputId": "32ef9dd5-ba8c-4228-ca34-55d4993c19fe"
      },
      "source": [
        "epochs = 20\n",
        "batch_size = 64\n",
        "\n",
        "history = model.fit(X_train, Y_train, epochs=epochs, batch_size=batch_size,validation_split=0.1)"
      ],
      "execution_count": 87,
      "outputs": [
        {
          "output_type": "stream",
          "name": "stdout",
          "text": [
            "Epoch 1/20\n",
            "103/103 [==============================] - 2s 10ms/step - loss: 1.0916 - accuracy: 0.3755 - val_loss: 1.0874 - val_accuracy: 0.3502\n",
            "Epoch 2/20\n",
            "103/103 [==============================] - 1s 8ms/step - loss: 1.0791 - accuracy: 0.4066 - val_loss: 1.0629 - val_accuracy: 0.3557\n",
            "Epoch 3/20\n",
            "103/103 [==============================] - 1s 8ms/step - loss: 1.0152 - accuracy: 0.5509 - val_loss: 0.9371 - val_accuracy: 0.7756\n",
            "Epoch 4/20\n",
            "103/103 [==============================] - 1s 8ms/step - loss: 0.8101 - accuracy: 0.7915 - val_loss: 0.6669 - val_accuracy: 0.8495\n",
            "Epoch 5/20\n",
            "103/103 [==============================] - 1s 8ms/step - loss: 0.5567 - accuracy: 0.8669 - val_loss: 0.4539 - val_accuracy: 0.8865\n",
            "Epoch 6/20\n",
            "103/103 [==============================] - 1s 8ms/step - loss: 0.4098 - accuracy: 0.8843 - val_loss: 0.3703 - val_accuracy: 0.9015\n",
            "Epoch 7/20\n",
            "103/103 [==============================] - 1s 8ms/step - loss: 0.3348 - accuracy: 0.9009 - val_loss: 0.3045 - val_accuracy: 0.9083\n",
            "Epoch 8/20\n",
            "103/103 [==============================] - 1s 8ms/step - loss: 0.2960 - accuracy: 0.9077 - val_loss: 0.2809 - val_accuracy: 0.9111\n",
            "Epoch 9/20\n",
            "103/103 [==============================] - 1s 8ms/step - loss: 0.2734 - accuracy: 0.9116 - val_loss: 0.2790 - val_accuracy: 0.9070\n",
            "Epoch 10/20\n",
            "103/103 [==============================] - 1s 8ms/step - loss: 0.2556 - accuracy: 0.9205 - val_loss: 0.2564 - val_accuracy: 0.9193\n",
            "Epoch 11/20\n",
            "103/103 [==============================] - 1s 8ms/step - loss: 0.2417 - accuracy: 0.9199 - val_loss: 0.2495 - val_accuracy: 0.9166\n",
            "Epoch 12/20\n",
            "103/103 [==============================] - 1s 8ms/step - loss: 0.2299 - accuracy: 0.9259 - val_loss: 0.2461 - val_accuracy: 0.9220\n",
            "Epoch 13/20\n",
            "103/103 [==============================] - 1s 8ms/step - loss: 0.2257 - accuracy: 0.9281 - val_loss: 0.2449 - val_accuracy: 0.9248\n",
            "Epoch 14/20\n",
            "103/103 [==============================] - 1s 8ms/step - loss: 0.2131 - accuracy: 0.9304 - val_loss: 0.2430 - val_accuracy: 0.9179\n",
            "Epoch 15/20\n",
            "103/103 [==============================] - 1s 8ms/step - loss: 0.2070 - accuracy: 0.9335 - val_loss: 0.2470 - val_accuracy: 0.9193\n",
            "Epoch 16/20\n",
            "103/103 [==============================] - 1s 8ms/step - loss: 0.1999 - accuracy: 0.9352 - val_loss: 0.2350 - val_accuracy: 0.9261\n",
            "Epoch 17/20\n",
            "103/103 [==============================] - 1s 8ms/step - loss: 0.1967 - accuracy: 0.9342 - val_loss: 0.2384 - val_accuracy: 0.9248\n",
            "Epoch 18/20\n",
            "103/103 [==============================] - 1s 8ms/step - loss: 0.1903 - accuracy: 0.9346 - val_loss: 0.2338 - val_accuracy: 0.9220\n",
            "Epoch 19/20\n",
            "103/103 [==============================] - 1s 8ms/step - loss: 0.1888 - accuracy: 0.9389 - val_loss: 0.2344 - val_accuracy: 0.9207\n",
            "Epoch 20/20\n",
            "103/103 [==============================] - 1s 8ms/step - loss: 0.1916 - accuracy: 0.9395 - val_loss: 0.2367 - val_accuracy: 0.9207\n"
          ]
        }
      ]
    },
    {
      "cell_type": "code",
      "metadata": {
        "id": "6LA543y3zZKn"
      },
      "source": [
        ""
      ],
      "execution_count": null,
      "outputs": []
    },
    {
      "cell_type": "code",
      "metadata": {
        "id": "P1xr-tS1ZAoy"
      },
      "source": [
        ""
      ],
      "execution_count": null,
      "outputs": []
    },
    {
      "cell_type": "code",
      "metadata": {
        "id": "i5D46UYiZArb"
      },
      "source": [
        ""
      ],
      "execution_count": null,
      "outputs": []
    },
    {
      "cell_type": "code",
      "metadata": {
        "id": "_cPxsNbDZAvD"
      },
      "source": [
        ""
      ],
      "execution_count": null,
      "outputs": []
    }
  ]
}