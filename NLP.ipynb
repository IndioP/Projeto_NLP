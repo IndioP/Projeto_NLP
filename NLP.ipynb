{
  "nbformat": 4,
  "nbformat_minor": 0,
  "metadata": {
    "colab": {
      "name": "NLP.ipynb",
      "provenance": [],
      "collapsed_sections": []
    },
    "kernelspec": {
      "name": "python3",
      "display_name": "Python 3"
    },
    "language_info": {
      "name": "python"
    }
  },
  "cells": [
    {
      "cell_type": "code",
      "metadata": {
        "id": "IQuJvBDCcguk"
      },
      "source": [
        "import json\n",
        "import os\n",
        "!git clone https://github.com/IndioP/Projeto_NLP"
      ],
      "execution_count": 249,
      "outputs": []
    },
    {
      "cell_type": "code",
      "metadata": {
        "id": "o6OjTMKuh2U_"
      },
      "source": [
        "data = list()\n",
        "services_names = set()\n",
        "for path_train in ['Projeto_NLP/files/train/','Projeto_NLP/files/test/','Projeto_NLP/files/dev/']:\n",
        "  for file_name in os.listdir(path_train):\n",
        "    with open(path_train+file_name, 'r') as f:\n",
        "      data2 = json.load(f)\n",
        "      for item in data2:\n",
        "        for service in item['services']:\n",
        "          services_names.add(service)\n",
        "        \n",
        "    \n",
        "      data += data2\n"
      ],
      "execution_count": 250,
      "outputs": []
    },
    {
      "cell_type": "code",
      "metadata": {
        "colab": {
          "base_uri": "https://localhost:8080/"
        },
        "id": "NvUPILJYjjdu",
        "outputId": "4eb019b2-8ac7-44fe-fe4d-7fdb0d3863ab"
      },
      "source": [
        "#dando uma checada nos serviços do dataset\n",
        "services_names"
      ],
      "execution_count": 251,
      "outputs": [
        {
          "output_type": "execute_result",
          "data": {
            "text/plain": [
              "{'Alarm_1',\n",
              " 'Banks_1',\n",
              " 'Banks_2',\n",
              " 'Buses_1',\n",
              " 'Buses_2',\n",
              " 'Buses_3',\n",
              " 'Calendar_1',\n",
              " 'Events_1',\n",
              " 'Events_2',\n",
              " 'Events_3',\n",
              " 'Flights_1',\n",
              " 'Flights_2',\n",
              " 'Flights_3',\n",
              " 'Flights_4',\n",
              " 'Homes_1',\n",
              " 'Homes_2',\n",
              " 'Hotels_1',\n",
              " 'Hotels_2',\n",
              " 'Hotels_3',\n",
              " 'Hotels_4',\n",
              " 'Media_1',\n",
              " 'Media_2',\n",
              " 'Media_3',\n",
              " 'Messaging_1',\n",
              " 'Movies_1',\n",
              " 'Movies_2',\n",
              " 'Movies_3',\n",
              " 'Music_1',\n",
              " 'Music_2',\n",
              " 'Music_3',\n",
              " 'Payment_1',\n",
              " 'RentalCars_1',\n",
              " 'RentalCars_2',\n",
              " 'RentalCars_3',\n",
              " 'Restaurants_1',\n",
              " 'Restaurants_2',\n",
              " 'RideSharing_1',\n",
              " 'RideSharing_2',\n",
              " 'Services_1',\n",
              " 'Services_2',\n",
              " 'Services_3',\n",
              " 'Services_4',\n",
              " 'Trains_1',\n",
              " 'Travel_1',\n",
              " 'Weather_1'}"
            ]
          },
          "metadata": {},
          "execution_count": 251
        }
      ]
    },
    {
      "cell_type": "code",
      "metadata": {
        "colab": {
          "base_uri": "https://localhost:8080/"
        },
        "id": "WDiFFcnQ4-hW",
        "outputId": "6d87d13e-138a-4f7b-f3b7-b47d2365f9d2"
      },
      "source": [
        "print(len(data))"
      ],
      "execution_count": 252,
      "outputs": [
        {
          "output_type": "stream",
          "name": "stdout",
          "text": [
            "22825\n"
          ]
        }
      ]
    },
    {
      "cell_type": "code",
      "metadata": {
        "id": "2s7-a4W03MBs"
      },
      "source": [
        "data = [item for item in data if ('Restaurants_1' in item['services'] or 'Restaurants_2' in item['services'])]"
      ],
      "execution_count": 253,
      "outputs": []
    },
    {
      "cell_type": "code",
      "metadata": {
        "colab": {
          "base_uri": "https://localhost:8080/"
        },
        "id": "LI6wo1uL43H5",
        "outputId": "be2437e7-2554-445b-b72e-6ab988c0fb4f"
      },
      "source": [
        "print(len(data))"
      ],
      "execution_count": 254,
      "outputs": [
        {
          "output_type": "stream",
          "name": "stdout",
          "text": [
            "3218\n"
          ]
        }
      ]
    },
    {
      "cell_type": "code",
      "metadata": {
        "colab": {
          "base_uri": "https://localhost:8080/"
        },
        "id": "uIGdk5z05Dny",
        "outputId": "ba91673e-d91d-41ac-bf7a-009c59dda3d0"
      },
      "source": [
        "print(data[0])"
      ],
      "execution_count": 255,
      "outputs": [
        {
          "output_type": "stream",
          "name": "stdout",
          "text": [
            "{'dialogue_id': '60_00099', 'services': ['Events_1', 'Restaurants_1'], 'turns': [{'frames': [{'actions': [{'act': 'INFORM_INTENT', 'canonical_values': ['BuyEventTickets'], 'slot': 'intent', 'values': ['BuyEventTickets']}], 'service': 'Events_1', 'slots': [], 'state': {'active_intent': 'BuyEventTickets', 'requested_slots': [], 'slot_values': {}}}], 'speaker': 'USER', 'utterance': 'I am looking for tickets to an event.'}, {'frames': [{'actions': [{'act': 'REQUEST', 'canonical_values': [], 'slot': 'event_name', 'values': []}], 'service': 'Events_1', 'slots': []}], 'speaker': 'SYSTEM', 'utterance': 'Do you have a specific event in mind?'}, {'frames': [{'actions': [{'act': 'INFORM', 'canonical_values': ['Phutureprimitive'], 'slot': 'event_name', 'values': ['Phutureprimitive']}, {'act': 'INFORM', 'canonical_values': ['3'], 'slot': 'number_of_seats', 'values': ['3']}], 'service': 'Events_1', 'slots': [{'exclusive_end': 46, 'slot': 'event_name', 'start': 30}], 'state': {'active_intent': 'BuyEventTickets', 'requested_slots': [], 'slot_values': {'event_name': ['Phutureprimitive'], 'number_of_seats': ['3']}}}], 'speaker': 'USER', 'utterance': 'Yes, I want three tickets for Phutureprimitive.'}, {'frames': [{'actions': [{'act': 'REQUEST', 'canonical_values': [], 'slot': 'city_of_event', 'values': []}, {'act': 'REQUEST', 'canonical_values': [], 'slot': 'date', 'values': []}], 'service': 'Events_1', 'slots': []}], 'speaker': 'SYSTEM', 'utterance': 'What city are you looking in? Do you have a specific date?'}, {'frames': [{'actions': [{'act': 'INFORM', 'canonical_values': ['Berkeley'], 'slot': 'city_of_event', 'values': ['Berkeley']}, {'act': 'INFORM', 'canonical_values': ['2019-03-09'], 'slot': 'date', 'values': ['9th of this month']}], 'service': 'Events_1', 'slots': [{'exclusive_end': 30, 'slot': 'city_of_event', 'start': 22}, {'exclusive_end': 67, 'slot': 'date', 'start': 50}], 'state': {'active_intent': 'BuyEventTickets', 'requested_slots': [], 'slot_values': {'city_of_event': ['Berkeley'], 'date': ['9th of this month'], 'event_name': ['Phutureprimitive'], 'number_of_seats': ['3']}}}], 'speaker': 'USER', 'utterance': 'They are playing near Berkeley. I think it is the 9th of this month.'}, {'frames': [{'actions': [{'act': 'CONFIRM', 'canonical_values': ['Phutureprimitive'], 'slot': 'event_name', 'values': ['Phutureprimitive']}, {'act': 'CONFIRM', 'canonical_values': ['3'], 'slot': 'number_of_seats', 'values': ['3']}, {'act': 'CONFIRM', 'canonical_values': ['2019-03-09'], 'slot': 'date', 'values': ['March 9th']}, {'act': 'CONFIRM', 'canonical_values': ['Berkeley'], 'slot': 'city_of_event', 'values': ['Berkeley']}], 'service': 'Events_1', 'slots': [{'exclusive_end': 75, 'slot': 'event_name', 'start': 59}, {'exclusive_end': 101, 'slot': 'date', 'start': 92}, {'exclusive_end': 88, 'slot': 'city_of_event', 'start': 80}]}], 'speaker': 'SYSTEM', 'utterance': 'Please confirm your request. You are getting 3 tickets for Phutureprimitive, in Berkeley on March 9th.'}, {'frames': [{'actions': [{'act': 'REQUEST', 'canonical_values': [], 'slot': 'time', 'values': []}, {'act': 'REQUEST', 'canonical_values': [], 'slot': 'event_location', 'values': []}, {'act': 'AFFIRM', 'canonical_values': [], 'slot': '', 'values': []}], 'service': 'Events_1', 'slots': [], 'state': {'active_intent': 'BuyEventTickets', 'requested_slots': ['event_location', 'time'], 'slot_values': {'city_of_event': ['Berkeley'], 'date': ['9th of this month', 'March 9th'], 'event_name': ['Phutureprimitive'], 'number_of_seats': ['3']}}}], 'speaker': 'USER', 'utterance': \"Yes, that's correct. Where is that event happening? What time does it start?\"}, {'frames': [{'actions': [{'act': 'INFORM', 'canonical_values': ['Cornerstone Craft Beer & Live Music'], 'slot': 'event_location', 'values': ['Cornerstone Craft Beer & Live Music']}, {'act': 'INFORM', 'canonical_values': ['18:30'], 'slot': 'time', 'values': ['6:30 pm']}, {'act': 'NOTIFY_SUCCESS', 'canonical_values': [], 'slot': '', 'values': []}], 'service': 'Events_1', 'service_call': {'method': 'BuyEventTickets', 'parameters': {'city_of_event': 'Berkeley', 'date': '2019-03-09', 'event_name': 'Phutureprimitive', 'number_of_seats': '3'}}, 'service_results': [{'address_of_location': '2367 Shattuck Avenue', 'city_of_event': 'Berkeley', 'date': '2019-03-09', 'event_location': 'Cornerstone Craft Beer & Live Music', 'event_name': 'Phutureprimitive', 'number_of_seats': '3', 'time': '18:30'}], 'slots': [{'exclusive_end': 113, 'slot': 'event_location', 'start': 78}, {'exclusive_end': 74, 'slot': 'time', 'start': 67}]}], 'speaker': 'SYSTEM', 'utterance': 'Your reservation is confirmed. That event is scheduled to start at 6:30 pm at Cornerstone Craft Beer & Live Music.'}, {'frames': [{'actions': [{'act': 'INFORM', 'canonical_values': ['Japanese'], 'slot': 'cuisine', 'values': ['Izakaya']}, {'act': 'INFORM_INTENT', 'canonical_values': ['FindRestaurants'], 'slot': 'intent', 'values': ['FindRestaurants']}], 'service': 'Restaurants_1', 'slots': [{'exclusive_end': 61, 'slot': 'cuisine', 'start': 54}], 'state': {'active_intent': 'FindRestaurants', 'requested_slots': [], 'slot_values': {'city': ['Berkeley'], 'cuisine': ['Izakaya']}}}], 'speaker': 'USER', 'utterance': 'Good. I also need to find a restaurant. Are there any Izakaya places near there?'}, {'frames': [{'actions': [{'act': 'OFFER', 'canonical_values': ['Iyasare'], 'slot': 'restaurant_name', 'values': ['Iyasare']}, {'act': 'OFFER', 'canonical_values': ['Berkeley'], 'slot': 'city', 'values': ['Berkeley']}, {'act': 'INFORM_COUNT', 'canonical_values': ['4'], 'slot': 'count', 'values': ['4']}], 'service': 'Restaurants_1', 'service_call': {'method': 'FindRestaurants', 'parameters': {'city': 'Berkeley', 'cuisine': 'Japanese'}}, 'service_results': [{'city': 'Berkeley', 'cuisine': 'Japanese', 'has_live_music': 'False', 'phone_number': '510-845-8100', 'price_range': 'expensive', 'restaurant_name': 'Iyasare', 'serves_alcohol': 'True', 'street_address': '1830 Fourth Street'}, {'city': 'Berkeley', 'cuisine': 'Japanese', 'has_live_music': 'False', 'phone_number': '510-848-5260', 'price_range': 'moderate', 'restaurant_name': 'Joshu-ya Brasserie', 'serves_alcohol': 'True', 'street_address': '2441 Dwight Way'}, {'city': 'Berkeley', 'cuisine': 'Japanese', 'has_live_music': 'False', 'phone_number': '510-540-5000', 'price_range': 'moderate', 'restaurant_name': 'Kamado Sushi', 'serves_alcohol': 'False', 'street_address': '1400 Shattuck Avenue'}, {'city': 'Berkeley', 'cuisine': 'Japanese', 'has_live_music': 'False', 'phone_number': '510-524-1286', 'price_range': 'inexpensive', 'restaurant_name': 'Miyuki Japanese Restaurant', 'serves_alcohol': 'True', 'street_address': '1695 Solano Avenue'}], 'slots': [{'exclusive_end': 59, 'slot': 'restaurant_name', 'start': 52}, {'exclusive_end': 90, 'slot': 'city', 'start': 82}]}], 'speaker': 'SYSTEM', 'utterance': \"I have 4 restaurants for you to consider. How about Iyasare? That's a nice one in Berkeley.\"}, {'frames': [{'actions': [{'act': 'REQUEST', 'canonical_values': ['expensive'], 'slot': 'price_range', 'values': ['expensive']}, {'act': 'REQUEST', 'canonical_values': [], 'slot': 'street_address', 'values': []}], 'service': 'Restaurants_1', 'slots': [], 'state': {'active_intent': 'FindRestaurants', 'requested_slots': ['price_range', 'street_address'], 'slot_values': {'city': ['Berkeley'], 'cuisine': ['Izakaya']}}}], 'speaker': 'USER', 'utterance': \"Is the price range above average? What's the address?\"}, {'frames': [{'actions': [{'act': 'INFORM', 'canonical_values': ['expensive'], 'slot': 'price_range', 'values': ['expensive']}, {'act': 'INFORM', 'canonical_values': ['1830 Fourth Street'], 'slot': 'street_address', 'values': ['1830 Fourth Street']}], 'service': 'Restaurants_1', 'slots': [{'exclusive_end': 69, 'slot': 'street_address', 'start': 51}]}], 'speaker': 'SYSTEM', 'utterance': \"Their price range is expensive. They're located at 1830 Fourth Street.\"}, {'frames': [{'actions': [{'act': 'SELECT', 'canonical_values': [], 'slot': '', 'values': []}], 'service': 'Restaurants_1', 'slots': [], 'state': {'active_intent': 'FindRestaurants', 'requested_slots': [], 'slot_values': {'city': ['Berkeley'], 'cuisine': ['Izakaya'], 'restaurant_name': ['Iyasare']}}}], 'speaker': 'USER', 'utterance': 'Yes, that sounds good.'}, {'frames': [{'actions': [{'act': 'OFFER_INTENT', 'canonical_values': ['ReserveRestaurant'], 'slot': 'intent', 'values': ['ReserveRestaurant']}], 'service': 'Restaurants_1', 'slots': []}], 'speaker': 'SYSTEM', 'utterance': 'Would you like to reserve now?'}, {'frames': [{'actions': [{'act': 'NEGATE_INTENT', 'canonical_values': [], 'slot': '', 'values': []}], 'service': 'Restaurants_1', 'slots': [], 'state': {'active_intent': 'NONE', 'requested_slots': [], 'slot_values': {'city': ['Berkeley'], 'cuisine': ['Izakaya'], 'restaurant_name': ['Iyasare']}}}], 'speaker': 'USER', 'utterance': 'No, not now. Thanks.'}, {'frames': [{'actions': [{'act': 'REQ_MORE', 'canonical_values': [], 'slot': '', 'values': []}], 'service': 'Restaurants_1', 'slots': []}], 'speaker': 'SYSTEM', 'utterance': 'Is there anything else that you need today?'}, {'frames': [{'actions': [{'act': 'NEGATE', 'canonical_values': [], 'slot': '', 'values': []}, {'act': 'THANK_YOU', 'canonical_values': [], 'slot': '', 'values': []}], 'service': 'Restaurants_1', 'slots': [], 'state': {'active_intent': 'NONE', 'requested_slots': [], 'slot_values': {'city': ['Berkeley'], 'cuisine': ['Izakaya'], 'restaurant_name': ['Iyasare']}}}], 'speaker': 'USER', 'utterance': \"No, that's all.\"}, {'frames': [{'actions': [{'act': 'GOODBYE', 'canonical_values': [], 'slot': '', 'values': []}], 'service': 'Restaurants_1', 'slots': []}], 'speaker': 'SYSTEM', 'utterance': 'Have a great day.'}]}\n"
          ]
        }
      ]
    },
    {
      "cell_type": "code",
      "metadata": {
        "colab": {
          "base_uri": "https://localhost:8080/"
        },
        "id": "F21AR5w15erl",
        "outputId": "8736dab9-c24f-4943-dd9b-0893ca46b366"
      },
      "source": [
        "print(json.dumps(data[0], indent=4, sort_keys=True))"
      ],
      "execution_count": 256,
      "outputs": [
        {
          "output_type": "stream",
          "name": "stdout",
          "text": [
            "{\n",
            "    \"dialogue_id\": \"60_00099\",\n",
            "    \"services\": [\n",
            "        \"Events_1\",\n",
            "        \"Restaurants_1\"\n",
            "    ],\n",
            "    \"turns\": [\n",
            "        {\n",
            "            \"frames\": [\n",
            "                {\n",
            "                    \"actions\": [\n",
            "                        {\n",
            "                            \"act\": \"INFORM_INTENT\",\n",
            "                            \"canonical_values\": [\n",
            "                                \"BuyEventTickets\"\n",
            "                            ],\n",
            "                            \"slot\": \"intent\",\n",
            "                            \"values\": [\n",
            "                                \"BuyEventTickets\"\n",
            "                            ]\n",
            "                        }\n",
            "                    ],\n",
            "                    \"service\": \"Events_1\",\n",
            "                    \"slots\": [],\n",
            "                    \"state\": {\n",
            "                        \"active_intent\": \"BuyEventTickets\",\n",
            "                        \"requested_slots\": [],\n",
            "                        \"slot_values\": {}\n",
            "                    }\n",
            "                }\n",
            "            ],\n",
            "            \"speaker\": \"USER\",\n",
            "            \"utterance\": \"I am looking for tickets to an event.\"\n",
            "        },\n",
            "        {\n",
            "            \"frames\": [\n",
            "                {\n",
            "                    \"actions\": [\n",
            "                        {\n",
            "                            \"act\": \"REQUEST\",\n",
            "                            \"canonical_values\": [],\n",
            "                            \"slot\": \"event_name\",\n",
            "                            \"values\": []\n",
            "                        }\n",
            "                    ],\n",
            "                    \"service\": \"Events_1\",\n",
            "                    \"slots\": []\n",
            "                }\n",
            "            ],\n",
            "            \"speaker\": \"SYSTEM\",\n",
            "            \"utterance\": \"Do you have a specific event in mind?\"\n",
            "        },\n",
            "        {\n",
            "            \"frames\": [\n",
            "                {\n",
            "                    \"actions\": [\n",
            "                        {\n",
            "                            \"act\": \"INFORM\",\n",
            "                            \"canonical_values\": [\n",
            "                                \"Phutureprimitive\"\n",
            "                            ],\n",
            "                            \"slot\": \"event_name\",\n",
            "                            \"values\": [\n",
            "                                \"Phutureprimitive\"\n",
            "                            ]\n",
            "                        },\n",
            "                        {\n",
            "                            \"act\": \"INFORM\",\n",
            "                            \"canonical_values\": [\n",
            "                                \"3\"\n",
            "                            ],\n",
            "                            \"slot\": \"number_of_seats\",\n",
            "                            \"values\": [\n",
            "                                \"3\"\n",
            "                            ]\n",
            "                        }\n",
            "                    ],\n",
            "                    \"service\": \"Events_1\",\n",
            "                    \"slots\": [\n",
            "                        {\n",
            "                            \"exclusive_end\": 46,\n",
            "                            \"slot\": \"event_name\",\n",
            "                            \"start\": 30\n",
            "                        }\n",
            "                    ],\n",
            "                    \"state\": {\n",
            "                        \"active_intent\": \"BuyEventTickets\",\n",
            "                        \"requested_slots\": [],\n",
            "                        \"slot_values\": {\n",
            "                            \"event_name\": [\n",
            "                                \"Phutureprimitive\"\n",
            "                            ],\n",
            "                            \"number_of_seats\": [\n",
            "                                \"3\"\n",
            "                            ]\n",
            "                        }\n",
            "                    }\n",
            "                }\n",
            "            ],\n",
            "            \"speaker\": \"USER\",\n",
            "            \"utterance\": \"Yes, I want three tickets for Phutureprimitive.\"\n",
            "        },\n",
            "        {\n",
            "            \"frames\": [\n",
            "                {\n",
            "                    \"actions\": [\n",
            "                        {\n",
            "                            \"act\": \"REQUEST\",\n",
            "                            \"canonical_values\": [],\n",
            "                            \"slot\": \"city_of_event\",\n",
            "                            \"values\": []\n",
            "                        },\n",
            "                        {\n",
            "                            \"act\": \"REQUEST\",\n",
            "                            \"canonical_values\": [],\n",
            "                            \"slot\": \"date\",\n",
            "                            \"values\": []\n",
            "                        }\n",
            "                    ],\n",
            "                    \"service\": \"Events_1\",\n",
            "                    \"slots\": []\n",
            "                }\n",
            "            ],\n",
            "            \"speaker\": \"SYSTEM\",\n",
            "            \"utterance\": \"What city are you looking in? Do you have a specific date?\"\n",
            "        },\n",
            "        {\n",
            "            \"frames\": [\n",
            "                {\n",
            "                    \"actions\": [\n",
            "                        {\n",
            "                            \"act\": \"INFORM\",\n",
            "                            \"canonical_values\": [\n",
            "                                \"Berkeley\"\n",
            "                            ],\n",
            "                            \"slot\": \"city_of_event\",\n",
            "                            \"values\": [\n",
            "                                \"Berkeley\"\n",
            "                            ]\n",
            "                        },\n",
            "                        {\n",
            "                            \"act\": \"INFORM\",\n",
            "                            \"canonical_values\": [\n",
            "                                \"2019-03-09\"\n",
            "                            ],\n",
            "                            \"slot\": \"date\",\n",
            "                            \"values\": [\n",
            "                                \"9th of this month\"\n",
            "                            ]\n",
            "                        }\n",
            "                    ],\n",
            "                    \"service\": \"Events_1\",\n",
            "                    \"slots\": [\n",
            "                        {\n",
            "                            \"exclusive_end\": 30,\n",
            "                            \"slot\": \"city_of_event\",\n",
            "                            \"start\": 22\n",
            "                        },\n",
            "                        {\n",
            "                            \"exclusive_end\": 67,\n",
            "                            \"slot\": \"date\",\n",
            "                            \"start\": 50\n",
            "                        }\n",
            "                    ],\n",
            "                    \"state\": {\n",
            "                        \"active_intent\": \"BuyEventTickets\",\n",
            "                        \"requested_slots\": [],\n",
            "                        \"slot_values\": {\n",
            "                            \"city_of_event\": [\n",
            "                                \"Berkeley\"\n",
            "                            ],\n",
            "                            \"date\": [\n",
            "                                \"9th of this month\"\n",
            "                            ],\n",
            "                            \"event_name\": [\n",
            "                                \"Phutureprimitive\"\n",
            "                            ],\n",
            "                            \"number_of_seats\": [\n",
            "                                \"3\"\n",
            "                            ]\n",
            "                        }\n",
            "                    }\n",
            "                }\n",
            "            ],\n",
            "            \"speaker\": \"USER\",\n",
            "            \"utterance\": \"They are playing near Berkeley. I think it is the 9th of this month.\"\n",
            "        },\n",
            "        {\n",
            "            \"frames\": [\n",
            "                {\n",
            "                    \"actions\": [\n",
            "                        {\n",
            "                            \"act\": \"CONFIRM\",\n",
            "                            \"canonical_values\": [\n",
            "                                \"Phutureprimitive\"\n",
            "                            ],\n",
            "                            \"slot\": \"event_name\",\n",
            "                            \"values\": [\n",
            "                                \"Phutureprimitive\"\n",
            "                            ]\n",
            "                        },\n",
            "                        {\n",
            "                            \"act\": \"CONFIRM\",\n",
            "                            \"canonical_values\": [\n",
            "                                \"3\"\n",
            "                            ],\n",
            "                            \"slot\": \"number_of_seats\",\n",
            "                            \"values\": [\n",
            "                                \"3\"\n",
            "                            ]\n",
            "                        },\n",
            "                        {\n",
            "                            \"act\": \"CONFIRM\",\n",
            "                            \"canonical_values\": [\n",
            "                                \"2019-03-09\"\n",
            "                            ],\n",
            "                            \"slot\": \"date\",\n",
            "                            \"values\": [\n",
            "                                \"March 9th\"\n",
            "                            ]\n",
            "                        },\n",
            "                        {\n",
            "                            \"act\": \"CONFIRM\",\n",
            "                            \"canonical_values\": [\n",
            "                                \"Berkeley\"\n",
            "                            ],\n",
            "                            \"slot\": \"city_of_event\",\n",
            "                            \"values\": [\n",
            "                                \"Berkeley\"\n",
            "                            ]\n",
            "                        }\n",
            "                    ],\n",
            "                    \"service\": \"Events_1\",\n",
            "                    \"slots\": [\n",
            "                        {\n",
            "                            \"exclusive_end\": 75,\n",
            "                            \"slot\": \"event_name\",\n",
            "                            \"start\": 59\n",
            "                        },\n",
            "                        {\n",
            "                            \"exclusive_end\": 101,\n",
            "                            \"slot\": \"date\",\n",
            "                            \"start\": 92\n",
            "                        },\n",
            "                        {\n",
            "                            \"exclusive_end\": 88,\n",
            "                            \"slot\": \"city_of_event\",\n",
            "                            \"start\": 80\n",
            "                        }\n",
            "                    ]\n",
            "                }\n",
            "            ],\n",
            "            \"speaker\": \"SYSTEM\",\n",
            "            \"utterance\": \"Please confirm your request. You are getting 3 tickets for Phutureprimitive, in Berkeley on March 9th.\"\n",
            "        },\n",
            "        {\n",
            "            \"frames\": [\n",
            "                {\n",
            "                    \"actions\": [\n",
            "                        {\n",
            "                            \"act\": \"REQUEST\",\n",
            "                            \"canonical_values\": [],\n",
            "                            \"slot\": \"time\",\n",
            "                            \"values\": []\n",
            "                        },\n",
            "                        {\n",
            "                            \"act\": \"REQUEST\",\n",
            "                            \"canonical_values\": [],\n",
            "                            \"slot\": \"event_location\",\n",
            "                            \"values\": []\n",
            "                        },\n",
            "                        {\n",
            "                            \"act\": \"AFFIRM\",\n",
            "                            \"canonical_values\": [],\n",
            "                            \"slot\": \"\",\n",
            "                            \"values\": []\n",
            "                        }\n",
            "                    ],\n",
            "                    \"service\": \"Events_1\",\n",
            "                    \"slots\": [],\n",
            "                    \"state\": {\n",
            "                        \"active_intent\": \"BuyEventTickets\",\n",
            "                        \"requested_slots\": [\n",
            "                            \"event_location\",\n",
            "                            \"time\"\n",
            "                        ],\n",
            "                        \"slot_values\": {\n",
            "                            \"city_of_event\": [\n",
            "                                \"Berkeley\"\n",
            "                            ],\n",
            "                            \"date\": [\n",
            "                                \"9th of this month\",\n",
            "                                \"March 9th\"\n",
            "                            ],\n",
            "                            \"event_name\": [\n",
            "                                \"Phutureprimitive\"\n",
            "                            ],\n",
            "                            \"number_of_seats\": [\n",
            "                                \"3\"\n",
            "                            ]\n",
            "                        }\n",
            "                    }\n",
            "                }\n",
            "            ],\n",
            "            \"speaker\": \"USER\",\n",
            "            \"utterance\": \"Yes, that's correct. Where is that event happening? What time does it start?\"\n",
            "        },\n",
            "        {\n",
            "            \"frames\": [\n",
            "                {\n",
            "                    \"actions\": [\n",
            "                        {\n",
            "                            \"act\": \"INFORM\",\n",
            "                            \"canonical_values\": [\n",
            "                                \"Cornerstone Craft Beer & Live Music\"\n",
            "                            ],\n",
            "                            \"slot\": \"event_location\",\n",
            "                            \"values\": [\n",
            "                                \"Cornerstone Craft Beer & Live Music\"\n",
            "                            ]\n",
            "                        },\n",
            "                        {\n",
            "                            \"act\": \"INFORM\",\n",
            "                            \"canonical_values\": [\n",
            "                                \"18:30\"\n",
            "                            ],\n",
            "                            \"slot\": \"time\",\n",
            "                            \"values\": [\n",
            "                                \"6:30 pm\"\n",
            "                            ]\n",
            "                        },\n",
            "                        {\n",
            "                            \"act\": \"NOTIFY_SUCCESS\",\n",
            "                            \"canonical_values\": [],\n",
            "                            \"slot\": \"\",\n",
            "                            \"values\": []\n",
            "                        }\n",
            "                    ],\n",
            "                    \"service\": \"Events_1\",\n",
            "                    \"service_call\": {\n",
            "                        \"method\": \"BuyEventTickets\",\n",
            "                        \"parameters\": {\n",
            "                            \"city_of_event\": \"Berkeley\",\n",
            "                            \"date\": \"2019-03-09\",\n",
            "                            \"event_name\": \"Phutureprimitive\",\n",
            "                            \"number_of_seats\": \"3\"\n",
            "                        }\n",
            "                    },\n",
            "                    \"service_results\": [\n",
            "                        {\n",
            "                            \"address_of_location\": \"2367 Shattuck Avenue\",\n",
            "                            \"city_of_event\": \"Berkeley\",\n",
            "                            \"date\": \"2019-03-09\",\n",
            "                            \"event_location\": \"Cornerstone Craft Beer & Live Music\",\n",
            "                            \"event_name\": \"Phutureprimitive\",\n",
            "                            \"number_of_seats\": \"3\",\n",
            "                            \"time\": \"18:30\"\n",
            "                        }\n",
            "                    ],\n",
            "                    \"slots\": [\n",
            "                        {\n",
            "                            \"exclusive_end\": 113,\n",
            "                            \"slot\": \"event_location\",\n",
            "                            \"start\": 78\n",
            "                        },\n",
            "                        {\n",
            "                            \"exclusive_end\": 74,\n",
            "                            \"slot\": \"time\",\n",
            "                            \"start\": 67\n",
            "                        }\n",
            "                    ]\n",
            "                }\n",
            "            ],\n",
            "            \"speaker\": \"SYSTEM\",\n",
            "            \"utterance\": \"Your reservation is confirmed. That event is scheduled to start at 6:30 pm at Cornerstone Craft Beer & Live Music.\"\n",
            "        },\n",
            "        {\n",
            "            \"frames\": [\n",
            "                {\n",
            "                    \"actions\": [\n",
            "                        {\n",
            "                            \"act\": \"INFORM\",\n",
            "                            \"canonical_values\": [\n",
            "                                \"Japanese\"\n",
            "                            ],\n",
            "                            \"slot\": \"cuisine\",\n",
            "                            \"values\": [\n",
            "                                \"Izakaya\"\n",
            "                            ]\n",
            "                        },\n",
            "                        {\n",
            "                            \"act\": \"INFORM_INTENT\",\n",
            "                            \"canonical_values\": [\n",
            "                                \"FindRestaurants\"\n",
            "                            ],\n",
            "                            \"slot\": \"intent\",\n",
            "                            \"values\": [\n",
            "                                \"FindRestaurants\"\n",
            "                            ]\n",
            "                        }\n",
            "                    ],\n",
            "                    \"service\": \"Restaurants_1\",\n",
            "                    \"slots\": [\n",
            "                        {\n",
            "                            \"exclusive_end\": 61,\n",
            "                            \"slot\": \"cuisine\",\n",
            "                            \"start\": 54\n",
            "                        }\n",
            "                    ],\n",
            "                    \"state\": {\n",
            "                        \"active_intent\": \"FindRestaurants\",\n",
            "                        \"requested_slots\": [],\n",
            "                        \"slot_values\": {\n",
            "                            \"city\": [\n",
            "                                \"Berkeley\"\n",
            "                            ],\n",
            "                            \"cuisine\": [\n",
            "                                \"Izakaya\"\n",
            "                            ]\n",
            "                        }\n",
            "                    }\n",
            "                }\n",
            "            ],\n",
            "            \"speaker\": \"USER\",\n",
            "            \"utterance\": \"Good. I also need to find a restaurant. Are there any Izakaya places near there?\"\n",
            "        },\n",
            "        {\n",
            "            \"frames\": [\n",
            "                {\n",
            "                    \"actions\": [\n",
            "                        {\n",
            "                            \"act\": \"OFFER\",\n",
            "                            \"canonical_values\": [\n",
            "                                \"Iyasare\"\n",
            "                            ],\n",
            "                            \"slot\": \"restaurant_name\",\n",
            "                            \"values\": [\n",
            "                                \"Iyasare\"\n",
            "                            ]\n",
            "                        },\n",
            "                        {\n",
            "                            \"act\": \"OFFER\",\n",
            "                            \"canonical_values\": [\n",
            "                                \"Berkeley\"\n",
            "                            ],\n",
            "                            \"slot\": \"city\",\n",
            "                            \"values\": [\n",
            "                                \"Berkeley\"\n",
            "                            ]\n",
            "                        },\n",
            "                        {\n",
            "                            \"act\": \"INFORM_COUNT\",\n",
            "                            \"canonical_values\": [\n",
            "                                \"4\"\n",
            "                            ],\n",
            "                            \"slot\": \"count\",\n",
            "                            \"values\": [\n",
            "                                \"4\"\n",
            "                            ]\n",
            "                        }\n",
            "                    ],\n",
            "                    \"service\": \"Restaurants_1\",\n",
            "                    \"service_call\": {\n",
            "                        \"method\": \"FindRestaurants\",\n",
            "                        \"parameters\": {\n",
            "                            \"city\": \"Berkeley\",\n",
            "                            \"cuisine\": \"Japanese\"\n",
            "                        }\n",
            "                    },\n",
            "                    \"service_results\": [\n",
            "                        {\n",
            "                            \"city\": \"Berkeley\",\n",
            "                            \"cuisine\": \"Japanese\",\n",
            "                            \"has_live_music\": \"False\",\n",
            "                            \"phone_number\": \"510-845-8100\",\n",
            "                            \"price_range\": \"expensive\",\n",
            "                            \"restaurant_name\": \"Iyasare\",\n",
            "                            \"serves_alcohol\": \"True\",\n",
            "                            \"street_address\": \"1830 Fourth Street\"\n",
            "                        },\n",
            "                        {\n",
            "                            \"city\": \"Berkeley\",\n",
            "                            \"cuisine\": \"Japanese\",\n",
            "                            \"has_live_music\": \"False\",\n",
            "                            \"phone_number\": \"510-848-5260\",\n",
            "                            \"price_range\": \"moderate\",\n",
            "                            \"restaurant_name\": \"Joshu-ya Brasserie\",\n",
            "                            \"serves_alcohol\": \"True\",\n",
            "                            \"street_address\": \"2441 Dwight Way\"\n",
            "                        },\n",
            "                        {\n",
            "                            \"city\": \"Berkeley\",\n",
            "                            \"cuisine\": \"Japanese\",\n",
            "                            \"has_live_music\": \"False\",\n",
            "                            \"phone_number\": \"510-540-5000\",\n",
            "                            \"price_range\": \"moderate\",\n",
            "                            \"restaurant_name\": \"Kamado Sushi\",\n",
            "                            \"serves_alcohol\": \"False\",\n",
            "                            \"street_address\": \"1400 Shattuck Avenue\"\n",
            "                        },\n",
            "                        {\n",
            "                            \"city\": \"Berkeley\",\n",
            "                            \"cuisine\": \"Japanese\",\n",
            "                            \"has_live_music\": \"False\",\n",
            "                            \"phone_number\": \"510-524-1286\",\n",
            "                            \"price_range\": \"inexpensive\",\n",
            "                            \"restaurant_name\": \"Miyuki Japanese Restaurant\",\n",
            "                            \"serves_alcohol\": \"True\",\n",
            "                            \"street_address\": \"1695 Solano Avenue\"\n",
            "                        }\n",
            "                    ],\n",
            "                    \"slots\": [\n",
            "                        {\n",
            "                            \"exclusive_end\": 59,\n",
            "                            \"slot\": \"restaurant_name\",\n",
            "                            \"start\": 52\n",
            "                        },\n",
            "                        {\n",
            "                            \"exclusive_end\": 90,\n",
            "                            \"slot\": \"city\",\n",
            "                            \"start\": 82\n",
            "                        }\n",
            "                    ]\n",
            "                }\n",
            "            ],\n",
            "            \"speaker\": \"SYSTEM\",\n",
            "            \"utterance\": \"I have 4 restaurants for you to consider. How about Iyasare? That's a nice one in Berkeley.\"\n",
            "        },\n",
            "        {\n",
            "            \"frames\": [\n",
            "                {\n",
            "                    \"actions\": [\n",
            "                        {\n",
            "                            \"act\": \"REQUEST\",\n",
            "                            \"canonical_values\": [\n",
            "                                \"expensive\"\n",
            "                            ],\n",
            "                            \"slot\": \"price_range\",\n",
            "                            \"values\": [\n",
            "                                \"expensive\"\n",
            "                            ]\n",
            "                        },\n",
            "                        {\n",
            "                            \"act\": \"REQUEST\",\n",
            "                            \"canonical_values\": [],\n",
            "                            \"slot\": \"street_address\",\n",
            "                            \"values\": []\n",
            "                        }\n",
            "                    ],\n",
            "                    \"service\": \"Restaurants_1\",\n",
            "                    \"slots\": [],\n",
            "                    \"state\": {\n",
            "                        \"active_intent\": \"FindRestaurants\",\n",
            "                        \"requested_slots\": [\n",
            "                            \"price_range\",\n",
            "                            \"street_address\"\n",
            "                        ],\n",
            "                        \"slot_values\": {\n",
            "                            \"city\": [\n",
            "                                \"Berkeley\"\n",
            "                            ],\n",
            "                            \"cuisine\": [\n",
            "                                \"Izakaya\"\n",
            "                            ]\n",
            "                        }\n",
            "                    }\n",
            "                }\n",
            "            ],\n",
            "            \"speaker\": \"USER\",\n",
            "            \"utterance\": \"Is the price range above average? What's the address?\"\n",
            "        },\n",
            "        {\n",
            "            \"frames\": [\n",
            "                {\n",
            "                    \"actions\": [\n",
            "                        {\n",
            "                            \"act\": \"INFORM\",\n",
            "                            \"canonical_values\": [\n",
            "                                \"expensive\"\n",
            "                            ],\n",
            "                            \"slot\": \"price_range\",\n",
            "                            \"values\": [\n",
            "                                \"expensive\"\n",
            "                            ]\n",
            "                        },\n",
            "                        {\n",
            "                            \"act\": \"INFORM\",\n",
            "                            \"canonical_values\": [\n",
            "                                \"1830 Fourth Street\"\n",
            "                            ],\n",
            "                            \"slot\": \"street_address\",\n",
            "                            \"values\": [\n",
            "                                \"1830 Fourth Street\"\n",
            "                            ]\n",
            "                        }\n",
            "                    ],\n",
            "                    \"service\": \"Restaurants_1\",\n",
            "                    \"slots\": [\n",
            "                        {\n",
            "                            \"exclusive_end\": 69,\n",
            "                            \"slot\": \"street_address\",\n",
            "                            \"start\": 51\n",
            "                        }\n",
            "                    ]\n",
            "                }\n",
            "            ],\n",
            "            \"speaker\": \"SYSTEM\",\n",
            "            \"utterance\": \"Their price range is expensive. They're located at 1830 Fourth Street.\"\n",
            "        },\n",
            "        {\n",
            "            \"frames\": [\n",
            "                {\n",
            "                    \"actions\": [\n",
            "                        {\n",
            "                            \"act\": \"SELECT\",\n",
            "                            \"canonical_values\": [],\n",
            "                            \"slot\": \"\",\n",
            "                            \"values\": []\n",
            "                        }\n",
            "                    ],\n",
            "                    \"service\": \"Restaurants_1\",\n",
            "                    \"slots\": [],\n",
            "                    \"state\": {\n",
            "                        \"active_intent\": \"FindRestaurants\",\n",
            "                        \"requested_slots\": [],\n",
            "                        \"slot_values\": {\n",
            "                            \"city\": [\n",
            "                                \"Berkeley\"\n",
            "                            ],\n",
            "                            \"cuisine\": [\n",
            "                                \"Izakaya\"\n",
            "                            ],\n",
            "                            \"restaurant_name\": [\n",
            "                                \"Iyasare\"\n",
            "                            ]\n",
            "                        }\n",
            "                    }\n",
            "                }\n",
            "            ],\n",
            "            \"speaker\": \"USER\",\n",
            "            \"utterance\": \"Yes, that sounds good.\"\n",
            "        },\n",
            "        {\n",
            "            \"frames\": [\n",
            "                {\n",
            "                    \"actions\": [\n",
            "                        {\n",
            "                            \"act\": \"OFFER_INTENT\",\n",
            "                            \"canonical_values\": [\n",
            "                                \"ReserveRestaurant\"\n",
            "                            ],\n",
            "                            \"slot\": \"intent\",\n",
            "                            \"values\": [\n",
            "                                \"ReserveRestaurant\"\n",
            "                            ]\n",
            "                        }\n",
            "                    ],\n",
            "                    \"service\": \"Restaurants_1\",\n",
            "                    \"slots\": []\n",
            "                }\n",
            "            ],\n",
            "            \"speaker\": \"SYSTEM\",\n",
            "            \"utterance\": \"Would you like to reserve now?\"\n",
            "        },\n",
            "        {\n",
            "            \"frames\": [\n",
            "                {\n",
            "                    \"actions\": [\n",
            "                        {\n",
            "                            \"act\": \"NEGATE_INTENT\",\n",
            "                            \"canonical_values\": [],\n",
            "                            \"slot\": \"\",\n",
            "                            \"values\": []\n",
            "                        }\n",
            "                    ],\n",
            "                    \"service\": \"Restaurants_1\",\n",
            "                    \"slots\": [],\n",
            "                    \"state\": {\n",
            "                        \"active_intent\": \"NONE\",\n",
            "                        \"requested_slots\": [],\n",
            "                        \"slot_values\": {\n",
            "                            \"city\": [\n",
            "                                \"Berkeley\"\n",
            "                            ],\n",
            "                            \"cuisine\": [\n",
            "                                \"Izakaya\"\n",
            "                            ],\n",
            "                            \"restaurant_name\": [\n",
            "                                \"Iyasare\"\n",
            "                            ]\n",
            "                        }\n",
            "                    }\n",
            "                }\n",
            "            ],\n",
            "            \"speaker\": \"USER\",\n",
            "            \"utterance\": \"No, not now. Thanks.\"\n",
            "        },\n",
            "        {\n",
            "            \"frames\": [\n",
            "                {\n",
            "                    \"actions\": [\n",
            "                        {\n",
            "                            \"act\": \"REQ_MORE\",\n",
            "                            \"canonical_values\": [],\n",
            "                            \"slot\": \"\",\n",
            "                            \"values\": []\n",
            "                        }\n",
            "                    ],\n",
            "                    \"service\": \"Restaurants_1\",\n",
            "                    \"slots\": []\n",
            "                }\n",
            "            ],\n",
            "            \"speaker\": \"SYSTEM\",\n",
            "            \"utterance\": \"Is there anything else that you need today?\"\n",
            "        },\n",
            "        {\n",
            "            \"frames\": [\n",
            "                {\n",
            "                    \"actions\": [\n",
            "                        {\n",
            "                            \"act\": \"NEGATE\",\n",
            "                            \"canonical_values\": [],\n",
            "                            \"slot\": \"\",\n",
            "                            \"values\": []\n",
            "                        },\n",
            "                        {\n",
            "                            \"act\": \"THANK_YOU\",\n",
            "                            \"canonical_values\": [],\n",
            "                            \"slot\": \"\",\n",
            "                            \"values\": []\n",
            "                        }\n",
            "                    ],\n",
            "                    \"service\": \"Restaurants_1\",\n",
            "                    \"slots\": [],\n",
            "                    \"state\": {\n",
            "                        \"active_intent\": \"NONE\",\n",
            "                        \"requested_slots\": [],\n",
            "                        \"slot_values\": {\n",
            "                            \"city\": [\n",
            "                                \"Berkeley\"\n",
            "                            ],\n",
            "                            \"cuisine\": [\n",
            "                                \"Izakaya\"\n",
            "                            ],\n",
            "                            \"restaurant_name\": [\n",
            "                                \"Iyasare\"\n",
            "                            ]\n",
            "                        }\n",
            "                    }\n",
            "                }\n",
            "            ],\n",
            "            \"speaker\": \"USER\",\n",
            "            \"utterance\": \"No, that's all.\"\n",
            "        },\n",
            "        {\n",
            "            \"frames\": [\n",
            "                {\n",
            "                    \"actions\": [\n",
            "                        {\n",
            "                            \"act\": \"GOODBYE\",\n",
            "                            \"canonical_values\": [],\n",
            "                            \"slot\": \"\",\n",
            "                            \"values\": []\n",
            "                        }\n",
            "                    ],\n",
            "                    \"service\": \"Restaurants_1\",\n",
            "                    \"slots\": []\n",
            "                }\n",
            "            ],\n",
            "            \"speaker\": \"SYSTEM\",\n",
            "            \"utterance\": \"Have a great day.\"\n",
            "        }\n",
            "    ]\n",
            "}\n"
          ]
        }
      ]
    },
    {
      "cell_type": "code",
      "metadata": {
        "colab": {
          "base_uri": "https://localhost:8080/"
        },
        "id": "mNLqpU1x5y08",
        "outputId": "21530365-ba4e-486d-8467-87700cc02583"
      },
      "source": [
        "print(json.dumps(data[0]['turns'][0], indent=4, sort_keys=True))"
      ],
      "execution_count": 257,
      "outputs": [
        {
          "output_type": "stream",
          "name": "stdout",
          "text": [
            "{\n",
            "    \"frames\": [\n",
            "        {\n",
            "            \"actions\": [\n",
            "                {\n",
            "                    \"act\": \"INFORM_INTENT\",\n",
            "                    \"canonical_values\": [\n",
            "                        \"BuyEventTickets\"\n",
            "                    ],\n",
            "                    \"slot\": \"intent\",\n",
            "                    \"values\": [\n",
            "                        \"BuyEventTickets\"\n",
            "                    ]\n",
            "                }\n",
            "            ],\n",
            "            \"service\": \"Events_1\",\n",
            "            \"slots\": [],\n",
            "            \"state\": {\n",
            "                \"active_intent\": \"BuyEventTickets\",\n",
            "                \"requested_slots\": [],\n",
            "                \"slot_values\": {}\n",
            "            }\n",
            "        }\n",
            "    ],\n",
            "    \"speaker\": \"USER\",\n",
            "    \"utterance\": \"I am looking for tickets to an event.\"\n",
            "}\n"
          ]
        }
      ]
    },
    {
      "cell_type": "markdown",
      "metadata": {
        "id": "j8nJLh1sj3WJ"
      },
      "source": [
        "Separando um dataframe somente com os somentarios do usuarios para usarmos no na classificação de intenção"
      ]
    },
    {
      "cell_type": "code",
      "metadata": {
        "id": "mT2I1g3W7d2p"
      },
      "source": [
        "data3 = list()\n",
        "for item in data:\n",
        "  for turn in item['turns']:\n",
        "    if(turn['speaker'] == 'USER'):\n",
        "      #has_restaurant_frame = False\n",
        "      #for frame in turn['frames']:\n",
        "      #  if(frame['service'] == 'Restaurants_1' or frame['service'] == 'Restaurants_2'):\n",
        "      #    has_restaurant_frame = True\n",
        "      #if(has_restaurant_frame):\n",
        "      data3.append(turn)\n",
        "data = data3"
      ],
      "execution_count": 258,
      "outputs": []
    },
    {
      "cell_type": "code",
      "metadata": {
        "colab": {
          "base_uri": "https://localhost:8080/"
        },
        "id": "LrXEOcLh-n0N",
        "outputId": "a3f928be-d3ac-4d59-a559-c78fb890ea73"
      },
      "source": [
        "print(len(data))"
      ],
      "execution_count": 259,
      "outputs": [
        {
          "output_type": "stream",
          "name": "stdout",
          "text": [
            "38465\n"
          ]
        }
      ]
    },
    {
      "cell_type": "code",
      "metadata": {
        "colab": {
          "base_uri": "https://localhost:8080/"
        },
        "id": "0OSZbovS-r7S",
        "outputId": "dabc1e76-47bc-486f-d1a8-d30f5662b4b5"
      },
      "source": [
        "print(json.dumps(data[0], indent=4, sort_keys=True))"
      ],
      "execution_count": 260,
      "outputs": [
        {
          "output_type": "stream",
          "name": "stdout",
          "text": [
            "{\n",
            "    \"frames\": [\n",
            "        {\n",
            "            \"actions\": [\n",
            "                {\n",
            "                    \"act\": \"INFORM_INTENT\",\n",
            "                    \"canonical_values\": [\n",
            "                        \"BuyEventTickets\"\n",
            "                    ],\n",
            "                    \"slot\": \"intent\",\n",
            "                    \"values\": [\n",
            "                        \"BuyEventTickets\"\n",
            "                    ]\n",
            "                }\n",
            "            ],\n",
            "            \"service\": \"Events_1\",\n",
            "            \"slots\": [],\n",
            "            \"state\": {\n",
            "                \"active_intent\": \"BuyEventTickets\",\n",
            "                \"requested_slots\": [],\n",
            "                \"slot_values\": {}\n",
            "            }\n",
            "        }\n",
            "    ],\n",
            "    \"speaker\": \"USER\",\n",
            "    \"utterance\": \"I am looking for tickets to an event.\"\n",
            "}\n"
          ]
        }
      ]
    },
    {
      "cell_type": "code",
      "metadata": {
        "colab": {
          "base_uri": "https://localhost:8080/"
        },
        "id": "j7doiF8c-uGt",
        "outputId": "aadf96e4-56c1-4346-dda2-e7ecaf0008d5"
      },
      "source": [
        "print(json.dumps(data[1], indent=4, sort_keys=True))"
      ],
      "execution_count": 261,
      "outputs": [
        {
          "output_type": "stream",
          "name": "stdout",
          "text": [
            "{\n",
            "    \"frames\": [\n",
            "        {\n",
            "            \"actions\": [\n",
            "                {\n",
            "                    \"act\": \"INFORM\",\n",
            "                    \"canonical_values\": [\n",
            "                        \"Phutureprimitive\"\n",
            "                    ],\n",
            "                    \"slot\": \"event_name\",\n",
            "                    \"values\": [\n",
            "                        \"Phutureprimitive\"\n",
            "                    ]\n",
            "                },\n",
            "                {\n",
            "                    \"act\": \"INFORM\",\n",
            "                    \"canonical_values\": [\n",
            "                        \"3\"\n",
            "                    ],\n",
            "                    \"slot\": \"number_of_seats\",\n",
            "                    \"values\": [\n",
            "                        \"3\"\n",
            "                    ]\n",
            "                }\n",
            "            ],\n",
            "            \"service\": \"Events_1\",\n",
            "            \"slots\": [\n",
            "                {\n",
            "                    \"exclusive_end\": 46,\n",
            "                    \"slot\": \"event_name\",\n",
            "                    \"start\": 30\n",
            "                }\n",
            "            ],\n",
            "            \"state\": {\n",
            "                \"active_intent\": \"BuyEventTickets\",\n",
            "                \"requested_slots\": [],\n",
            "                \"slot_values\": {\n",
            "                    \"event_name\": [\n",
            "                        \"Phutureprimitive\"\n",
            "                    ],\n",
            "                    \"number_of_seats\": [\n",
            "                        \"3\"\n",
            "                    ]\n",
            "                }\n",
            "            }\n",
            "        }\n",
            "    ],\n",
            "    \"speaker\": \"USER\",\n",
            "    \"utterance\": \"Yes, I want three tickets for Phutureprimitive.\"\n",
            "}\n"
          ]
        }
      ]
    },
    {
      "cell_type": "markdown",
      "metadata": {
        "id": "8EKn5YYRl21f"
      },
      "source": [
        "Separando somente as informações que são relacionadas ao dominio ao qual iremos trabalhar, que é o de RESTAURANTES"
      ]
    },
    {
      "cell_type": "code",
      "metadata": {
        "id": "Vj7GncD5ZgL6"
      },
      "source": [
        "data3 = list()\n",
        "for item in data:\n",
        "  frame_has_restaurants = False\n",
        "  for frame in item['frames']:\n",
        "    if(frame['service'] == 'Restaurants_1' or frame['service'] == 'Restaurants_2'):\n",
        "      frame_has_restaurants = True\n",
        "  if frame_has_restaurants:\n",
        "    data3.append(item)\n",
        "data = data3"
      ],
      "execution_count": 262,
      "outputs": []
    },
    {
      "cell_type": "code",
      "metadata": {
        "id": "rpnrtsdrnV7O",
        "outputId": "7173cbf8-dc32-41f8-ea85-a43d7fe95dc5",
        "colab": {
          "base_uri": "https://localhost:8080/"
        }
      },
      "source": [
        "data[5]"
      ],
      "execution_count": 263,
      "outputs": [
        {
          "output_type": "execute_result",
          "data": {
            "text/plain": [
              "{'frames': [{'actions': [{'act': 'INFORM',\n",
              "     'canonical_values': ['moderate'],\n",
              "     'slot': 'price_range',\n",
              "     'values': ['moderate']},\n",
              "    {'act': 'INFORM',\n",
              "     'canonical_values': ['Mexican'],\n",
              "     'slot': 'cuisine',\n",
              "     'values': ['Tacos']},\n",
              "    {'act': 'INFORM_INTENT',\n",
              "     'canonical_values': ['FindRestaurants'],\n",
              "     'slot': 'intent',\n",
              "     'values': ['FindRestaurants']}],\n",
              "   'service': 'Restaurants_1',\n",
              "   'slots': [{'exclusive_end': 68, 'slot': 'cuisine', 'start': 63}],\n",
              "   'state': {'active_intent': 'FindRestaurants',\n",
              "    'requested_slots': [],\n",
              "    'slot_values': {'city': ['Oakland'],\n",
              "     'cuisine': ['Tacos'],\n",
              "     'price_range': ['moderate']}}}],\n",
              " 'speaker': 'USER',\n",
              " 'utterance': 'Yes, I also want to find an afforadable restaurant that offers Tacos.'}"
            ]
          },
          "metadata": {},
          "execution_count": 263
        }
      ]
    },
    {
      "cell_type": "code",
      "metadata": {
        "id": "fV2vz8kE-7qH"
      },
      "source": [
        "for item in data:\n",
        "  item['frames'] = [frame for frame in item['frames'] if (frame['service'] == 'Restaurants_1' or frame['service'] == 'Restaurants_2')]"
      ],
      "execution_count": 264,
      "outputs": []
    },
    {
      "cell_type": "code",
      "metadata": {
        "id": "dw3o_RVxrzZ7",
        "outputId": "2381c1a1-8098-4d45-d746-eab9c58fbbca",
        "colab": {
          "base_uri": "https://localhost:8080/"
        }
      },
      "source": [
        "print(json.dumps(item, indent=4, sort_keys=True))"
      ],
      "execution_count": 265,
      "outputs": [
        {
          "output_type": "stream",
          "name": "stdout",
          "text": [
            "{\n",
            "    \"frames\": [\n",
            "        {\n",
            "            \"actions\": [\n",
            "                {\n",
            "                    \"act\": \"THANK_YOU\",\n",
            "                    \"canonical_values\": [],\n",
            "                    \"slot\": \"\",\n",
            "                    \"values\": []\n",
            "                },\n",
            "                {\n",
            "                    \"act\": \"GOODBYE\",\n",
            "                    \"canonical_values\": [],\n",
            "                    \"slot\": \"\",\n",
            "                    \"values\": []\n",
            "                }\n",
            "            ],\n",
            "            \"service\": \"Restaurants_2\",\n",
            "            \"slots\": [],\n",
            "            \"state\": {\n",
            "                \"active_intent\": \"ReserveRestaurant\",\n",
            "                \"requested_slots\": [],\n",
            "                \"slot_values\": {\n",
            "                    \"category\": [\n",
            "                        \"Oriental\"\n",
            "                    ],\n",
            "                    \"date\": [\n",
            "                        \"3rd of March\",\n",
            "                        \"day after tomorrow\"\n",
            "                    ],\n",
            "                    \"location\": [\n",
            "                        \"Orinda\"\n",
            "                    ],\n",
            "                    \"number_of_seats\": [\n",
            "                        \"2\"\n",
            "                    ],\n",
            "                    \"restaurant_name\": [\n",
            "                        \"Siam Orchid\"\n",
            "                    ],\n",
            "                    \"time\": [\n",
            "                        \"6:45 pm\",\n",
            "                        \"evening 6:45\"\n",
            "                    ]\n",
            "                }\n",
            "            }\n",
            "        }\n",
            "    ],\n",
            "    \"speaker\": \"USER\",\n",
            "    \"utterance\": \"Thank you, that is all I need for now.\"\n",
            "}\n"
          ]
        }
      ]
    },
    {
      "cell_type": "code",
      "metadata": {
        "colab": {
          "base_uri": "https://localhost:8080/"
        },
        "id": "aMW0UlAxFJFU",
        "outputId": "581ab509-1b54-40e6-d2c2-4ac93383d9d1"
      },
      "source": [
        "print(json.dumps(data[0], indent=4, sort_keys=True))"
      ],
      "execution_count": 266,
      "outputs": [
        {
          "output_type": "stream",
          "name": "stdout",
          "text": [
            "{\n",
            "    \"frames\": [\n",
            "        {\n",
            "            \"actions\": [\n",
            "                {\n",
            "                    \"act\": \"INFORM\",\n",
            "                    \"canonical_values\": [\n",
            "                        \"Japanese\"\n",
            "                    ],\n",
            "                    \"slot\": \"cuisine\",\n",
            "                    \"values\": [\n",
            "                        \"Izakaya\"\n",
            "                    ]\n",
            "                },\n",
            "                {\n",
            "                    \"act\": \"INFORM_INTENT\",\n",
            "                    \"canonical_values\": [\n",
            "                        \"FindRestaurants\"\n",
            "                    ],\n",
            "                    \"slot\": \"intent\",\n",
            "                    \"values\": [\n",
            "                        \"FindRestaurants\"\n",
            "                    ]\n",
            "                }\n",
            "            ],\n",
            "            \"service\": \"Restaurants_1\",\n",
            "            \"slots\": [\n",
            "                {\n",
            "                    \"exclusive_end\": 61,\n",
            "                    \"slot\": \"cuisine\",\n",
            "                    \"start\": 54\n",
            "                }\n",
            "            ],\n",
            "            \"state\": {\n",
            "                \"active_intent\": \"FindRestaurants\",\n",
            "                \"requested_slots\": [],\n",
            "                \"slot_values\": {\n",
            "                    \"city\": [\n",
            "                        \"Berkeley\"\n",
            "                    ],\n",
            "                    \"cuisine\": [\n",
            "                        \"Izakaya\"\n",
            "                    ]\n",
            "                }\n",
            "            }\n",
            "        }\n",
            "    ],\n",
            "    \"speaker\": \"USER\",\n",
            "    \"utterance\": \"Good. I also need to find a restaurant. Are there any Izakaya places near there?\"\n",
            "}\n"
          ]
        }
      ]
    },
    {
      "cell_type": "markdown",
      "metadata": {
        "id": "-cfU7elJufyh"
      },
      "source": [
        "Identificando os ACTIONS que estão no dataset"
      ]
    },
    {
      "cell_type": "code",
      "metadata": {
        "id": "ZuATieGlSD6p"
      },
      "source": [
        "for item in data:\n",
        "  #item[\"intent\"] = item['frames'][0]['state']['active_intent']\n",
        "  #item.pop('speaker', None)\n",
        "  #item.pop('frames', None)\n",
        "  item[\"intent\"] = []\n",
        "  for intent in item['frames'][0]['actions']:\n",
        "    item[\"intent\"] += [intent['act']]"
      ],
      "execution_count": 267,
      "outputs": []
    },
    {
      "cell_type": "code",
      "metadata": {
        "id": "37WmFFGAeZNN"
      },
      "source": [
        "for item in data:\n",
        "  intents = list()\n",
        "  for intent in item['intent']:\n",
        "    if (intent == 'INFORM_INTENT'):\n",
        "      intent = item['frames'][0]['state']['active_intent']\n",
        "    intents.append(intent)\n",
        "    \n",
        "  item['intent'] = intents\n",
        "  #print(item['intent'])"
      ],
      "execution_count": 268,
      "outputs": []
    },
    {
      "cell_type": "code",
      "metadata": {
        "id": "OUGqRvXWgNpJ"
      },
      "source": [
        "for item in data:\n",
        "  item.pop('speaker', None)\n",
        "  item.pop('frames', None)"
      ],
      "execution_count": 269,
      "outputs": []
    },
    {
      "cell_type": "code",
      "metadata": {
        "colab": {
          "base_uri": "https://localhost:8080/"
        },
        "id": "jmQ3M2MvfxLm",
        "outputId": "28550fea-556c-4efb-9a91-dff2db1ccab3"
      },
      "source": [
        "data[0]"
      ],
      "execution_count": 270,
      "outputs": [
        {
          "output_type": "execute_result",
          "data": {
            "text/plain": [
              "{'intent': ['INFORM', 'FindRestaurants'],\n",
              " 'utterance': 'Good. I also need to find a restaurant. Are there any Izakaya places near there?'}"
            ]
          },
          "metadata": {},
          "execution_count": 270
        }
      ]
    },
    {
      "cell_type": "code",
      "metadata": {
        "id": "_NX2-_-NONGE",
        "outputId": "4454687f-e90b-44a0-9c6e-a378cd6602fb",
        "colab": {
          "base_uri": "https://localhost:8080/"
        }
      },
      "source": [
        "intents = set()\n",
        "for item in data:\n",
        "  for intent in item['intent']:\n",
        "    intents.add(intent)\n",
        "print(intents)\n",
        "num_classes = len(intents)\n",
        "print(len(intents))"
      ],
      "execution_count": 271,
      "outputs": [
        {
          "output_type": "stream",
          "name": "stdout",
          "text": [
            "{'AFFIRM', 'ReserveRestaurant', 'FindRestaurants', 'REQUEST', 'NEGATE', 'AFFIRM_INTENT', 'THANK_YOU', 'REQUEST_ALTS', 'SELECT', 'INFORM', 'NEGATE_INTENT', 'GOODBYE'}\n",
            "12\n"
          ]
        }
      ]
    },
    {
      "cell_type": "code",
      "metadata": {
        "id": "5zPpN9gQHM5A"
      },
      "source": [
        "import pandas as pd\n",
        "utterances = [item['utterance'] for item in data]\n",
        "df = pd.DataFrame({\"utterance\":utterances})"
      ],
      "execution_count": 272,
      "outputs": []
    },
    {
      "cell_type": "code",
      "metadata": {
        "id": "Gnrcd4k3Z0lu",
        "outputId": "8178de59-cac4-423c-e862-37c5b7b5a5ef",
        "colab": {
          "base_uri": "https://localhost:8080/",
          "height": 424
        }
      },
      "source": [
        "df"
      ],
      "execution_count": 273,
      "outputs": [
        {
          "output_type": "execute_result",
          "data": {
            "text/html": [
              "<div>\n",
              "<style scoped>\n",
              "    .dataframe tbody tr th:only-of-type {\n",
              "        vertical-align: middle;\n",
              "    }\n",
              "\n",
              "    .dataframe tbody tr th {\n",
              "        vertical-align: top;\n",
              "    }\n",
              "\n",
              "    .dataframe thead th {\n",
              "        text-align: right;\n",
              "    }\n",
              "</style>\n",
              "<table border=\"1\" class=\"dataframe\">\n",
              "  <thead>\n",
              "    <tr style=\"text-align: right;\">\n",
              "      <th></th>\n",
              "      <th>utterance</th>\n",
              "    </tr>\n",
              "  </thead>\n",
              "  <tbody>\n",
              "    <tr>\n",
              "      <th>0</th>\n",
              "      <td>Good. I also need to find a restaurant. Are th...</td>\n",
              "    </tr>\n",
              "    <tr>\n",
              "      <th>1</th>\n",
              "      <td>Is the price range above average? What's the a...</td>\n",
              "    </tr>\n",
              "    <tr>\n",
              "      <th>2</th>\n",
              "      <td>Yes, that sounds good.</td>\n",
              "    </tr>\n",
              "    <tr>\n",
              "      <th>3</th>\n",
              "      <td>No, not now. Thanks.</td>\n",
              "    </tr>\n",
              "    <tr>\n",
              "      <th>4</th>\n",
              "      <td>No, that's all.</td>\n",
              "    </tr>\n",
              "    <tr>\n",
              "      <th>...</th>\n",
              "      <td>...</td>\n",
              "    </tr>\n",
              "    <tr>\n",
              "      <th>23419</th>\n",
              "      <td>Ok, that will be good.</td>\n",
              "    </tr>\n",
              "    <tr>\n",
              "      <th>23420</th>\n",
              "      <td>Yes, I would like to reserve a table for the 3...</td>\n",
              "    </tr>\n",
              "    <tr>\n",
              "      <th>23421</th>\n",
              "      <td>Yes, please make it for in the evening 6:45.</td>\n",
              "    </tr>\n",
              "    <tr>\n",
              "      <th>23422</th>\n",
              "      <td>Yes, perfect, can you give me their user rating?</td>\n",
              "    </tr>\n",
              "    <tr>\n",
              "      <th>23423</th>\n",
              "      <td>Thank you, that is all I need for now.</td>\n",
              "    </tr>\n",
              "  </tbody>\n",
              "</table>\n",
              "<p>23424 rows × 1 columns</p>\n",
              "</div>"
            ],
            "text/plain": [
              "                                               utterance\n",
              "0      Good. I also need to find a restaurant. Are th...\n",
              "1      Is the price range above average? What's the a...\n",
              "2                                 Yes, that sounds good.\n",
              "3                                   No, not now. Thanks.\n",
              "4                                        No, that's all.\n",
              "...                                                  ...\n",
              "23419                             Ok, that will be good.\n",
              "23420  Yes, I would like to reserve a table for the 3...\n",
              "23421       Yes, please make it for in the evening 6:45.\n",
              "23422   Yes, perfect, can you give me their user rating?\n",
              "23423             Thank you, that is all I need for now.\n",
              "\n",
              "[23424 rows x 1 columns]"
            ]
          },
          "metadata": {},
          "execution_count": 273
        }
      ]
    },
    {
      "cell_type": "code",
      "metadata": {
        "colab": {
          "base_uri": "https://localhost:8080/"
        },
        "id": "kVq8ptIpW8ga",
        "outputId": "0ab4defb-3bf4-43c7-a171-e36a38a69037"
      },
      "source": [
        "intents"
      ],
      "execution_count": 274,
      "outputs": [
        {
          "output_type": "execute_result",
          "data": {
            "text/plain": [
              "{'AFFIRM',\n",
              " 'AFFIRM_INTENT',\n",
              " 'FindRestaurants',\n",
              " 'GOODBYE',\n",
              " 'INFORM',\n",
              " 'NEGATE',\n",
              " 'NEGATE_INTENT',\n",
              " 'REQUEST',\n",
              " 'REQUEST_ALTS',\n",
              " 'ReserveRestaurant',\n",
              " 'SELECT',\n",
              " 'THANK_YOU'}"
            ]
          },
          "metadata": {},
          "execution_count": 274
        }
      ]
    },
    {
      "cell_type": "code",
      "metadata": {
        "colab": {
          "base_uri": "https://localhost:8080/",
          "height": 206
        },
        "id": "wNex881LITab",
        "outputId": "ed953e94-d02a-4c16-8ce4-9dd170f198ec"
      },
      "source": [
        "for intent in intents:\n",
        "  df[intent] = 0\n",
        "  df['Others'] = 0\n",
        "df.head()"
      ],
      "execution_count": 275,
      "outputs": [
        {
          "output_type": "execute_result",
          "data": {
            "text/html": [
              "<div>\n",
              "<style scoped>\n",
              "    .dataframe tbody tr th:only-of-type {\n",
              "        vertical-align: middle;\n",
              "    }\n",
              "\n",
              "    .dataframe tbody tr th {\n",
              "        vertical-align: top;\n",
              "    }\n",
              "\n",
              "    .dataframe thead th {\n",
              "        text-align: right;\n",
              "    }\n",
              "</style>\n",
              "<table border=\"1\" class=\"dataframe\">\n",
              "  <thead>\n",
              "    <tr style=\"text-align: right;\">\n",
              "      <th></th>\n",
              "      <th>utterance</th>\n",
              "      <th>AFFIRM</th>\n",
              "      <th>Others</th>\n",
              "      <th>ReserveRestaurant</th>\n",
              "      <th>FindRestaurants</th>\n",
              "      <th>REQUEST</th>\n",
              "      <th>NEGATE</th>\n",
              "      <th>AFFIRM_INTENT</th>\n",
              "      <th>THANK_YOU</th>\n",
              "      <th>REQUEST_ALTS</th>\n",
              "      <th>SELECT</th>\n",
              "      <th>INFORM</th>\n",
              "      <th>NEGATE_INTENT</th>\n",
              "      <th>GOODBYE</th>\n",
              "    </tr>\n",
              "  </thead>\n",
              "  <tbody>\n",
              "    <tr>\n",
              "      <th>0</th>\n",
              "      <td>Good. I also need to find a restaurant. Are th...</td>\n",
              "      <td>0</td>\n",
              "      <td>0</td>\n",
              "      <td>0</td>\n",
              "      <td>0</td>\n",
              "      <td>0</td>\n",
              "      <td>0</td>\n",
              "      <td>0</td>\n",
              "      <td>0</td>\n",
              "      <td>0</td>\n",
              "      <td>0</td>\n",
              "      <td>0</td>\n",
              "      <td>0</td>\n",
              "      <td>0</td>\n",
              "    </tr>\n",
              "    <tr>\n",
              "      <th>1</th>\n",
              "      <td>Is the price range above average? What's the a...</td>\n",
              "      <td>0</td>\n",
              "      <td>0</td>\n",
              "      <td>0</td>\n",
              "      <td>0</td>\n",
              "      <td>0</td>\n",
              "      <td>0</td>\n",
              "      <td>0</td>\n",
              "      <td>0</td>\n",
              "      <td>0</td>\n",
              "      <td>0</td>\n",
              "      <td>0</td>\n",
              "      <td>0</td>\n",
              "      <td>0</td>\n",
              "    </tr>\n",
              "    <tr>\n",
              "      <th>2</th>\n",
              "      <td>Yes, that sounds good.</td>\n",
              "      <td>0</td>\n",
              "      <td>0</td>\n",
              "      <td>0</td>\n",
              "      <td>0</td>\n",
              "      <td>0</td>\n",
              "      <td>0</td>\n",
              "      <td>0</td>\n",
              "      <td>0</td>\n",
              "      <td>0</td>\n",
              "      <td>0</td>\n",
              "      <td>0</td>\n",
              "      <td>0</td>\n",
              "      <td>0</td>\n",
              "    </tr>\n",
              "    <tr>\n",
              "      <th>3</th>\n",
              "      <td>No, not now. Thanks.</td>\n",
              "      <td>0</td>\n",
              "      <td>0</td>\n",
              "      <td>0</td>\n",
              "      <td>0</td>\n",
              "      <td>0</td>\n",
              "      <td>0</td>\n",
              "      <td>0</td>\n",
              "      <td>0</td>\n",
              "      <td>0</td>\n",
              "      <td>0</td>\n",
              "      <td>0</td>\n",
              "      <td>0</td>\n",
              "      <td>0</td>\n",
              "    </tr>\n",
              "    <tr>\n",
              "      <th>4</th>\n",
              "      <td>No, that's all.</td>\n",
              "      <td>0</td>\n",
              "      <td>0</td>\n",
              "      <td>0</td>\n",
              "      <td>0</td>\n",
              "      <td>0</td>\n",
              "      <td>0</td>\n",
              "      <td>0</td>\n",
              "      <td>0</td>\n",
              "      <td>0</td>\n",
              "      <td>0</td>\n",
              "      <td>0</td>\n",
              "      <td>0</td>\n",
              "      <td>0</td>\n",
              "    </tr>\n",
              "  </tbody>\n",
              "</table>\n",
              "</div>"
            ],
            "text/plain": [
              "                                           utterance  ...  GOODBYE\n",
              "0  Good. I also need to find a restaurant. Are th...  ...        0\n",
              "1  Is the price range above average? What's the a...  ...        0\n",
              "2                             Yes, that sounds good.  ...        0\n",
              "3                               No, not now. Thanks.  ...        0\n",
              "4                                    No, that's all.  ...        0\n",
              "\n",
              "[5 rows x 14 columns]"
            ]
          },
          "metadata": {},
          "execution_count": 275
        }
      ]
    },
    {
      "cell_type": "code",
      "metadata": {
        "id": "z0MZQ6hiqOFs"
      },
      "source": [
        "for i in range(len(data)):\n",
        "  for intent in data[i]['intent']:\n",
        "\n",
        "    if 'FindRestaurants' in data[i]['intent']:\n",
        "      df.loc[i, 'FindRestaurants'] = 1\n",
        "    elif 'ReserveRestaurant' in data[i]['intent']:\n",
        "      df.loc[i, 'ReserveRestaurant'] = 1\n",
        "    else:\n",
        "      df.loc[i, 'Others'] = 1"
      ],
      "execution_count": 279,
      "outputs": []
    },
    {
      "cell_type": "code",
      "metadata": {
        "colab": {
          "base_uri": "https://localhost:8080/",
          "height": 206
        },
        "id": "fJSh5hICKh_e",
        "outputId": "d456a594-c87d-48ce-ed65-fe1a841a4a9c"
      },
      "source": [
        "df[df['ReserveRestaurant'] == 1].head()"
      ],
      "execution_count": 281,
      "outputs": [
        {
          "output_type": "execute_result",
          "data": {
            "text/html": [
              "<div>\n",
              "<style scoped>\n",
              "    .dataframe tbody tr th:only-of-type {\n",
              "        vertical-align: middle;\n",
              "    }\n",
              "\n",
              "    .dataframe tbody tr th {\n",
              "        vertical-align: top;\n",
              "    }\n",
              "\n",
              "    .dataframe thead th {\n",
              "        text-align: right;\n",
              "    }\n",
              "</style>\n",
              "<table border=\"1\" class=\"dataframe\">\n",
              "  <thead>\n",
              "    <tr style=\"text-align: right;\">\n",
              "      <th></th>\n",
              "      <th>utterance</th>\n",
              "      <th>AFFIRM</th>\n",
              "      <th>Others</th>\n",
              "      <th>ReserveRestaurant</th>\n",
              "      <th>FindRestaurants</th>\n",
              "      <th>REQUEST</th>\n",
              "      <th>NEGATE</th>\n",
              "      <th>AFFIRM_INTENT</th>\n",
              "      <th>THANK_YOU</th>\n",
              "      <th>REQUEST_ALTS</th>\n",
              "      <th>SELECT</th>\n",
              "      <th>INFORM</th>\n",
              "      <th>NEGATE_INTENT</th>\n",
              "      <th>GOODBYE</th>\n",
              "    </tr>\n",
              "  </thead>\n",
              "  <tbody>\n",
              "    <tr>\n",
              "      <th>729</th>\n",
              "      <td>I need a restaurant reservation.</td>\n",
              "      <td>0</td>\n",
              "      <td>0</td>\n",
              "      <td>1</td>\n",
              "      <td>0</td>\n",
              "      <td>0</td>\n",
              "      <td>0</td>\n",
              "      <td>0</td>\n",
              "      <td>0</td>\n",
              "      <td>0</td>\n",
              "      <td>0</td>\n",
              "      <td>0</td>\n",
              "      <td>0</td>\n",
              "      <td>0</td>\n",
              "    </tr>\n",
              "    <tr>\n",
              "      <th>735</th>\n",
              "      <td>On March 2nd we are going to celebrate my wedd...</td>\n",
              "      <td>0</td>\n",
              "      <td>0</td>\n",
              "      <td>1</td>\n",
              "      <td>0</td>\n",
              "      <td>0</td>\n",
              "      <td>0</td>\n",
              "      <td>0</td>\n",
              "      <td>0</td>\n",
              "      <td>0</td>\n",
              "      <td>0</td>\n",
              "      <td>0</td>\n",
              "      <td>0</td>\n",
              "      <td>0</td>\n",
              "    </tr>\n",
              "    <tr>\n",
              "      <th>741</th>\n",
              "      <td>id like to make a reservation for friday next ...</td>\n",
              "      <td>0</td>\n",
              "      <td>0</td>\n",
              "      <td>1</td>\n",
              "      <td>0</td>\n",
              "      <td>0</td>\n",
              "      <td>0</td>\n",
              "      <td>0</td>\n",
              "      <td>0</td>\n",
              "      <td>0</td>\n",
              "      <td>0</td>\n",
              "      <td>0</td>\n",
              "      <td>0</td>\n",
              "      <td>0</td>\n",
              "    </tr>\n",
              "    <tr>\n",
              "      <th>746</th>\n",
              "      <td>I would like to make a reservation at the rest...</td>\n",
              "      <td>0</td>\n",
              "      <td>0</td>\n",
              "      <td>1</td>\n",
              "      <td>0</td>\n",
              "      <td>0</td>\n",
              "      <td>0</td>\n",
              "      <td>0</td>\n",
              "      <td>0</td>\n",
              "      <td>0</td>\n",
              "      <td>0</td>\n",
              "      <td>0</td>\n",
              "      <td>0</td>\n",
              "      <td>0</td>\n",
              "    </tr>\n",
              "    <tr>\n",
              "      <th>753</th>\n",
              "      <td>I want to make a reservation at a restaurant.</td>\n",
              "      <td>0</td>\n",
              "      <td>0</td>\n",
              "      <td>1</td>\n",
              "      <td>0</td>\n",
              "      <td>0</td>\n",
              "      <td>0</td>\n",
              "      <td>0</td>\n",
              "      <td>0</td>\n",
              "      <td>0</td>\n",
              "      <td>0</td>\n",
              "      <td>0</td>\n",
              "      <td>0</td>\n",
              "      <td>0</td>\n",
              "    </tr>\n",
              "  </tbody>\n",
              "</table>\n",
              "</div>"
            ],
            "text/plain": [
              "                                             utterance  ...  GOODBYE\n",
              "729                   I need a restaurant reservation.  ...        0\n",
              "735  On March 2nd we are going to celebrate my wedd...  ...        0\n",
              "741  id like to make a reservation for friday next ...  ...        0\n",
              "746  I would like to make a reservation at the rest...  ...        0\n",
              "753      I want to make a reservation at a restaurant.  ...        0\n",
              "\n",
              "[5 rows x 14 columns]"
            ]
          },
          "metadata": {},
          "execution_count": 281
        }
      ]
    },
    {
      "cell_type": "code",
      "metadata": {
        "id": "BLBPKHHzx23G",
        "colab": {
          "base_uri": "https://localhost:8080/",
          "height": 363
        },
        "outputId": "c18aca01-9047-409b-f715-ff72ea9c90fd"
      },
      "source": [
        "df[df['Others'] != 0].head(10)"
      ],
      "execution_count": 284,
      "outputs": [
        {
          "output_type": "execute_result",
          "data": {
            "text/html": [
              "<div>\n",
              "<style scoped>\n",
              "    .dataframe tbody tr th:only-of-type {\n",
              "        vertical-align: middle;\n",
              "    }\n",
              "\n",
              "    .dataframe tbody tr th {\n",
              "        vertical-align: top;\n",
              "    }\n",
              "\n",
              "    .dataframe thead th {\n",
              "        text-align: right;\n",
              "    }\n",
              "</style>\n",
              "<table border=\"1\" class=\"dataframe\">\n",
              "  <thead>\n",
              "    <tr style=\"text-align: right;\">\n",
              "      <th></th>\n",
              "      <th>utterance</th>\n",
              "      <th>AFFIRM</th>\n",
              "      <th>Others</th>\n",
              "      <th>ReserveRestaurant</th>\n",
              "      <th>FindRestaurants</th>\n",
              "      <th>REQUEST</th>\n",
              "      <th>NEGATE</th>\n",
              "      <th>AFFIRM_INTENT</th>\n",
              "      <th>THANK_YOU</th>\n",
              "      <th>REQUEST_ALTS</th>\n",
              "      <th>SELECT</th>\n",
              "      <th>INFORM</th>\n",
              "      <th>NEGATE_INTENT</th>\n",
              "      <th>GOODBYE</th>\n",
              "    </tr>\n",
              "  </thead>\n",
              "  <tbody>\n",
              "    <tr>\n",
              "      <th>1</th>\n",
              "      <td>Is the price range above average? What's the a...</td>\n",
              "      <td>0</td>\n",
              "      <td>1</td>\n",
              "      <td>0</td>\n",
              "      <td>0</td>\n",
              "      <td>0</td>\n",
              "      <td>0</td>\n",
              "      <td>0</td>\n",
              "      <td>0</td>\n",
              "      <td>0</td>\n",
              "      <td>0</td>\n",
              "      <td>0</td>\n",
              "      <td>0</td>\n",
              "      <td>0</td>\n",
              "    </tr>\n",
              "    <tr>\n",
              "      <th>2</th>\n",
              "      <td>Yes, that sounds good.</td>\n",
              "      <td>0</td>\n",
              "      <td>1</td>\n",
              "      <td>0</td>\n",
              "      <td>0</td>\n",
              "      <td>0</td>\n",
              "      <td>0</td>\n",
              "      <td>0</td>\n",
              "      <td>0</td>\n",
              "      <td>0</td>\n",
              "      <td>0</td>\n",
              "      <td>0</td>\n",
              "      <td>0</td>\n",
              "      <td>0</td>\n",
              "    </tr>\n",
              "    <tr>\n",
              "      <th>3</th>\n",
              "      <td>No, not now. Thanks.</td>\n",
              "      <td>0</td>\n",
              "      <td>1</td>\n",
              "      <td>0</td>\n",
              "      <td>0</td>\n",
              "      <td>0</td>\n",
              "      <td>0</td>\n",
              "      <td>0</td>\n",
              "      <td>0</td>\n",
              "      <td>0</td>\n",
              "      <td>0</td>\n",
              "      <td>0</td>\n",
              "      <td>0</td>\n",
              "      <td>0</td>\n",
              "    </tr>\n",
              "    <tr>\n",
              "      <th>4</th>\n",
              "      <td>No, that's all.</td>\n",
              "      <td>0</td>\n",
              "      <td>1</td>\n",
              "      <td>0</td>\n",
              "      <td>0</td>\n",
              "      <td>0</td>\n",
              "      <td>0</td>\n",
              "      <td>0</td>\n",
              "      <td>0</td>\n",
              "      <td>0</td>\n",
              "      <td>0</td>\n",
              "      <td>0</td>\n",
              "      <td>0</td>\n",
              "      <td>0</td>\n",
              "    </tr>\n",
              "    <tr>\n",
              "      <th>6</th>\n",
              "      <td>is alcohol served there?</td>\n",
              "      <td>0</td>\n",
              "      <td>1</td>\n",
              "      <td>0</td>\n",
              "      <td>0</td>\n",
              "      <td>0</td>\n",
              "      <td>0</td>\n",
              "      <td>0</td>\n",
              "      <td>0</td>\n",
              "      <td>0</td>\n",
              "      <td>0</td>\n",
              "      <td>0</td>\n",
              "      <td>0</td>\n",
              "      <td>0</td>\n",
              "    </tr>\n",
              "    <tr>\n",
              "      <th>7</th>\n",
              "      <td>Can you suggest me someplace else?</td>\n",
              "      <td>0</td>\n",
              "      <td>1</td>\n",
              "      <td>0</td>\n",
              "      <td>0</td>\n",
              "      <td>0</td>\n",
              "      <td>0</td>\n",
              "      <td>0</td>\n",
              "      <td>0</td>\n",
              "      <td>0</td>\n",
              "      <td>0</td>\n",
              "      <td>0</td>\n",
              "      <td>0</td>\n",
              "      <td>0</td>\n",
              "    </tr>\n",
              "    <tr>\n",
              "      <th>8</th>\n",
              "      <td>Yes, that works. That would be all</td>\n",
              "      <td>0</td>\n",
              "      <td>1</td>\n",
              "      <td>0</td>\n",
              "      <td>0</td>\n",
              "      <td>0</td>\n",
              "      <td>0</td>\n",
              "      <td>0</td>\n",
              "      <td>0</td>\n",
              "      <td>0</td>\n",
              "      <td>0</td>\n",
              "      <td>0</td>\n",
              "      <td>0</td>\n",
              "      <td>0</td>\n",
              "    </tr>\n",
              "    <tr>\n",
              "      <th>10</th>\n",
              "      <td>Let's do Sicilian.</td>\n",
              "      <td>0</td>\n",
              "      <td>1</td>\n",
              "      <td>0</td>\n",
              "      <td>0</td>\n",
              "      <td>0</td>\n",
              "      <td>0</td>\n",
              "      <td>0</td>\n",
              "      <td>0</td>\n",
              "      <td>0</td>\n",
              "      <td>0</td>\n",
              "      <td>0</td>\n",
              "      <td>0</td>\n",
              "      <td>0</td>\n",
              "    </tr>\n",
              "    <tr>\n",
              "      <th>11</th>\n",
              "      <td>That works for me.</td>\n",
              "      <td>0</td>\n",
              "      <td>1</td>\n",
              "      <td>0</td>\n",
              "      <td>0</td>\n",
              "      <td>0</td>\n",
              "      <td>0</td>\n",
              "      <td>0</td>\n",
              "      <td>0</td>\n",
              "      <td>0</td>\n",
              "      <td>0</td>\n",
              "      <td>0</td>\n",
              "      <td>0</td>\n",
              "      <td>0</td>\n",
              "    </tr>\n",
              "    <tr>\n",
              "      <th>12</th>\n",
              "      <td>Not yet, that's it for now.</td>\n",
              "      <td>0</td>\n",
              "      <td>1</td>\n",
              "      <td>0</td>\n",
              "      <td>0</td>\n",
              "      <td>0</td>\n",
              "      <td>0</td>\n",
              "      <td>0</td>\n",
              "      <td>0</td>\n",
              "      <td>0</td>\n",
              "      <td>0</td>\n",
              "      <td>0</td>\n",
              "      <td>0</td>\n",
              "      <td>0</td>\n",
              "    </tr>\n",
              "  </tbody>\n",
              "</table>\n",
              "</div>"
            ],
            "text/plain": [
              "                                            utterance  ...  GOODBYE\n",
              "1   Is the price range above average? What's the a...  ...        0\n",
              "2                              Yes, that sounds good.  ...        0\n",
              "3                                No, not now. Thanks.  ...        0\n",
              "4                                     No, that's all.  ...        0\n",
              "6                            is alcohol served there?  ...        0\n",
              "7                  Can you suggest me someplace else?  ...        0\n",
              "8                  Yes, that works. That would be all  ...        0\n",
              "10                                 Let's do Sicilian.  ...        0\n",
              "11                                 That works for me.  ...        0\n",
              "12                        Not yet, that's it for now.  ...        0\n",
              "\n",
              "[10 rows x 14 columns]"
            ]
          },
          "metadata": {},
          "execution_count": 284
        }
      ]
    },
    {
      "cell_type": "code",
      "metadata": {
        "id": "1ZR3321Mytb4"
      },
      "source": [
        "df = df[['utterance','FindRestaurants','ReserveRestaurant','Others']]"
      ],
      "execution_count": 285,
      "outputs": []
    },
    {
      "cell_type": "code",
      "metadata": {
        "id": "RXEVehNBy_Mu",
        "colab": {
          "base_uri": "https://localhost:8080/",
          "height": 206
        },
        "outputId": "bb0cbb71-a838-47c0-cf01-c87ad3a708c6"
      },
      "source": [
        "df.head(5)"
      ],
      "execution_count": 286,
      "outputs": [
        {
          "output_type": "execute_result",
          "data": {
            "text/html": [
              "<div>\n",
              "<style scoped>\n",
              "    .dataframe tbody tr th:only-of-type {\n",
              "        vertical-align: middle;\n",
              "    }\n",
              "\n",
              "    .dataframe tbody tr th {\n",
              "        vertical-align: top;\n",
              "    }\n",
              "\n",
              "    .dataframe thead th {\n",
              "        text-align: right;\n",
              "    }\n",
              "</style>\n",
              "<table border=\"1\" class=\"dataframe\">\n",
              "  <thead>\n",
              "    <tr style=\"text-align: right;\">\n",
              "      <th></th>\n",
              "      <th>utterance</th>\n",
              "      <th>FindRestaurants</th>\n",
              "      <th>ReserveRestaurant</th>\n",
              "      <th>Others</th>\n",
              "    </tr>\n",
              "  </thead>\n",
              "  <tbody>\n",
              "    <tr>\n",
              "      <th>0</th>\n",
              "      <td>Good. I also need to find a restaurant. Are th...</td>\n",
              "      <td>1</td>\n",
              "      <td>0</td>\n",
              "      <td>0</td>\n",
              "    </tr>\n",
              "    <tr>\n",
              "      <th>1</th>\n",
              "      <td>Is the price range above average? What's the a...</td>\n",
              "      <td>0</td>\n",
              "      <td>0</td>\n",
              "      <td>1</td>\n",
              "    </tr>\n",
              "    <tr>\n",
              "      <th>2</th>\n",
              "      <td>Yes, that sounds good.</td>\n",
              "      <td>0</td>\n",
              "      <td>0</td>\n",
              "      <td>1</td>\n",
              "    </tr>\n",
              "    <tr>\n",
              "      <th>3</th>\n",
              "      <td>No, not now. Thanks.</td>\n",
              "      <td>0</td>\n",
              "      <td>0</td>\n",
              "      <td>1</td>\n",
              "    </tr>\n",
              "    <tr>\n",
              "      <th>4</th>\n",
              "      <td>No, that's all.</td>\n",
              "      <td>0</td>\n",
              "      <td>0</td>\n",
              "      <td>1</td>\n",
              "    </tr>\n",
              "  </tbody>\n",
              "</table>\n",
              "</div>"
            ],
            "text/plain": [
              "                                           utterance  ...  Others\n",
              "0  Good. I also need to find a restaurant. Are th...  ...       0\n",
              "1  Is the price range above average? What's the a...  ...       1\n",
              "2                             Yes, that sounds good.  ...       1\n",
              "3                               No, not now. Thanks.  ...       1\n",
              "4                                    No, that's all.  ...       1\n",
              "\n",
              "[5 rows x 4 columns]"
            ]
          },
          "metadata": {},
          "execution_count": 286
        }
      ]
    },
    {
      "cell_type": "code",
      "metadata": {
        "id": "SkpJItHohFWp",
        "outputId": "638b035b-1355-4a2b-ed63-e0471f767c8e",
        "colab": {
          "base_uri": "https://localhost:8080/"
        }
      },
      "source": [
        "df.count()"
      ],
      "execution_count": 287,
      "outputs": [
        {
          "output_type": "execute_result",
          "data": {
            "text/plain": [
              "utterance            23424\n",
              "FindRestaurants      23424\n",
              "ReserveRestaurant    23424\n",
              "Others               23424\n",
              "dtype: int64"
            ]
          },
          "metadata": {},
          "execution_count": 287
        }
      ]
    },
    {
      "cell_type": "code",
      "metadata": {
        "id": "vtUvWN07gM2b",
        "outputId": "357a35e4-340b-409a-d104-af3ef7048e66",
        "colab": {
          "base_uri": "https://localhost:8080/"
        }
      },
      "source": [
        "df.sum()"
      ],
      "execution_count": 288,
      "outputs": [
        {
          "output_type": "execute_result",
          "data": {
            "text/plain": [
              "utterance            Good. I also need to find a restaurant. Are th...\n",
              "FindRestaurants                                                   2717\n",
              "ReserveRestaurant                                                 2090\n",
              "Others                                                           18617\n",
              "dtype: object"
            ]
          },
          "metadata": {},
          "execution_count": 288
        }
      ]
    },
    {
      "cell_type": "markdown",
      "metadata": {
        "id": "GqcWT9IJhp47"
      },
      "source": [
        "Como o dataset está bem desbalanceado, precisamos fazer um reajuste nele para podermos equilibrar as coisas"
      ]
    },
    {
      "cell_type": "code",
      "metadata": {
        "id": "Xp8wTtf5jKPl",
        "outputId": "ac60142e-2139-411a-ff27-6cadc2570560",
        "colab": {
          "base_uri": "https://localhost:8080/",
          "height": 206
        }
      },
      "source": [
        "df.head(5)"
      ],
      "execution_count": 290,
      "outputs": [
        {
          "output_type": "execute_result",
          "data": {
            "text/html": [
              "<div>\n",
              "<style scoped>\n",
              "    .dataframe tbody tr th:only-of-type {\n",
              "        vertical-align: middle;\n",
              "    }\n",
              "\n",
              "    .dataframe tbody tr th {\n",
              "        vertical-align: top;\n",
              "    }\n",
              "\n",
              "    .dataframe thead th {\n",
              "        text-align: right;\n",
              "    }\n",
              "</style>\n",
              "<table border=\"1\" class=\"dataframe\">\n",
              "  <thead>\n",
              "    <tr style=\"text-align: right;\">\n",
              "      <th></th>\n",
              "      <th>utterance</th>\n",
              "      <th>FindRestaurants</th>\n",
              "      <th>ReserveRestaurant</th>\n",
              "      <th>Others</th>\n",
              "    </tr>\n",
              "  </thead>\n",
              "  <tbody>\n",
              "    <tr>\n",
              "      <th>0</th>\n",
              "      <td>Good. I also need to find a restaurant. Are th...</td>\n",
              "      <td>1</td>\n",
              "      <td>0</td>\n",
              "      <td>0</td>\n",
              "    </tr>\n",
              "    <tr>\n",
              "      <th>1</th>\n",
              "      <td>Is the price range above average? What's the a...</td>\n",
              "      <td>0</td>\n",
              "      <td>0</td>\n",
              "      <td>1</td>\n",
              "    </tr>\n",
              "    <tr>\n",
              "      <th>2</th>\n",
              "      <td>Yes, that sounds good.</td>\n",
              "      <td>0</td>\n",
              "      <td>0</td>\n",
              "      <td>1</td>\n",
              "    </tr>\n",
              "    <tr>\n",
              "      <th>3</th>\n",
              "      <td>No, not now. Thanks.</td>\n",
              "      <td>0</td>\n",
              "      <td>0</td>\n",
              "      <td>1</td>\n",
              "    </tr>\n",
              "    <tr>\n",
              "      <th>4</th>\n",
              "      <td>No, that's all.</td>\n",
              "      <td>0</td>\n",
              "      <td>0</td>\n",
              "      <td>1</td>\n",
              "    </tr>\n",
              "  </tbody>\n",
              "</table>\n",
              "</div>"
            ],
            "text/plain": [
              "                                           utterance  ...  Others\n",
              "0  Good. I also need to find a restaurant. Are th...  ...       0\n",
              "1  Is the price range above average? What's the a...  ...       1\n",
              "2                             Yes, that sounds good.  ...       1\n",
              "3                               No, not now. Thanks.  ...       1\n",
              "4                                    No, that's all.  ...       1\n",
              "\n",
              "[5 rows x 4 columns]"
            ]
          },
          "metadata": {},
          "execution_count": 290
        }
      ]
    },
    {
      "cell_type": "code",
      "metadata": {
        "id": "RRXGRhuIr7fz"
      },
      "source": [
        ""
      ],
      "execution_count": null,
      "outputs": []
    },
    {
      "cell_type": "code",
      "metadata": {
        "id": "99HnE0h5jKS5"
      },
      "source": [
        ""
      ],
      "execution_count": null,
      "outputs": []
    },
    {
      "cell_type": "markdown",
      "metadata": {
        "id": "AuC2TeDEhO1Z"
      },
      "source": [
        "#iniciando a classificação"
      ]
    },
    {
      "cell_type": "code",
      "metadata": {
        "id": "nka6hlquT4a0"
      },
      "source": [
        "import matplotlib.pyplot as plt\n",
        "import re\n",
        "import shutil\n",
        "import string\n",
        "import tensorflow as tf\n",
        "\n",
        "from tensorflow.keras import layers\n",
        "from tensorflow.keras.layers import Dense, Embedding, LSTM, SpatialDropout1D\n",
        "from tensorflow.keras import losses\n",
        "from tensorflow.keras import preprocessing"
      ],
      "execution_count": 291,
      "outputs": []
    },
    {
      "cell_type": "code",
      "metadata": {
        "id": "aS_ZzOGyh3qy"
      },
      "source": [
        "def custom_standardization(input_data):\n",
        "  lowercase = tf.strings.lower(input_data)\n",
        "  stripped_html = tf.strings.regex_replace(lowercase, '<br />', ' ')\n",
        "  return tf.strings.regex_replace(stripped_html,\n",
        "                                  '[%s]' % re.escape(string.punctuation),\n",
        "                                  '')"
      ],
      "execution_count": 292,
      "outputs": []
    },
    {
      "cell_type": "code",
      "metadata": {
        "id": "CQi7S8hJh5vn"
      },
      "source": [
        "max_features = 10000\n",
        "sequence_length = 250\n",
        "\n",
        "vectorize_layer = layers.TextVectorization(\n",
        "    standardize=custom_standardization,\n",
        "    max_tokens=max_features,\n",
        "    output_mode='int',\n",
        "    output_sequence_length=sequence_length)"
      ],
      "execution_count": 293,
      "outputs": []
    },
    {
      "cell_type": "code",
      "metadata": {
        "id": "YNHJKXJ3shcg"
      },
      "source": [
        "dd = df.to_dict(orient=\"list\")"
      ],
      "execution_count": 306,
      "outputs": []
    },
    {
      "cell_type": "code",
      "metadata": {
        "id": "2KcE-KwWs3k3",
        "outputId": "0f09a2c7-4b7f-4f90-9fbd-ec64eb7058ba",
        "colab": {
          "base_uri": "https://localhost:8080/",
          "height": 424
        }
      },
      "source": [
        "df"
      ],
      "execution_count": 317,
      "outputs": [
        {
          "output_type": "execute_result",
          "data": {
            "text/html": [
              "<div>\n",
              "<style scoped>\n",
              "    .dataframe tbody tr th:only-of-type {\n",
              "        vertical-align: middle;\n",
              "    }\n",
              "\n",
              "    .dataframe tbody tr th {\n",
              "        vertical-align: top;\n",
              "    }\n",
              "\n",
              "    .dataframe thead th {\n",
              "        text-align: right;\n",
              "    }\n",
              "</style>\n",
              "<table border=\"1\" class=\"dataframe\">\n",
              "  <thead>\n",
              "    <tr style=\"text-align: right;\">\n",
              "      <th></th>\n",
              "      <th>utterance</th>\n",
              "      <th>FindRestaurants</th>\n",
              "      <th>ReserveRestaurant</th>\n",
              "      <th>Others</th>\n",
              "    </tr>\n",
              "  </thead>\n",
              "  <tbody>\n",
              "    <tr>\n",
              "      <th>0</th>\n",
              "      <td>Good. I also need to find a restaurant. Are th...</td>\n",
              "      <td>1</td>\n",
              "      <td>0</td>\n",
              "      <td>0</td>\n",
              "    </tr>\n",
              "    <tr>\n",
              "      <th>1</th>\n",
              "      <td>Is the price range above average? What's the a...</td>\n",
              "      <td>0</td>\n",
              "      <td>0</td>\n",
              "      <td>1</td>\n",
              "    </tr>\n",
              "    <tr>\n",
              "      <th>2</th>\n",
              "      <td>Yes, that sounds good.</td>\n",
              "      <td>0</td>\n",
              "      <td>0</td>\n",
              "      <td>1</td>\n",
              "    </tr>\n",
              "    <tr>\n",
              "      <th>3</th>\n",
              "      <td>No, not now. Thanks.</td>\n",
              "      <td>0</td>\n",
              "      <td>0</td>\n",
              "      <td>1</td>\n",
              "    </tr>\n",
              "    <tr>\n",
              "      <th>4</th>\n",
              "      <td>No, that's all.</td>\n",
              "      <td>0</td>\n",
              "      <td>0</td>\n",
              "      <td>1</td>\n",
              "    </tr>\n",
              "    <tr>\n",
              "      <th>...</th>\n",
              "      <td>...</td>\n",
              "      <td>...</td>\n",
              "      <td>...</td>\n",
              "      <td>...</td>\n",
              "    </tr>\n",
              "    <tr>\n",
              "      <th>23419</th>\n",
              "      <td>Ok, that will be good.</td>\n",
              "      <td>0</td>\n",
              "      <td>0</td>\n",
              "      <td>1</td>\n",
              "    </tr>\n",
              "    <tr>\n",
              "      <th>23420</th>\n",
              "      <td>Yes, I would like to reserve a table for the 3...</td>\n",
              "      <td>0</td>\n",
              "      <td>0</td>\n",
              "      <td>1</td>\n",
              "    </tr>\n",
              "    <tr>\n",
              "      <th>23421</th>\n",
              "      <td>Yes, please make it for in the evening 6:45.</td>\n",
              "      <td>0</td>\n",
              "      <td>0</td>\n",
              "      <td>1</td>\n",
              "    </tr>\n",
              "    <tr>\n",
              "      <th>23422</th>\n",
              "      <td>Yes, perfect, can you give me their user rating?</td>\n",
              "      <td>0</td>\n",
              "      <td>0</td>\n",
              "      <td>1</td>\n",
              "    </tr>\n",
              "    <tr>\n",
              "      <th>23423</th>\n",
              "      <td>Thank you, that is all I need for now.</td>\n",
              "      <td>0</td>\n",
              "      <td>0</td>\n",
              "      <td>1</td>\n",
              "    </tr>\n",
              "  </tbody>\n",
              "</table>\n",
              "<p>23424 rows × 4 columns</p>\n",
              "</div>"
            ],
            "text/plain": [
              "                                               utterance  ...  Others\n",
              "0      Good. I also need to find a restaurant. Are th...  ...       0\n",
              "1      Is the price range above average? What's the a...  ...       1\n",
              "2                                 Yes, that sounds good.  ...       1\n",
              "3                                   No, not now. Thanks.  ...       1\n",
              "4                                        No, that's all.  ...       1\n",
              "...                                                  ...  ...     ...\n",
              "23419                             Ok, that will be good.  ...       1\n",
              "23420  Yes, I would like to reserve a table for the 3...  ...       1\n",
              "23421       Yes, please make it for in the evening 6:45.  ...       1\n",
              "23422   Yes, perfect, can you give me their user rating?  ...       1\n",
              "23423             Thank you, that is all I need for now.  ...       1\n",
              "\n",
              "[23424 rows x 4 columns]"
            ]
          },
          "metadata": {},
          "execution_count": 317
        }
      ]
    },
    {
      "cell_type": "markdown",
      "metadata": {
        "id": "XSwM_5V8vktI"
      },
      "source": [
        "Teste de vetorização de um texto"
      ]
    },
    {
      "cell_type": "code",
      "metadata": {
        "id": "UAltsKTHh70A"
      },
      "source": [
        "train_text = [x['utterance'] for x in data]\n",
        "train_labels = [y['intent'] for y in data]\n",
        "vectorize_layer.adapt(train_text)"
      ],
      "execution_count": 321,
      "outputs": []
    },
    {
      "cell_type": "code",
      "metadata": {
        "id": "EuSbsV-higRL"
      },
      "source": [
        "def vectorize_text(text):\n",
        "  #text = tf.expand_dims(text, -1)\n",
        "  return vectorize_layer(text)"
      ],
      "execution_count": 322,
      "outputs": []
    },
    {
      "cell_type": "code",
      "metadata": {
        "colab": {
          "base_uri": "https://localhost:8080/"
        },
        "id": "NoLhFeUhjDLK",
        "outputId": "81ba4dad-5be9-474a-cf9d-12e2c0854bb7"
      },
      "source": [
        "first_review = train_text[0]\n",
        "first_label = train_labels[0]\n",
        "print(\"Review\", first_review)\n",
        "#print(\"Label\", raw_train_ds.class_names[first_label])\n",
        "print(\"Label\", first_label)\n",
        "print(\"Vectorized review\", vectorize_text(first_review))"
      ],
      "execution_count": 323,
      "outputs": [
        {
          "output_type": "stream",
          "name": "stdout",
          "text": [
            "Review Good. I also need to find a restaurant. Are there any Izakaya places near there?\n",
            "Label ['INFORM', 'FindRestaurants']\n",
            "Vectorized review tf.Tensor(\n",
            "[ 31   3  52  42   5  17   2  12  66  16  78 295 200 207  16   0   0   0\n",
            "   0   0   0   0   0   0   0   0   0   0   0   0   0   0   0   0   0   0\n",
            "   0   0   0   0   0   0   0   0   0   0   0   0   0   0   0   0   0   0\n",
            "   0   0   0   0   0   0   0   0   0   0   0   0   0   0   0   0   0   0\n",
            "   0   0   0   0   0   0   0   0   0   0   0   0   0   0   0   0   0   0\n",
            "   0   0   0   0   0   0   0   0   0   0   0   0   0   0   0   0   0   0\n",
            "   0   0   0   0   0   0   0   0   0   0   0   0   0   0   0   0   0   0\n",
            "   0   0   0   0   0   0   0   0   0   0   0   0   0   0   0   0   0   0\n",
            "   0   0   0   0   0   0   0   0   0   0   0   0   0   0   0   0   0   0\n",
            "   0   0   0   0   0   0   0   0   0   0   0   0   0   0   0   0   0   0\n",
            "   0   0   0   0   0   0   0   0   0   0   0   0   0   0   0   0   0   0\n",
            "   0   0   0   0   0   0   0   0   0   0   0   0   0   0   0   0   0   0\n",
            "   0   0   0   0   0   0   0   0   0   0   0   0   0   0   0   0   0   0\n",
            "   0   0   0   0   0   0   0   0   0   0   0   0   0   0   0   0], shape=(250,), dtype=int64)\n"
          ]
        }
      ]
    },
    {
      "cell_type": "code",
      "metadata": {
        "colab": {
          "base_uri": "https://localhost:8080/"
        },
        "id": "IpjXCzlHjzkP",
        "outputId": "7a7a73c6-4ca9-4272-984b-948218a8b81c"
      },
      "source": [
        "print('Vocabulary size: {}'.format(len(vectorize_layer.get_vocabulary())))"
      ],
      "execution_count": 324,
      "outputs": [
        {
          "output_type": "stream",
          "name": "stdout",
          "text": [
            "Vocabulary size: 3054\n"
          ]
        }
      ]
    },
    {
      "cell_type": "markdown",
      "metadata": {
        "id": "je6im5PwY4Ch"
      },
      "source": [
        "Criando a REDE"
      ]
    },
    {
      "cell_type": "code",
      "metadata": {
        "colab": {
          "base_uri": "https://localhost:8080/"
        },
        "id": "0QvMV6CTktLz",
        "outputId": "40947c1d-080f-45a2-b0bc-e67ae8f863bb"
      },
      "source": [
        "embedding_dim = 16\n",
        "\n",
        "model = tf.keras.Sequential([\n",
        "  layers.Embedding(max_features + 1, embedding_dim),\n",
        "  #layers.Dropout(0.2),\n",
        "  #layers.GlobalAveragePooling1D(),\n",
        "  #layers.Dropout(0.2),\n",
        "  layers.SpatialDropout1D(0.2),\n",
        "  layers.LSTM(200, dropout=0.2, recurrent_dropout=0.2),\n",
        "  layers.Dense(3, activation='softmax')])\n",
        "\n",
        "model.summary()"
      ],
      "execution_count": 326,
      "outputs": [
        {
          "output_type": "stream",
          "name": "stdout",
          "text": [
            "Model: \"sequential\"\n",
            "_________________________________________________________________\n",
            "Layer (type)                 Output Shape              Param #   \n",
            "=================================================================\n",
            "embedding (Embedding)        (None, None, 16)          160016    \n",
            "_________________________________________________________________\n",
            "spatial_dropout1d (SpatialDr (None, None, 16)          0         \n",
            "_________________________________________________________________\n",
            "lstm (LSTM)                  (None, 200)               173600    \n",
            "_________________________________________________________________\n",
            "dense (Dense)                (None, 3)                 603       \n",
            "=================================================================\n",
            "Total params: 334,219\n",
            "Trainable params: 334,219\n",
            "Non-trainable params: 0\n",
            "_________________________________________________________________\n"
          ]
        }
      ]
    },
    {
      "cell_type": "code",
      "metadata": {
        "id": "SanvGcIaFsG_"
      },
      "source": [
        "model.compile(loss='categorical_crossentropy',\n",
        "              optimizer='adam',\n",
        "              metrics=['accuracy'])"
      ],
      "execution_count": 327,
      "outputs": []
    },
    {
      "cell_type": "code",
      "metadata": {
        "id": "t8HtDmfSPcmc"
      },
      "source": [
        "X_train = tf.convert_to_tensor([vectorize_text(utterance) for utterance in train_text])"
      ],
      "execution_count": 328,
      "outputs": []
    },
    {
      "cell_type": "code",
      "metadata": {
        "colab": {
          "base_uri": "https://localhost:8080/"
        },
        "id": "hT6eUzvmV7tw",
        "outputId": "fe49394a-7b0b-4f45-9e79-eb0d4757a959"
      },
      "source": [
        "X_train"
      ],
      "execution_count": 329,
      "outputs": [
        {
          "output_type": "execute_result",
          "data": {
            "text/plain": [
              "<tf.Tensor: shape=(23424, 250), dtype=int64, numpy=\n",
              "array([[31,  3, 52, ...,  0,  0,  0],\n",
              "       [ 9,  6, 98, ...,  0,  0,  0],\n",
              "       [13,  7, 37, ...,  0,  0,  0],\n",
              "       ...,\n",
              "       [13, 21, 27, ...,  0,  0,  0],\n",
              "       [13, 60, 15, ...,  0,  0,  0],\n",
              "       [35,  8,  7, ...,  0,  0,  0]])>"
            ]
          },
          "metadata": {},
          "execution_count": 329
        }
      ]
    },
    {
      "cell_type": "code",
      "metadata": {
        "colab": {
          "base_uri": "https://localhost:8080/"
        },
        "id": "D8HTueCfRzbN",
        "outputId": "cfe1b6e0-7879-436e-9e44-c9f6ae1a6c55"
      },
      "source": [
        "Y_train = df.loc[:, df.columns != 'utterance']\n",
        "Y_train = tf.convert_to_tensor(Y_train)\n",
        "Y_train"
      ],
      "execution_count": 330,
      "outputs": [
        {
          "output_type": "execute_result",
          "data": {
            "text/plain": [
              "<tf.Tensor: shape=(23424, 3), dtype=int64, numpy=\n",
              "array([[1, 0, 0],\n",
              "       [0, 0, 1],\n",
              "       [0, 0, 1],\n",
              "       ...,\n",
              "       [0, 0, 1],\n",
              "       [0, 0, 1],\n",
              "       [0, 0, 1]])>"
            ]
          },
          "metadata": {},
          "execution_count": 330
        }
      ]
    },
    {
      "cell_type": "code",
      "metadata": {
        "colab": {
          "base_uri": "https://localhost:8080/"
        },
        "id": "TnWdmfPqOnjN",
        "outputId": "ebed3bb3-3c35-40e2-d707-8e48096da27d"
      },
      "source": [
        "epochs = 10\n",
        "batch_size = 64\n",
        "\n",
        "history = model.fit(X_train, Y_train, epochs=epochs, batch_size=batch_size,validation_split=0.1)"
      ],
      "execution_count": 331,
      "outputs": [
        {
          "output_type": "stream",
          "name": "stdout",
          "text": [
            "Epoch 1/10\n",
            "330/330 [==============================] - 417s 1s/step - loss: 0.6633 - accuracy: 0.7934 - val_loss: 0.6227 - val_accuracy: 0.8054\n",
            "Epoch 2/10\n",
            "330/330 [==============================] - 415s 1s/step - loss: 0.6532 - accuracy: 0.7936 - val_loss: 0.6238 - val_accuracy: 0.8054\n",
            "Epoch 3/10\n",
            "330/330 [==============================] - 415s 1s/step - loss: 0.6521 - accuracy: 0.7936 - val_loss: 0.6244 - val_accuracy: 0.8054\n",
            "Epoch 4/10\n",
            "330/330 [==============================] - 415s 1s/step - loss: 0.6523 - accuracy: 0.7936 - val_loss: 0.6294 - val_accuracy: 0.8054\n",
            "Epoch 5/10\n",
            "330/330 [==============================] - 415s 1s/step - loss: 0.6522 - accuracy: 0.7936 - val_loss: 0.6244 - val_accuracy: 0.8054\n",
            "Epoch 6/10\n",
            "330/330 [==============================] - 416s 1s/step - loss: 0.6522 - accuracy: 0.7936 - val_loss: 0.6264 - val_accuracy: 0.8054\n",
            "Epoch 7/10\n",
            "330/330 [==============================] - 415s 1s/step - loss: 0.6525 - accuracy: 0.7936 - val_loss: 0.6238 - val_accuracy: 0.8054\n",
            "Epoch 8/10\n",
            "330/330 [==============================] - 416s 1s/step - loss: 0.6519 - accuracy: 0.7936 - val_loss: 0.6274 - val_accuracy: 0.8054\n",
            "Epoch 9/10\n",
            "330/330 [==============================] - 416s 1s/step - loss: 0.6523 - accuracy: 0.7936 - val_loss: 0.6243 - val_accuracy: 0.8054\n",
            "Epoch 10/10\n",
            "330/330 [==============================] - 416s 1s/step - loss: 0.6514 - accuracy: 0.7936 - val_loss: 0.6272 - val_accuracy: 0.8054\n"
          ]
        }
      ]
    },
    {
      "cell_type": "code",
      "metadata": {
        "id": "6LA543y3zZKn"
      },
      "source": [
        ""
      ],
      "execution_count": null,
      "outputs": []
    },
    {
      "cell_type": "code",
      "metadata": {
        "id": "P1xr-tS1ZAoy"
      },
      "source": [
        ""
      ],
      "execution_count": null,
      "outputs": []
    },
    {
      "cell_type": "code",
      "metadata": {
        "id": "i5D46UYiZArb"
      },
      "source": [
        ""
      ],
      "execution_count": null,
      "outputs": []
    },
    {
      "cell_type": "code",
      "metadata": {
        "id": "_cPxsNbDZAvD"
      },
      "source": [
        ""
      ],
      "execution_count": null,
      "outputs": []
    }
  ]
}